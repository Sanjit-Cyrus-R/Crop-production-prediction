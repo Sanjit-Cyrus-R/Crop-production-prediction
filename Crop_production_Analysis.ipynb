{
  "nbformat": 4,
  "nbformat_minor": 0,
  "metadata": {
    "colab": {
      "provenance": [],
      "gpuType": "T4"
    },
    "kernelspec": {
      "name": "python3",
      "display_name": "Python 3"
    },
    "language_info": {
      "name": "python"
    },
    "accelerator": "GPU"
  },
  "cells": [
    {
      "cell_type": "markdown",
      "source": [
        "# Crop Production Analysis of India"
      ],
      "metadata": {
        "id": "7FTEfWISGAc5"
      }
    },
    {
      "cell_type": "markdown",
      "source": [
        "## Data loading and basic info of data"
      ],
      "metadata": {
        "id": "oz4f2DUiHb2z"
      }
    },
    {
      "cell_type": "code",
      "execution_count": null,
      "metadata": {
        "id": "HuNm79IxF84x"
      },
      "outputs": [],
      "source": [
        "# Import necessary libraries\n",
        "import pandas as pd\n",
        "import numpy as np\n",
        "import seaborn as sns\n",
        "import matplotlib.pyplot as plt"
      ]
    },
    {
      "cell_type": "code",
      "source": [
        "# Create path varaibles\n",
        "path = '/content/drive/MyDrive/Crop Production data.csv'"
      ],
      "metadata": {
        "id": "PAjd45DxGXCD"
      },
      "execution_count": null,
      "outputs": []
    },
    {
      "cell_type": "code",
      "source": [
        "# Import csv file as pandas dataframe\n",
        "crop = pd.read_csv(path)"
      ],
      "metadata": {
        "id": "YLWHW6FRG_8c"
      },
      "execution_count": null,
      "outputs": []
    },
    {
      "cell_type": "code",
      "source": [
        "#Print first five rows of the dataframe\n",
        "crop.head()"
      ],
      "metadata": {
        "colab": {
          "base_uri": "https://localhost:8080/",
          "height": 206
        },
        "id": "2U8iPE8YHUfy",
        "outputId": "3e4e917d-5632-4848-b8f4-cf6953585589"
      },
      "execution_count": null,
      "outputs": [
        {
          "output_type": "execute_result",
          "data": {
            "text/plain": [
              "                    State_Name District_Name  Crop_Year       Season  \\\n",
              "0  Andaman and Nicobar Islands      NICOBARS       2000  Kharif        \n",
              "1  Andaman and Nicobar Islands      NICOBARS       2000  Kharif        \n",
              "2  Andaman and Nicobar Islands      NICOBARS       2000  Kharif        \n",
              "3  Andaman and Nicobar Islands      NICOBARS       2000  Whole Year    \n",
              "4  Andaman and Nicobar Islands      NICOBARS       2000  Whole Year    \n",
              "\n",
              "                  Crop    Area  Production  \n",
              "0             Arecanut  1254.0      2000.0  \n",
              "1  Other Kharif pulses     2.0         1.0  \n",
              "2                 Rice   102.0       321.0  \n",
              "3               Banana   176.0       641.0  \n",
              "4            Cashewnut   720.0       165.0  "
            ],
            "text/html": [
              "\n",
              "  <div id=\"df-23194f16-dba8-48eb-bcd8-f894473bf375\" class=\"colab-df-container\">\n",
              "    <div>\n",
              "<style scoped>\n",
              "    .dataframe tbody tr th:only-of-type {\n",
              "        vertical-align: middle;\n",
              "    }\n",
              "\n",
              "    .dataframe tbody tr th {\n",
              "        vertical-align: top;\n",
              "    }\n",
              "\n",
              "    .dataframe thead th {\n",
              "        text-align: right;\n",
              "    }\n",
              "</style>\n",
              "<table border=\"1\" class=\"dataframe\">\n",
              "  <thead>\n",
              "    <tr style=\"text-align: right;\">\n",
              "      <th></th>\n",
              "      <th>State_Name</th>\n",
              "      <th>District_Name</th>\n",
              "      <th>Crop_Year</th>\n",
              "      <th>Season</th>\n",
              "      <th>Crop</th>\n",
              "      <th>Area</th>\n",
              "      <th>Production</th>\n",
              "    </tr>\n",
              "  </thead>\n",
              "  <tbody>\n",
              "    <tr>\n",
              "      <th>0</th>\n",
              "      <td>Andaman and Nicobar Islands</td>\n",
              "      <td>NICOBARS</td>\n",
              "      <td>2000</td>\n",
              "      <td>Kharif</td>\n",
              "      <td>Arecanut</td>\n",
              "      <td>1254.0</td>\n",
              "      <td>2000.0</td>\n",
              "    </tr>\n",
              "    <tr>\n",
              "      <th>1</th>\n",
              "      <td>Andaman and Nicobar Islands</td>\n",
              "      <td>NICOBARS</td>\n",
              "      <td>2000</td>\n",
              "      <td>Kharif</td>\n",
              "      <td>Other Kharif pulses</td>\n",
              "      <td>2.0</td>\n",
              "      <td>1.0</td>\n",
              "    </tr>\n",
              "    <tr>\n",
              "      <th>2</th>\n",
              "      <td>Andaman and Nicobar Islands</td>\n",
              "      <td>NICOBARS</td>\n",
              "      <td>2000</td>\n",
              "      <td>Kharif</td>\n",
              "      <td>Rice</td>\n",
              "      <td>102.0</td>\n",
              "      <td>321.0</td>\n",
              "    </tr>\n",
              "    <tr>\n",
              "      <th>3</th>\n",
              "      <td>Andaman and Nicobar Islands</td>\n",
              "      <td>NICOBARS</td>\n",
              "      <td>2000</td>\n",
              "      <td>Whole Year</td>\n",
              "      <td>Banana</td>\n",
              "      <td>176.0</td>\n",
              "      <td>641.0</td>\n",
              "    </tr>\n",
              "    <tr>\n",
              "      <th>4</th>\n",
              "      <td>Andaman and Nicobar Islands</td>\n",
              "      <td>NICOBARS</td>\n",
              "      <td>2000</td>\n",
              "      <td>Whole Year</td>\n",
              "      <td>Cashewnut</td>\n",
              "      <td>720.0</td>\n",
              "      <td>165.0</td>\n",
              "    </tr>\n",
              "  </tbody>\n",
              "</table>\n",
              "</div>\n",
              "    <div class=\"colab-df-buttons\">\n",
              "\n",
              "  <div class=\"colab-df-container\">\n",
              "    <button class=\"colab-df-convert\" onclick=\"convertToInteractive('df-23194f16-dba8-48eb-bcd8-f894473bf375')\"\n",
              "            title=\"Convert this dataframe to an interactive table.\"\n",
              "            style=\"display:none;\">\n",
              "\n",
              "  <svg xmlns=\"http://www.w3.org/2000/svg\" height=\"24px\" viewBox=\"0 -960 960 960\">\n",
              "    <path d=\"M120-120v-720h720v720H120Zm60-500h600v-160H180v160Zm220 220h160v-160H400v160Zm0 220h160v-160H400v160ZM180-400h160v-160H180v160Zm440 0h160v-160H620v160ZM180-180h160v-160H180v160Zm440 0h160v-160H620v160Z\"/>\n",
              "  </svg>\n",
              "    </button>\n",
              "\n",
              "  <style>\n",
              "    .colab-df-container {\n",
              "      display:flex;\n",
              "      gap: 12px;\n",
              "    }\n",
              "\n",
              "    .colab-df-convert {\n",
              "      background-color: #E8F0FE;\n",
              "      border: none;\n",
              "      border-radius: 50%;\n",
              "      cursor: pointer;\n",
              "      display: none;\n",
              "      fill: #1967D2;\n",
              "      height: 32px;\n",
              "      padding: 0 0 0 0;\n",
              "      width: 32px;\n",
              "    }\n",
              "\n",
              "    .colab-df-convert:hover {\n",
              "      background-color: #E2EBFA;\n",
              "      box-shadow: 0px 1px 2px rgba(60, 64, 67, 0.3), 0px 1px 3px 1px rgba(60, 64, 67, 0.15);\n",
              "      fill: #174EA6;\n",
              "    }\n",
              "\n",
              "    .colab-df-buttons div {\n",
              "      margin-bottom: 4px;\n",
              "    }\n",
              "\n",
              "    [theme=dark] .colab-df-convert {\n",
              "      background-color: #3B4455;\n",
              "      fill: #D2E3FC;\n",
              "    }\n",
              "\n",
              "    [theme=dark] .colab-df-convert:hover {\n",
              "      background-color: #434B5C;\n",
              "      box-shadow: 0px 1px 3px 1px rgba(0, 0, 0, 0.15);\n",
              "      filter: drop-shadow(0px 1px 2px rgba(0, 0, 0, 0.3));\n",
              "      fill: #FFFFFF;\n",
              "    }\n",
              "  </style>\n",
              "\n",
              "    <script>\n",
              "      const buttonEl =\n",
              "        document.querySelector('#df-23194f16-dba8-48eb-bcd8-f894473bf375 button.colab-df-convert');\n",
              "      buttonEl.style.display =\n",
              "        google.colab.kernel.accessAllowed ? 'block' : 'none';\n",
              "\n",
              "      async function convertToInteractive(key) {\n",
              "        const element = document.querySelector('#df-23194f16-dba8-48eb-bcd8-f894473bf375');\n",
              "        const dataTable =\n",
              "          await google.colab.kernel.invokeFunction('convertToInteractive',\n",
              "                                                    [key], {});\n",
              "        if (!dataTable) return;\n",
              "\n",
              "        const docLinkHtml = 'Like what you see? Visit the ' +\n",
              "          '<a target=\"_blank\" href=https://colab.research.google.com/notebooks/data_table.ipynb>data table notebook</a>'\n",
              "          + ' to learn more about interactive tables.';\n",
              "        element.innerHTML = '';\n",
              "        dataTable['output_type'] = 'display_data';\n",
              "        await google.colab.output.renderOutput(dataTable, element);\n",
              "        const docLink = document.createElement('div');\n",
              "        docLink.innerHTML = docLinkHtml;\n",
              "        element.appendChild(docLink);\n",
              "      }\n",
              "    </script>\n",
              "  </div>\n",
              "\n",
              "\n",
              "<div id=\"df-3c07e557-5db9-483b-982f-da91cec022bf\">\n",
              "  <button class=\"colab-df-quickchart\" onclick=\"quickchart('df-3c07e557-5db9-483b-982f-da91cec022bf')\"\n",
              "            title=\"Suggest charts\"\n",
              "            style=\"display:none;\">\n",
              "\n",
              "<svg xmlns=\"http://www.w3.org/2000/svg\" height=\"24px\"viewBox=\"0 0 24 24\"\n",
              "     width=\"24px\">\n",
              "    <g>\n",
              "        <path d=\"M19 3H5c-1.1 0-2 .9-2 2v14c0 1.1.9 2 2 2h14c1.1 0 2-.9 2-2V5c0-1.1-.9-2-2-2zM9 17H7v-7h2v7zm4 0h-2V7h2v10zm4 0h-2v-4h2v4z\"/>\n",
              "    </g>\n",
              "</svg>\n",
              "  </button>\n",
              "\n",
              "<style>\n",
              "  .colab-df-quickchart {\n",
              "      --bg-color: #E8F0FE;\n",
              "      --fill-color: #1967D2;\n",
              "      --hover-bg-color: #E2EBFA;\n",
              "      --hover-fill-color: #174EA6;\n",
              "      --disabled-fill-color: #AAA;\n",
              "      --disabled-bg-color: #DDD;\n",
              "  }\n",
              "\n",
              "  [theme=dark] .colab-df-quickchart {\n",
              "      --bg-color: #3B4455;\n",
              "      --fill-color: #D2E3FC;\n",
              "      --hover-bg-color: #434B5C;\n",
              "      --hover-fill-color: #FFFFFF;\n",
              "      --disabled-bg-color: #3B4455;\n",
              "      --disabled-fill-color: #666;\n",
              "  }\n",
              "\n",
              "  .colab-df-quickchart {\n",
              "    background-color: var(--bg-color);\n",
              "    border: none;\n",
              "    border-radius: 50%;\n",
              "    cursor: pointer;\n",
              "    display: none;\n",
              "    fill: var(--fill-color);\n",
              "    height: 32px;\n",
              "    padding: 0;\n",
              "    width: 32px;\n",
              "  }\n",
              "\n",
              "  .colab-df-quickchart:hover {\n",
              "    background-color: var(--hover-bg-color);\n",
              "    box-shadow: 0 1px 2px rgba(60, 64, 67, 0.3), 0 1px 3px 1px rgba(60, 64, 67, 0.15);\n",
              "    fill: var(--button-hover-fill-color);\n",
              "  }\n",
              "\n",
              "  .colab-df-quickchart-complete:disabled,\n",
              "  .colab-df-quickchart-complete:disabled:hover {\n",
              "    background-color: var(--disabled-bg-color);\n",
              "    fill: var(--disabled-fill-color);\n",
              "    box-shadow: none;\n",
              "  }\n",
              "\n",
              "  .colab-df-spinner {\n",
              "    border: 2px solid var(--fill-color);\n",
              "    border-color: transparent;\n",
              "    border-bottom-color: var(--fill-color);\n",
              "    animation:\n",
              "      spin 1s steps(1) infinite;\n",
              "  }\n",
              "\n",
              "  @keyframes spin {\n",
              "    0% {\n",
              "      border-color: transparent;\n",
              "      border-bottom-color: var(--fill-color);\n",
              "      border-left-color: var(--fill-color);\n",
              "    }\n",
              "    20% {\n",
              "      border-color: transparent;\n",
              "      border-left-color: var(--fill-color);\n",
              "      border-top-color: var(--fill-color);\n",
              "    }\n",
              "    30% {\n",
              "      border-color: transparent;\n",
              "      border-left-color: var(--fill-color);\n",
              "      border-top-color: var(--fill-color);\n",
              "      border-right-color: var(--fill-color);\n",
              "    }\n",
              "    40% {\n",
              "      border-color: transparent;\n",
              "      border-right-color: var(--fill-color);\n",
              "      border-top-color: var(--fill-color);\n",
              "    }\n",
              "    60% {\n",
              "      border-color: transparent;\n",
              "      border-right-color: var(--fill-color);\n",
              "    }\n",
              "    80% {\n",
              "      border-color: transparent;\n",
              "      border-right-color: var(--fill-color);\n",
              "      border-bottom-color: var(--fill-color);\n",
              "    }\n",
              "    90% {\n",
              "      border-color: transparent;\n",
              "      border-bottom-color: var(--fill-color);\n",
              "    }\n",
              "  }\n",
              "</style>\n",
              "\n",
              "  <script>\n",
              "    async function quickchart(key) {\n",
              "      const quickchartButtonEl =\n",
              "        document.querySelector('#' + key + ' button');\n",
              "      quickchartButtonEl.disabled = true;  // To prevent multiple clicks.\n",
              "      quickchartButtonEl.classList.add('colab-df-spinner');\n",
              "      try {\n",
              "        const charts = await google.colab.kernel.invokeFunction(\n",
              "            'suggestCharts', [key], {});\n",
              "      } catch (error) {\n",
              "        console.error('Error during call to suggestCharts:', error);\n",
              "      }\n",
              "      quickchartButtonEl.classList.remove('colab-df-spinner');\n",
              "      quickchartButtonEl.classList.add('colab-df-quickchart-complete');\n",
              "    }\n",
              "    (() => {\n",
              "      let quickchartButtonEl =\n",
              "        document.querySelector('#df-3c07e557-5db9-483b-982f-da91cec022bf button');\n",
              "      quickchartButtonEl.style.display =\n",
              "        google.colab.kernel.accessAllowed ? 'block' : 'none';\n",
              "    })();\n",
              "  </script>\n",
              "</div>\n",
              "\n",
              "    </div>\n",
              "  </div>\n"
            ],
            "application/vnd.google.colaboratory.intrinsic+json": {
              "type": "dataframe",
              "variable_name": "crop"
            }
          },
          "metadata": {},
          "execution_count": 4
        }
      ]
    },
    {
      "cell_type": "code",
      "source": [
        "crop.info()"
      ],
      "metadata": {
        "colab": {
          "base_uri": "https://localhost:8080/"
        },
        "id": "yppoGOtFHhQa",
        "outputId": "54c93a15-1e4c-4018-9d71-420a70be17d2"
      },
      "execution_count": null,
      "outputs": [
        {
          "output_type": "stream",
          "name": "stdout",
          "text": [
            "<class 'pandas.core.frame.DataFrame'>\n",
            "RangeIndex: 246091 entries, 0 to 246090\n",
            "Data columns (total 7 columns):\n",
            " #   Column         Non-Null Count   Dtype  \n",
            "---  ------         --------------   -----  \n",
            " 0   State_Name     246091 non-null  object \n",
            " 1   District_Name  246091 non-null  object \n",
            " 2   Crop_Year      246091 non-null  int64  \n",
            " 3   Season         246091 non-null  object \n",
            " 4   Crop           246091 non-null  object \n",
            " 5   Area           246091 non-null  float64\n",
            " 6   Production     242361 non-null  float64\n",
            "dtypes: float64(2), int64(1), object(4)\n",
            "memory usage: 13.1+ MB\n"
          ]
        }
      ]
    },
    {
      "cell_type": "code",
      "source": [
        "# Changing datatype of crop year to string\n",
        "crop['Crop_Year'] = crop['Crop_Year'].astype(str)"
      ],
      "metadata": {
        "id": "yAxkmxmdHlxC"
      },
      "execution_count": null,
      "outputs": []
    },
    {
      "cell_type": "code",
      "source": [
        "crop.info()"
      ],
      "metadata": {
        "colab": {
          "base_uri": "https://localhost:8080/"
        },
        "id": "sj6mEz4tIC5n",
        "outputId": "8c3dba79-853c-49a8-fc9f-622b1450fed7"
      },
      "execution_count": null,
      "outputs": [
        {
          "output_type": "stream",
          "name": "stdout",
          "text": [
            "<class 'pandas.core.frame.DataFrame'>\n",
            "RangeIndex: 246091 entries, 0 to 246090\n",
            "Data columns (total 7 columns):\n",
            " #   Column         Non-Null Count   Dtype  \n",
            "---  ------         --------------   -----  \n",
            " 0   State_Name     246091 non-null  object \n",
            " 1   District_Name  246091 non-null  object \n",
            " 2   Crop_Year      246091 non-null  object \n",
            " 3   Season         246091 non-null  object \n",
            " 4   Crop           246091 non-null  object \n",
            " 5   Area           246091 non-null  float64\n",
            " 6   Production     242361 non-null  float64\n",
            "dtypes: float64(2), object(5)\n",
            "memory usage: 13.1+ MB\n"
          ]
        }
      ]
    },
    {
      "cell_type": "markdown",
      "source": [
        "## Data Preprocessing"
      ],
      "metadata": {
        "id": "X_WaiqLMII89"
      }
    },
    {
      "cell_type": "code",
      "source": [
        "crop.isna().sum()"
      ],
      "metadata": {
        "colab": {
          "base_uri": "https://localhost:8080/"
        },
        "id": "d8hObUzuIElM",
        "outputId": "5e7792b6-348d-454f-fbf7-83d1314c6b5b"
      },
      "execution_count": null,
      "outputs": [
        {
          "output_type": "execute_result",
          "data": {
            "text/plain": [
              "State_Name          0\n",
              "District_Name       0\n",
              "Crop_Year           0\n",
              "Season              0\n",
              "Crop                0\n",
              "Area                0\n",
              "Production       3730\n",
              "dtype: int64"
            ]
          },
          "metadata": {},
          "execution_count": 8
        }
      ]
    },
    {
      "cell_type": "markdown",
      "source": [
        "As we can see only the production column has missing values and it is only 3730 of 246091 rows ie. 1.5 % of missing values so by dropping them we don't lose a significant amount of data."
      ],
      "metadata": {
        "id": "NyblQLMfIeVF"
      }
    },
    {
      "cell_type": "code",
      "source": [
        "#dropping missing values\n",
        "crop = crop.dropna()"
      ],
      "metadata": {
        "id": "VABYeh3RISS-"
      },
      "execution_count": null,
      "outputs": []
    },
    {
      "cell_type": "code",
      "source": [
        "crop.isna().sum()"
      ],
      "metadata": {
        "colab": {
          "base_uri": "https://localhost:8080/"
        },
        "id": "gVTyaa_mQNHO",
        "outputId": "40597954-013c-4939-c173-e32390109a24"
      },
      "execution_count": null,
      "outputs": [
        {
          "output_type": "execute_result",
          "data": {
            "text/plain": [
              "State_Name       0\n",
              "District_Name    0\n",
              "Crop_Year        0\n",
              "Season           0\n",
              "Crop             0\n",
              "Area             0\n",
              "Production       0\n",
              "dtype: int64"
            ]
          },
          "metadata": {},
          "execution_count": 10
        }
      ]
    },
    {
      "cell_type": "code",
      "source": [
        "crop.info()"
      ],
      "metadata": {
        "colab": {
          "base_uri": "https://localhost:8080/"
        },
        "id": "n_BZYxCuQQrx",
        "outputId": "9dc4a0c3-20d3-4494-8ec7-3383913ff018"
      },
      "execution_count": null,
      "outputs": [
        {
          "output_type": "stream",
          "name": "stdout",
          "text": [
            "<class 'pandas.core.frame.DataFrame'>\n",
            "Index: 242361 entries, 0 to 246090\n",
            "Data columns (total 7 columns):\n",
            " #   Column         Non-Null Count   Dtype  \n",
            "---  ------         --------------   -----  \n",
            " 0   State_Name     242361 non-null  object \n",
            " 1   District_Name  242361 non-null  object \n",
            " 2   Crop_Year      242361 non-null  object \n",
            " 3   Season         242361 non-null  object \n",
            " 4   Crop           242361 non-null  object \n",
            " 5   Area           242361 non-null  float64\n",
            " 6   Production     242361 non-null  float64\n",
            "dtypes: float64(2), object(5)\n",
            "memory usage: 14.8+ MB\n"
          ]
        }
      ]
    },
    {
      "cell_type": "code",
      "source": [
        "# Taking the dataframe as csv file\n",
        "#crop.to_csv('crop_production_preprocessed.csv', index=True)"
      ],
      "metadata": {
        "id": "heLkKkzuvqNR"
      },
      "execution_count": null,
      "outputs": []
    },
    {
      "cell_type": "markdown",
      "source": [
        "Now that the data is clean we move on to the next part i.e Exploratory Data analysis"
      ],
      "metadata": {
        "id": "IpRrh7fbQcUV"
      }
    },
    {
      "cell_type": "markdown",
      "source": [
        "## Exploratory Data Analysis (EDA)"
      ],
      "metadata": {
        "id": "BoKw2UxDQkvr"
      }
    },
    {
      "cell_type": "markdown",
      "source": [
        "We Explore the data to find out the hidden patterns in a data set"
      ],
      "metadata": {
        "id": "lv2bflAuQtHz"
      }
    },
    {
      "cell_type": "code",
      "source": [
        "# Get a list of numercial and categorical variables\n",
        "num_cols = crop.select_dtypes(include=['int', 'float']).columns.tolist()\n",
        "cat_cols = crop.select_dtypes(include=['object']).columns.tolist()\n",
        "print(\"Numeric variables:\", num_cols )\n",
        "print(\"Categorical variables:\", cat_cols)"
      ],
      "metadata": {
        "colab": {
          "base_uri": "https://localhost:8080/"
        },
        "id": "jxOJqBipQTRy",
        "outputId": "7e9a461e-03a2-495b-fd39-6e0c1ebab703"
      },
      "execution_count": null,
      "outputs": [
        {
          "output_type": "stream",
          "name": "stdout",
          "text": [
            "Numeric variables: ['Area', 'Production']\n",
            "Categorical variables: ['State_Name', 'District_Name', 'Crop_Year', 'Season', 'Crop']\n"
          ]
        }
      ]
    },
    {
      "cell_type": "markdown",
      "source": [
        "### Categorical Variables"
      ],
      "metadata": {
        "id": "U9qYO6C2R1LU"
      }
    },
    {
      "cell_type": "markdown",
      "source": [
        "We explore the number of categories in each columns"
      ],
      "metadata": {
        "id": "1BkWSHQDSBiD"
      }
    },
    {
      "cell_type": "code",
      "source": [
        "for column in crop[cat_cols]:\n",
        "  num_categories = crop[column].nunique()\n",
        "  print(f\"Number of categories in {column}: {num_categories}\")"
      ],
      "metadata": {
        "colab": {
          "base_uri": "https://localhost:8080/"
        },
        "id": "PS7fY6AwRt3G",
        "outputId": "5c80797d-e73f-4ba5-f0cb-fea1b82a4838"
      },
      "execution_count": null,
      "outputs": [
        {
          "output_type": "stream",
          "name": "stdout",
          "text": [
            "Number of categories in State_Name: 33\n",
            "Number of categories in District_Name: 646\n",
            "Number of categories in Crop_Year: 19\n",
            "Number of categories in Season: 6\n",
            "Number of categories in Crop: 124\n"
          ]
        }
      ]
    },
    {
      "cell_type": "code",
      "source": [
        "crop['State_Name'].value_counts()"
      ],
      "metadata": {
        "colab": {
          "base_uri": "https://localhost:8080/"
        },
        "id": "cGKPJp6FSuHq",
        "outputId": "bd7923dd-77dc-4513-d35f-49ed1c065e4a"
      },
      "execution_count": null,
      "outputs": [
        {
          "output_type": "execute_result",
          "data": {
            "text/plain": [
              "State_Name\n",
              "Uttar Pradesh                  33189\n",
              "Madhya Pradesh                 22604\n",
              "Karnataka                      21079\n",
              "Bihar                          18874\n",
              "Assam                          14622\n",
              "Odisha                         13524\n",
              "Tamil Nadu                     13266\n",
              "Maharashtra                    12496\n",
              "Rajasthan                      12066\n",
              "Chhattisgarh                   10368\n",
              "West Bengal                     9597\n",
              "Andhra Pradesh                  9561\n",
              "Gujarat                         8365\n",
              "Telangana                       5591\n",
              "Uttarakhand                     4825\n",
              "Haryana                         4540\n",
              "Kerala                          4003\n",
              "Nagaland                        3904\n",
              "Punjab                          3143\n",
              "Meghalaya                       2867\n",
              "Arunachal Pradesh               2545\n",
              "Himachal Pradesh                2456\n",
              "Jammu and Kashmir               1632\n",
              "Tripura                         1412\n",
              "Manipur                         1266\n",
              "Jharkhand                       1266\n",
              "Mizoram                          954\n",
              "Puducherry                       872\n",
              "Sikkim                           714\n",
              "Dadra and Nagar Haveli           263\n",
              "Goa                              207\n",
              "Andaman and Nicobar Islands      201\n",
              "Chandigarh                        89\n",
              "Name: count, dtype: int64"
            ]
          },
          "metadata": {},
          "execution_count": 15
        }
      ]
    },
    {
      "cell_type": "code",
      "source": [
        "crop['Crop_Year'].value_counts()"
      ],
      "metadata": {
        "colab": {
          "base_uri": "https://localhost:8080/"
        },
        "id": "zqBHRMD3Ua5v",
        "outputId": "728fa913-b308-43e0-85e7-12eb954ecaaf"
      },
      "execution_count": null,
      "outputs": [
        {
          "output_type": "execute_result",
          "data": {
            "text/plain": [
              "Crop_Year\n",
              "2003    17139\n",
              "2002    16536\n",
              "2007    14269\n",
              "2008    14230\n",
              "2006    13976\n",
              "2004    13858\n",
              "2010    13793\n",
              "2011    13791\n",
              "2009    13767\n",
              "2000    13553\n",
              "2005    13519\n",
              "2013    13475\n",
              "2001    13293\n",
              "2012    13184\n",
              "1999    12441\n",
              "1998    11262\n",
              "2014    10815\n",
              "1997     8899\n",
              "2015      561\n",
              "Name: count, dtype: int64"
            ]
          },
          "metadata": {},
          "execution_count": 16
        }
      ]
    },
    {
      "cell_type": "code",
      "source": [
        "crop['Season'].value_counts()"
      ],
      "metadata": {
        "colab": {
          "base_uri": "https://localhost:8080/"
        },
        "id": "C_d_8tUkUuct",
        "outputId": "0bd876af-4d68-42be-eb28-412a5b53a350"
      },
      "execution_count": null,
      "outputs": [
        {
          "output_type": "execute_result",
          "data": {
            "text/plain": [
              "Season\n",
              "Kharif         94283\n",
              "Rabi           66160\n",
              "Whole Year     56127\n",
              "Summer         14811\n",
              "Winter          6050\n",
              "Autumn          4930\n",
              "Name: count, dtype: int64"
            ]
          },
          "metadata": {},
          "execution_count": 17
        }
      ]
    },
    {
      "cell_type": "markdown",
      "source": [
        "### Numerical Variables"
      ],
      "metadata": {
        "id": "j_JZNZ2gWYSs"
      }
    },
    {
      "cell_type": "code",
      "source": [
        "sns.scatterplot(crop[num_cols], x = 'Area', y = 'Production')"
      ],
      "metadata": {
        "colab": {
          "base_uri": "https://localhost:8080/",
          "height": 482
        },
        "id": "h1ZwORWCU8UV",
        "outputId": "f29540fd-f810-470c-d01c-bf411e2a8751"
      },
      "execution_count": null,
      "outputs": [
        {
          "output_type": "execute_result",
          "data": {
            "text/plain": [
              "<Axes: xlabel='Area', ylabel='Production'>"
            ]
          },
          "metadata": {},
          "execution_count": 18
        },
        {
          "output_type": "display_data",
          "data": {
            "text/plain": [
              "<Figure size 640x480 with 1 Axes>"
            ],
            "image/png": "[encoded data removed]"
          },
          "metadata": {}
        }
      ]
    },
    {
      "cell_type": "markdown",
      "source": [
        "From the scatter plot we can see that there is no clear relation between Area and the production quantity, so we also confirm this with the correlation coefficient in the below cell"
      ],
      "metadata": {
        "id": "7-Diyq6voXe3"
      }
    },
    {
      "cell_type": "code",
      "source": [
        "sns.heatmap(crop[num_cols].corr(), annot = True)"
      ],
      "metadata": {
        "colab": {
          "base_uri": "https://localhost:8080/",
          "height": 452
        },
        "id": "SERostUQW__r",
        "outputId": "557d8ca3-81b0-4f26-af9f-4084e5586133"
      },
      "execution_count": null,
      "outputs": [
        {
          "output_type": "execute_result",
          "data": {
            "text/plain": [
              "<Axes: >"
            ]
          },
          "metadata": {},
          "execution_count": 19
        },
        {
          "output_type": "display_data",
          "data": {
            "text/plain": [
              "<Figure size 640x480 with 2 Axes>"
            ],
            "image/png": "[encoded data removed]"
          },
          "metadata": {}
        }
      ]
    },
    {
      "cell_type": "markdown",
      "source": [],
      "metadata": {
        "id": "q2sbcnCzbC9C"
      }
    },
    {
      "cell_type": "markdown",
      "source": [
        "### EDA power BI dashboard and Insights\n",
        "\n",
        "The Rest of the EDA is done in power BI. The dashboard link us given below.\n",
        "\n",
        "\n",
        "[Crop production EDA Power BI Dashboard](https://app.powerbi.com/view?r=eyJrIjoiYTk1N2Q3NmQtM2QzMy00Y2QyLWEyMTEtZjE4ZTY1ZTdkNWYxIiwidCI6ImM2ZTU0OWIzLTVmNDUtNDAzMi1hYWU5LWQ0MjQ0ZGM1YjJjNCJ9&pageName=ReportSection)\n"
      ],
      "metadata": {
        "id": "6t6ChTYSPngM"
      }
    },
    {
      "cell_type": "markdown",
      "source": [
        "**INSIGHTS FROM EDA**\n",
        "\n",
        "**Explanation of pages in power BI dashboard**\n",
        "\n",
        "The power BI dashboard has 4 pages and each page is titled as followed.\n",
        "* Crop Production\n",
        "* Crop Production when top two crops are removed\n",
        "* Crop Production area\n",
        "* Crop produdction area when top crop is removed\n",
        "\n",
        "The pages ***Crop production*** and ***Crop Production when top two crops are removed***  has the following visuals\n",
        "\n",
        "* Crop production by type of crop\n",
        "* Crop production by year\n",
        "* Crop production by State\n",
        "* Crop production by District\n",
        "* Crop production by Season\n",
        "\n",
        "All the visuals except the year visual are set such that only the top 5 values are displayed.\n",
        "\n",
        "The only difference between the two pages of report are that in the second page the top two crops are filtered out from the visual. When we observe the visuals in the first page it is obvious that the top two crops that is **coconut** and **sugar cane** occupy the major value of the charts and the results are skewed towards that. So it is important to visualize the results of other crops.\n",
        "\n",
        "Filters of all the categories are given at the top of each page in order to visualize the data in our required formats.\n",
        "\n",
        "The pages ***Crop Production area*** and ***Crop production area when top crop is removed***  has the following visuals\n",
        "\n",
        "* Crop production area by type of crop\n",
        "* Crop production area by year\n",
        "* Crop production area by State\n",
        "* Crop production area by District\n",
        "* Production per area by crop\n",
        "\n",
        "In the above production per area is a new measure created and it is a ratio of production to the area that the crop has been produced\n",
        "\n",
        "**Findings**\n",
        "1. We find that the coconut and sugarcane occupy the top two spots for the production of crop in India\n",
        "2. Whole year crops are produced more than seasonal crops.\n",
        "3. Kerala State produces the highest crops compared to any other state\n",
        "4. When top two crops are removed then rice becomes the highest produced crop in India\n",
        "5. When top two crops are removed then Uttar Pradesh becomes the state that produces the highest crops.\n",
        "6. Rabi season crops are produced more than other seasonal crops when top two crops are removed\n",
        "7. There is a variability in the crop production area throughout the years 1997 to 2015.\n",
        "8. The production per area of coconut is the highest among all crops.\n",
        "\n",
        "\n",
        "\n",
        "\n"
      ],
      "metadata": {
        "id": "-oNBRlimRL9B"
      }
    },
    {
      "cell_type": "markdown",
      "source": [
        "## Feature Engineering"
      ],
      "metadata": {
        "id": "xUkPQAWKsZrA"
      }
    },
    {
      "cell_type": "markdown",
      "source": [
        "The next step after EDA is feature engineering. This is a process of identifying the variables that are necessary for the for the machine learning process. The variable we are trying to predict is crop production. In this section we would explore how other variables relate to crop production"
      ],
      "metadata": {
        "id": "af0AiBPOwwIg"
      }
    },
    {
      "cell_type": "markdown",
      "source": [
        "As we have already seen in the numerical variables section of EDA. There is  not much correlation between area and production of the crop when taken as whole but I would like to explore what happens when correlation is checked when the correlation is checked on a particular categorical basis"
      ],
      "metadata": {
        "id": "FfwhgWIcxrH8"
      }
    },
    {
      "cell_type": "code",
      "source": [
        "def calculate_correlation(df, category_column, x_column = 'Area' , y_column = 'Production'):\n",
        "    unique_categories = df[category_column].unique()\n",
        "    correlation_coefficients = {}\n",
        "    for category in unique_categories:\n",
        "        subset = df[df[category_column] == category]\n",
        "        correlation_coefficients[category] = subset[x_column].corr(subset[y_column])\n",
        "    return correlation_coefficients\n",
        "calculate_correlation(crop, 'Crop')\n"
      ],
      "metadata": {
        "id": "5qTdmYIYp6c9",
        "colab": {
          "base_uri": "https://localhost:8080/"
        },
        "outputId": "f05ca98c-2c0b-45cf-f845-5aba2b263f7a"
      },
      "execution_count": null,
      "outputs": [
        {
          "output_type": "stream",
          "name": "stderr",
          "text": [
            "/usr/local/lib/python3.10/dist-packages/numpy/lib/function_base.py:2846: RuntimeWarning: Degrees of freedom <= 0 for slice\n",
            "  c = cov(x, y, rowvar, dtype=dtype)\n",
            "/usr/local/lib/python3.10/dist-packages/numpy/lib/function_base.py:2705: RuntimeWarning: divide by zero encountered in divide\n",
            "  c *= np.true_divide(1, fact)\n"
          ]
        },
        {
          "output_type": "execute_result",
          "data": {
            "text/plain": [
              "{'Arecanut': 0.7849459721264063,\n",
              " 'Other Kharif pulses': 0.8646652406417975,\n",
              " 'Rice': 0.8695453972432068,\n",
              " 'Banana': 0.7838332074551411,\n",
              " 'Cashewnut': 0.7546929441035647,\n",
              " 'Coconut ': 0.7504754673709894,\n",
              " 'Dry ginger': 0.7537251355542889,\n",
              " 'Sugarcane': 0.8875278279580356,\n",
              " 'Sweet potato': 0.9297543282176586,\n",
              " 'Tapioca': 0.9361413229614819,\n",
              " 'Black pepper': 0.6895928449791888,\n",
              " 'Dry chillies': 0.760879086358931,\n",
              " 'other oilseeds': 0.2572649926808549,\n",
              " 'Turmeric': 0.5829940788376531,\n",
              " 'Maize': 0.8416577763202193,\n",
              " 'Moong(Green Gram)': 0.8484865492981966,\n",
              " 'Urad': 0.8774809309907452,\n",
              " 'Arhar/Tur': 0.907490073235187,\n",
              " 'Groundnut': 0.7930616427857377,\n",
              " 'Sunflower': 0.9008097278587595,\n",
              " 'Bajra': 0.7292787158169456,\n",
              " 'Castor seed': 0.8153102615388425,\n",
              " 'Cotton(lint)': 0.8227581390497599,\n",
              " 'Horse-gram': 0.9187472806127427,\n",
              " 'Jowar': 0.8552209516314384,\n",
              " 'Korra': 0.9956043466964186,\n",
              " 'Ragi': 0.9577235776610321,\n",
              " 'Tobacco': 0.8572776796262861,\n",
              " 'Gram': 0.9113401399910537,\n",
              " 'Wheat': 0.9245581970968629,\n",
              " 'Masoor': 0.9025379688226116,\n",
              " 'Sesamum': 0.8031414048067295,\n",
              " 'Linseed': 0.897808499227417,\n",
              " 'Safflower': 0.9319929786875768,\n",
              " 'Onion': 0.7278577823767144,\n",
              " 'other misc. pulses': 0.6135667559968186,\n",
              " 'Samai': 0.9637441270443513,\n",
              " 'Small millets': 0.7244275836439719,\n",
              " 'Coriander': 0.9121631878883908,\n",
              " 'Potato': 0.9348234156017482,\n",
              " 'Other  Rabi pulses': 0.9069761261374174,\n",
              " 'Soyabean': 0.9243824561188868,\n",
              " 'Beans & Mutter(Vegetable)': 0.8055729237580753,\n",
              " 'Bhindi': 0.9565448456620474,\n",
              " 'Brinjal': 0.7650254907505902,\n",
              " 'Citrus Fruit': 0.8003215154185342,\n",
              " 'Cucumber': nan,\n",
              " 'Grapes': 0.9957331056320722,\n",
              " 'Mango': 0.8495219679556566,\n",
              " 'Orange': 0.8946630445178466,\n",
              " 'other fibres': nan,\n",
              " 'Other Fresh Fruits': 0.13799685003775777,\n",
              " 'Other Vegetables': 0.3219114998420204,\n",
              " 'Papaya': 0.5382512218260468,\n",
              " 'Pome Fruit': 0.5815647931045264,\n",
              " 'Tomato': 0.8320355666498609,\n",
              " 'Mesta': 0.9861219545763639,\n",
              " 'Cowpea(Lobia)': 0.8760516000980173,\n",
              " 'Lemon': 0.9294458347384571,\n",
              " 'Pome Granet': 0.9701361383077252,\n",
              " 'Sapota': 0.9173646132443631,\n",
              " 'Cabbage': 0.7498455727794696,\n",
              " 'Rapeseed &Mustard': 0.9548678559577907,\n",
              " 'Peas  (vegetable)': nan,\n",
              " 'Niger seed': 0.7829176009547538,\n",
              " 'Bottle Gourd': -0.13099535811373217,\n",
              " 'Varagu': 0.9357538274984059,\n",
              " 'Garlic': 0.9405229288560534,\n",
              " 'Ginger': 0.9778215045006402,\n",
              " 'Oilseeds total': 0.9842489669514064,\n",
              " 'Pulses total': 0.9760092995924983,\n",
              " 'Jute': 0.9777449881376299,\n",
              " 'Peas & beans (Pulses)': 0.9200046483783022,\n",
              " 'Blackgram': 0.9767192597739468,\n",
              " 'Paddy': 0.8482584145238092,\n",
              " 'Pineapple': 0.904262717948801,\n",
              " 'Barley': 0.9311236829555943,\n",
              " 'Sannhamp': 0.671141488278206,\n",
              " 'Khesari': 0.7874785476892217,\n",
              " 'Guar seed': 0.535217623280676,\n",
              " 'Moth': 0.7754780156352084,\n",
              " 'Other Cereals & Millets': 0.9527190140561608,\n",
              " 'Cond-spcs other': 0.8926199933850811,\n",
              " 'Turnip': 0.9282631351207772,\n",
              " 'Carrot': -0.360931413702913,\n",
              " 'Redish': -0.02328032434614144,\n",
              " 'Arcanut (Processed)': 0.964280842555058,\n",
              " 'Atcanut (Raw)': 0.9689978070428082,\n",
              " 'Cashewnut Processed': 0.9982608137551652,\n",
              " 'Cashewnut Raw': 0.9598996113993761,\n",
              " 'Cardamom': 0.9171986614769714,\n",
              " 'Rubber': 0.9975252010195609,\n",
              " 'Bitter Gourd': -0.18204087598897115,\n",
              " 'Drum Stick': 0.8044890915934327,\n",
              " 'Jack Fruit': -0.18653898364556326,\n",
              " 'Snak Guard': nan,\n",
              " 'Tea': 0.987809174744354,\n",
              " 'Coffee': 0.9997775728086261,\n",
              " 'Cauliflower': 0.15951379597503512,\n",
              " 'Other Citrus Fruit': nan,\n",
              " 'Water Melon': nan,\n",
              " 'Total foodgrain': 0.8679918687219912,\n",
              " 'Kapas': 0.9776854852184589,\n",
              " 'Colocosia': 0.999997097639386,\n",
              " 'Lentil': 0.9928438452422086,\n",
              " 'Bean': 0.9961668278002281,\n",
              " 'Jobster': 0.9926000470446047,\n",
              " 'Perilla': 0.9938982375640925,\n",
              " 'Rajmash Kholar': 0.9999488936060151,\n",
              " 'Ricebean (nagadal)': 0.9994646409774078,\n",
              " 'Ash Gourd': nan,\n",
              " 'Beet Root': nan,\n",
              " 'Lab-Lab': nan,\n",
              " 'Ribed Guard': nan,\n",
              " 'Yam': nan,\n",
              " 'Pump Kin': nan,\n",
              " 'Apple': nan,\n",
              " 'Peach': nan,\n",
              " 'Pear': nan,\n",
              " 'Plums': nan,\n",
              " 'Litchi': nan,\n",
              " 'Ber': nan,\n",
              " 'Other Dry Fruit': nan,\n",
              " 'Jute & mesta': 0.9887521954699601}"
            ]
          },
          "metadata": {},
          "execution_count": 13
        }
      ]
    },
    {
      "cell_type": "markdown",
      "source": [
        "We are getting nan for some of the categories with zero division warning so we will explore the reason for that"
      ],
      "metadata": {
        "id": "RBRm5ohg7fbe"
      }
    },
    {
      "cell_type": "code",
      "source": [
        "nan_correlation_count = 0\n",
        "unique_crops = crop['Crop'].unique()\n",
        "correlation_coefficients = {}\n",
        "for crop_category in unique_crops:\n",
        "    crop_subset = crop[crop['Crop'] == crop_category]\n",
        "    correlation_coefficient = crop_subset['Area'].corr(crop_subset['Production'])\n",
        "    if np.isnan(correlation_coefficient):\n",
        "        nan_correlation_count += len(crop_subset)\n",
        "        print(f\"For {crop_category}: Correlation coefficient is NaN\")\n",
        "        print(crop_subset)\n",
        "    else:\n",
        "        correlation_coefficients[crop_category] = correlation_coefficient\n",
        "\n",
        "print(\"Total number of rows with NaN correlation coefficients:\", nan_correlation_count)"
      ],
      "metadata": {
        "colab": {
          "base_uri": "https://localhost:8080/"
        },
        "id": "orQD9q2_074d",
        "outputId": "09d136ab-998a-40b8-ebd4-821c11071476"
      },
      "execution_count": null,
      "outputs": [
        {
          "output_type": "stream",
          "name": "stdout",
          "text": [
            "For Cucumber: Correlation coefficient is NaN\n",
            "            State_Name  District_Name Crop_Year       Season      Crop  \\\n",
            "424     Andhra Pradesh      ANANTAPUR      2002  Whole Year   Cucumber   \n",
            "481     Andhra Pradesh      ANANTAPUR      2003  Whole Year   Cucumber   \n",
            "1208    Andhra Pradesh       CHITTOOR      2002  Whole Year   Cucumber   \n",
            "1268    Andhra Pradesh       CHITTOOR      2003  Whole Year   Cucumber   \n",
            "2003    Andhra Pradesh  EAST GODAVARI      2002  Whole Year   Cucumber   \n",
            "...                ...            ...       ...          ...       ...   \n",
            "195226      Telangana       NIZAMABAD      2003  Whole Year   Cucumber   \n",
            "195820      Telangana      RANGAREDDI      2002  Whole Year   Cucumber   \n",
            "195879      Telangana      RANGAREDDI      2003  Whole Year   Cucumber   \n",
            "196474      Telangana        WARANGAL      2002  Whole Year   Cucumber   \n",
            "196526      Telangana        WARANGAL      2003  Whole Year   Cucumber   \n",
            "\n",
            "          Area  Production  \n",
            "424       18.0         0.0  \n",
            "481       51.0         0.0  \n",
            "1208       8.0         0.0  \n",
            "1268       1.0         0.0  \n",
            "2003      35.0         0.0  \n",
            "...        ...         ...  \n",
            "195226    16.0         0.0  \n",
            "195820   337.0         0.0  \n",
            "195879   196.0         0.0  \n",
            "196474   236.0         0.0  \n",
            "196526  1259.0         0.0  \n",
            "\n",
            "[93 rows x 7 columns]\n",
            "For other fibres: Correlation coefficient is NaN\n",
            "            State_Name District_Name Crop_Year       Season          Crop  \\\n",
            "428     Andhra Pradesh     ANANTAPUR      2002  Whole Year   other fibres   \n",
            "2745    Andhra Pradesh        GUNTUR      2002  Whole Year   other fibres   \n",
            "165059       Rajasthan         ALWAR      2003  Whole Year   other fibres   \n",
            "165483       Rajasthan      BANSWARA      2003  Whole Year   other fibres   \n",
            "166599       Rajasthan     BHARATPUR      2003  Whole Year   other fibres   \n",
            "168935       Rajasthan         DAUSA      2003  Whole Year   other fibres   \n",
            "169322       Rajasthan       DHOLPUR      2003  Whole Year   other fibres   \n",
            "169707       Rajasthan     DUNGARPUR      2003  Whole Year   other fibres   \n",
            "171941       Rajasthan      JHALAWAR      2003  Whole Year   other fibres   \n",
            "191434      Telangana       ADILABAD      2002  Whole Year   other fibres   \n",
            "\n",
            "          Area  Production  \n",
            "428      132.0         0.0  \n",
            "2745    6268.0         0.0  \n",
            "165059  1192.0         0.0  \n",
            "165483     5.0         0.0  \n",
            "166599  4091.0         0.0  \n",
            "168935   177.0         0.0  \n",
            "169322   716.0         0.0  \n",
            "169707    10.0         0.0  \n",
            "171941     2.0         0.0  \n",
            "191434    45.0         0.0  \n",
            "For Peas  (vegetable): Correlation coefficient is NaN\n",
            "            State_Name District_Name Crop_Year       Season  \\\n",
            "1215    Andhra Pradesh      CHITTOOR      2002  Whole Year    \n",
            "4247    Andhra Pradesh       KRISHNA      2002  Whole Year    \n",
            "6534    Andhra Pradesh  SPSR NELLORE      2002  Whole Year    \n",
            "193336      Telangana    MAHBUBNAGAR      2003  Whole Year    \n",
            "193950      Telangana          MEDAK      2002  Whole Year    \n",
            "194014      Telangana          MEDAK      2003  Whole Year    \n",
            "195174      Telangana      NIZAMABAD      2002  Whole Year    \n",
            "195828      Telangana     RANGAREDDI      2002  Whole Year    \n",
            "195888      Telangana     RANGAREDDI      2003  Whole Year    \n",
            "196481      Telangana       WARANGAL      2002  Whole Year    \n",
            "196533      Telangana       WARANGAL      2003  Whole Year    \n",
            "\n",
            "                     Crop  Area  Production  \n",
            "1215    Peas  (vegetable)   1.0         0.0  \n",
            "4247    Peas  (vegetable)   3.0         0.0  \n",
            "6534    Peas  (vegetable)   2.0         0.0  \n",
            "193336  Peas  (vegetable)   3.0         0.0  \n",
            "193950  Peas  (vegetable)  16.0         0.0  \n",
            "194014  Peas  (vegetable)  26.0         0.0  \n",
            "195174  Peas  (vegetable)  42.0         0.0  \n",
            "195828  Peas  (vegetable)  12.0         0.0  \n",
            "195888  Peas  (vegetable)  31.0         0.0  \n",
            "196481  Peas  (vegetable)  16.0         0.0  \n",
            "196533  Peas  (vegetable)  16.0         0.0  \n",
            "For Snak Guard: Correlation coefficient is NaN\n",
            "        State_Name District_Name Crop_Year       Season        Crop  Area  \\\n",
            "98071       Kerala     ALAPPUZHA      2002  Whole Year   Snak Guard  76.0   \n",
            "98097       Kerala     ALAPPUZHA      2003  Whole Year   Snak Guard  93.0   \n",
            "98362       Kerala     ERNAKULAM      2002  Whole Year   Snak Guard  95.0   \n",
            "98388       Kerala     ERNAKULAM      2003  Whole Year   Snak Guard  74.0   \n",
            "98667       Kerala        IDUKKI      2002  Whole Year   Snak Guard   3.0   \n",
            "...            ...           ...       ...          ...         ...   ...   \n",
            "189932  Tamil Nadu       VELLORE      2003  Whole Year   Snak Guard  13.0   \n",
            "190395  Tamil Nadu    VILLUPURAM      2002  Whole Year   Snak Guard  42.0   \n",
            "190447  Tamil Nadu    VILLUPURAM      2003  Whole Year   Snak Guard  43.0   \n",
            "190886  Tamil Nadu  VIRUDHUNAGAR      2002  Whole Year   Snak Guard   2.0   \n",
            "190941  Tamil Nadu  VIRUDHUNAGAR      2003  Whole Year   Snak Guard   4.0   \n",
            "\n",
            "        Production  \n",
            "98071          0.0  \n",
            "98097          0.0  \n",
            "98362          0.0  \n",
            "98388          0.0  \n",
            "98667          0.0  \n",
            "...            ...  \n",
            "189932         0.0  \n",
            "190395         0.0  \n",
            "190447         0.0  \n",
            "190886         0.0  \n",
            "190941         0.0  \n",
            "\n",
            "[82 rows x 7 columns]\n",
            "For Other Citrus Fruit: Correlation coefficient is NaN\n",
            "            State_Name District_Name Crop_Year       Season  \\\n",
            "102824  Madhya Pradesh    ASHOKNAGAR      2003  Whole Year    \n",
            "103833  Madhya Pradesh       BARWANI      2003  Whole Year    \n",
            "105514  Madhya Pradesh     BURHANPUR      2003  Whole Year    \n",
            "106546  Madhya Pradesh    CHHINDWARA      2003  Whole Year    \n",
            "108522  Madhya Pradesh          DHAR      2003  Whole Year    \n",
            "...                ...           ...       ...          ...   \n",
            "189922      Tamil Nadu       VELLORE      2003  Whole Year    \n",
            "190387      Tamil Nadu    VILLUPURAM      2002  Whole Year    \n",
            "190439      Tamil Nadu    VILLUPURAM      2003  Whole Year    \n",
            "190878      Tamil Nadu  VIRUDHUNAGAR      2002  Whole Year    \n",
            "190933      Tamil Nadu  VIRUDHUNAGAR      2003  Whole Year    \n",
            "\n",
            "                      Crop   Area  Production  \n",
            "102824  Other Citrus Fruit    1.0         0.0  \n",
            "103833  Other Citrus Fruit   13.0         0.0  \n",
            "105514  Other Citrus Fruit    1.0         0.0  \n",
            "106546  Other Citrus Fruit    9.0         0.0  \n",
            "108522  Other Citrus Fruit   68.0         0.0  \n",
            "...                    ...    ...         ...  \n",
            "189922  Other Citrus Fruit   20.0         0.0  \n",
            "190387  Other Citrus Fruit   11.0         0.0  \n",
            "190439  Other Citrus Fruit   35.0         0.0  \n",
            "190878  Other Citrus Fruit   61.0         0.0  \n",
            "190933  Other Citrus Fruit  112.0         0.0  \n",
            "\n",
            "[69 rows x 7 columns]\n",
            "For Water Melon: Correlation coefficient is NaN\n",
            "            State_Name District_Name Crop_Year       Season         Crop  \\\n",
            "103294  Madhya Pradesh      BALAGHAT      2003  Whole Year   Water Melon   \n",
            "103844  Madhya Pradesh       BARWANI      2003  Whole Year   Water Melon   \n",
            "105524  Madhya Pradesh     BURHANPUR      2003  Whole Year   Water Melon   \n",
            "106556  Madhya Pradesh    CHHINDWARA      2003  Whole Year   Water Melon   \n",
            "107106  Madhya Pradesh         DAMOH      2003  Whole Year   Water Melon   \n",
            "...                ...           ...       ...          ...          ...   \n",
            "189938      Tamil Nadu       VELLORE      2003  Whole Year   Water Melon   \n",
            "190401      Tamil Nadu    VILLUPURAM      2002  Whole Year   Water Melon   \n",
            "190453      Tamil Nadu    VILLUPURAM      2003  Whole Year   Water Melon   \n",
            "190892      Tamil Nadu  VIRUDHUNAGAR      2002  Whole Year   Water Melon   \n",
            "190946      Tamil Nadu  VIRUDHUNAGAR      2003  Whole Year   Water Melon   \n",
            "\n",
            "          Area  Production  \n",
            "103294     2.0         0.0  \n",
            "103844     2.0         0.0  \n",
            "105524    55.0         0.0  \n",
            "106556    11.0         0.0  \n",
            "107106     5.0         0.0  \n",
            "...        ...         ...  \n",
            "189938    17.0         0.0  \n",
            "190401   467.0         0.0  \n",
            "190453  1485.0         0.0  \n",
            "190892     1.0         0.0  \n",
            "190946     2.0         0.0  \n",
            "\n",
            "[85 rows x 7 columns]\n",
            "For Ash Gourd: Correlation coefficient is NaN\n",
            "        State_Name    District_Name Crop_Year       Season       Crop   Area  \\\n",
            "177952  Tamil Nadu       COIMBATORE      2002  Whole Year   Ash Gourd   67.0   \n",
            "178009  Tamil Nadu       COIMBATORE      2003  Whole Year   Ash Gourd  167.0   \n",
            "178474  Tamil Nadu        CUDDALORE      2002  Whole Year   Ash Gourd    4.0   \n",
            "178521  Tamil Nadu        CUDDALORE      2003  Whole Year   Ash Gourd   11.0   \n",
            "178964  Tamil Nadu       DHARMAPURI      2002  Whole Year   Ash Gourd   12.0   \n",
            "179029  Tamil Nadu       DHARMAPURI      2003  Whole Year   Ash Gourd    6.0   \n",
            "179585  Tamil Nadu         DINDIGUL      2003  Whole Year   Ash Gourd    1.0   \n",
            "180113  Tamil Nadu            ERODE      2002  Whole Year   Ash Gourd   11.0   \n",
            "180173  Tamil Nadu            ERODE      2003  Whole Year   Ash Gourd   46.0   \n",
            "180627  Tamil Nadu      KANCHIPURAM      2002  Whole Year   Ash Gourd    3.0   \n",
            "180671  Tamil Nadu      KANCHIPURAM      2003  Whole Year   Ash Gourd   62.0   \n",
            "181021  Tamil Nadu    KANNIYAKUMARI      2003  Whole Year   Ash Gourd    6.0   \n",
            "181307  Tamil Nadu            KARUR      2002  Whole Year   Ash Gourd   14.0   \n",
            "181355  Tamil Nadu            KARUR      2003  Whole Year   Ash Gourd   22.0   \n",
            "181644  Tamil Nadu      KRISHNAGIRI      2003  Whole Year   Ash Gourd   23.0   \n",
            "182120  Tamil Nadu          MADURAI      2002  Whole Year   Ash Gourd    2.0   \n",
            "182174  Tamil Nadu          MADURAI      2003  Whole Year   Ash Gourd   10.0   \n",
            "182567  Tamil Nadu     NAGAPATTINAM      2002  Whole Year   Ash Gourd    8.0   \n",
            "182610  Tamil Nadu     NAGAPATTINAM      2003  Whole Year   Ash Gourd    3.0   \n",
            "182949  Tamil Nadu         NAMAKKAL      2002  Whole Year   Ash Gourd   10.0   \n",
            "183004  Tamil Nadu         NAMAKKAL      2003  Whole Year   Ash Gourd    6.0   \n",
            "183462  Tamil Nadu       PERAMBALUR      2002  Whole Year   Ash Gourd  489.0   \n",
            "183512  Tamil Nadu       PERAMBALUR      2003  Whole Year   Ash Gourd  244.0   \n",
            "183977  Tamil Nadu      PUDUKKOTTAI      2003  Whole Year   Ash Gourd    5.0   \n",
            "184780  Tamil Nadu            SALEM      2002  Whole Year   Ash Gourd   16.0   \n",
            "184839  Tamil Nadu            SALEM      2003  Whole Year   Ash Gourd    4.0   \n",
            "185343  Tamil Nadu        SIVAGANGA      2003  Whole Year   Ash Gourd    1.0   \n",
            "185714  Tamil Nadu        THANJAVUR      2002  Whole Year   Ash Gourd    1.0   \n",
            "185764  Tamil Nadu        THANJAVUR      2003  Whole Year   Ash Gourd   27.0   \n",
            "186484  Tamil Nadu            THENI      2002  Whole Year   Ash Gourd   17.0   \n",
            "186543  Tamil Nadu            THENI      2003  Whole Year   Ash Gourd    1.0   \n",
            "186963  Tamil Nadu      THIRUVALLUR      2002  Whole Year   Ash Gourd   10.0   \n",
            "187367  Tamil Nadu       THIRUVARUR      2003  Whole Year   Ash Gourd    4.0   \n",
            "187699  Tamil Nadu  TIRUCHIRAPPALLI      2002  Whole Year   Ash Gourd   32.0   \n",
            "187752  Tamil Nadu  TIRUCHIRAPPALLI      2003  Whole Year   Ash Gourd   13.0   \n",
            "188270  Tamil Nadu      TIRUNELVELI      2003  Whole Year   Ash Gourd   13.0   \n",
            "188924  Tamil Nadu   TIRUVANNAMALAI      2003  Whole Year   Ash Gourd  101.0   \n",
            "189426  Tamil Nadu        TUTICORIN      2003  Whole Year   Ash Gourd    7.0   \n",
            "189841  Tamil Nadu          VELLORE      2002  Whole Year   Ash Gourd    3.0   \n",
            "189900  Tamil Nadu          VELLORE      2003  Whole Year   Ash Gourd    4.0   \n",
            "190372  Tamil Nadu       VILLUPURAM      2002  Whole Year   Ash Gourd   43.0   \n",
            "190422  Tamil Nadu       VILLUPURAM      2003  Whole Year   Ash Gourd  109.0   \n",
            "190858  Tamil Nadu     VIRUDHUNAGAR      2002  Whole Year   Ash Gourd    2.0   \n",
            "190913  Tamil Nadu     VIRUDHUNAGAR      2003  Whole Year   Ash Gourd    4.0   \n",
            "\n",
            "        Production  \n",
            "177952         0.0  \n",
            "178009         0.0  \n",
            "178474         0.0  \n",
            "178521         0.0  \n",
            "178964         0.0  \n",
            "179029         0.0  \n",
            "179585         0.0  \n",
            "180113         0.0  \n",
            "180173         0.0  \n",
            "180627         0.0  \n",
            "180671         0.0  \n",
            "181021         0.0  \n",
            "181307         0.0  \n",
            "181355         0.0  \n",
            "181644         0.0  \n",
            "182120         0.0  \n",
            "182174         0.0  \n",
            "182567         0.0  \n",
            "182610         0.0  \n",
            "182949         0.0  \n",
            "183004         0.0  \n",
            "183462         0.0  \n",
            "183512         0.0  \n",
            "183977         0.0  \n",
            "184780         0.0  \n",
            "184839         0.0  \n",
            "185343         0.0  \n",
            "185714         0.0  \n",
            "185764         0.0  \n",
            "186484         0.0  \n",
            "186543         0.0  \n",
            "186963         0.0  \n",
            "187367         0.0  \n",
            "187699         0.0  \n",
            "187752         0.0  \n",
            "188270         0.0  \n",
            "188924         0.0  \n",
            "189426         0.0  \n",
            "189841         0.0  \n",
            "189900         0.0  \n",
            "190372         0.0  \n",
            "190422         0.0  \n",
            "190858         0.0  \n",
            "190913         0.0  \n",
            "For Beet Root: Correlation coefficient is NaN\n",
            "        State_Name District_Name Crop_Year       Season       Crop   Area  \\\n",
            "177955  Tamil Nadu    COIMBATORE      2002  Whole Year   Beet Root  265.0   \n",
            "178012  Tamil Nadu    COIMBATORE      2003  Whole Year   Beet Root  290.0   \n",
            "178967  Tamil Nadu    DHARMAPURI      2002  Whole Year   Beet Root  166.0   \n",
            "179032  Tamil Nadu    DHARMAPURI      2003  Whole Year   Beet Root    1.0   \n",
            "179519  Tamil Nadu      DINDIGUL      2002  Whole Year   Beet Root   30.0   \n",
            "179588  Tamil Nadu      DINDIGUL      2003  Whole Year   Beet Root   33.0   \n",
            "180116  Tamil Nadu         ERODE      2002  Whole Year   Beet Root   17.0   \n",
            "180176  Tamil Nadu         ERODE      2003  Whole Year   Beet Root    9.0   \n",
            "181647  Tamil Nadu   KRISHNAGIRI      2003  Whole Year   Beet Root   57.0   \n",
            "182122  Tamil Nadu       MADURAI      2002  Whole Year   Beet Root    1.0   \n",
            "182951  Tamil Nadu      NAMAKKAL      2002  Whole Year   Beet Root   10.0   \n",
            "184842  Tamil Nadu         SALEM      2003  Whole Year   Beet Root    1.0   \n",
            "186118  Tamil Nadu  THE NILGIRIS      2002  Whole Year   Beet Root  185.0   \n",
            "186166  Tamil Nadu  THE NILGIRIS      2003  Whole Year   Beet Root   53.0   \n",
            "186487  Tamil Nadu         THENI      2002  Whole Year   Beet Root  251.0   \n",
            "186546  Tamil Nadu         THENI      2003  Whole Year   Beet Root  203.0   \n",
            "\n",
            "        Production  \n",
            "177955         0.0  \n",
            "178012         0.0  \n",
            "178967         0.0  \n",
            "179032         0.0  \n",
            "179519         0.0  \n",
            "179588         0.0  \n",
            "180116         0.0  \n",
            "180176         0.0  \n",
            "181647         0.0  \n",
            "182122         0.0  \n",
            "182951         0.0  \n",
            "184842         0.0  \n",
            "186118         0.0  \n",
            "186166         0.0  \n",
            "186487         0.0  \n",
            "186546         0.0  \n",
            "For Lab-Lab: Correlation coefficient is NaN\n",
            "        State_Name    District_Name Crop_Year       Season     Crop    Area  \\\n",
            "177971  Tamil Nadu       COIMBATORE      2002  Whole Year   Lab-Lab   119.0   \n",
            "178030  Tamil Nadu       COIMBATORE      2003  Whole Year   Lab-Lab   244.0   \n",
            "178488  Tamil Nadu        CUDDALORE      2002  Whole Year   Lab-Lab    30.0   \n",
            "178534  Tamil Nadu        CUDDALORE      2003  Whole Year   Lab-Lab    31.0   \n",
            "178985  Tamil Nadu       DHARMAPURI      2002  Whole Year   Lab-Lab    48.0   \n",
            "179047  Tamil Nadu       DHARMAPURI      2003  Whole Year   Lab-Lab    24.0   \n",
            "179538  Tamil Nadu         DINDIGUL      2002  Whole Year   Lab-Lab   749.0   \n",
            "179608  Tamil Nadu         DINDIGUL      2003  Whole Year   Lab-Lab  1648.0   \n",
            "180132  Tamil Nadu            ERODE      2002  Whole Year   Lab-Lab   146.0   \n",
            "180195  Tamil Nadu            ERODE      2003  Whole Year   Lab-Lab   204.0   \n",
            "180640  Tamil Nadu      KANCHIPURAM      2002  Whole Year   Lab-Lab    10.0   \n",
            "180685  Tamil Nadu      KANCHIPURAM      2003  Whole Year   Lab-Lab     6.0   \n",
            "181320  Tamil Nadu            KARUR      2002  Whole Year   Lab-Lab     2.0   \n",
            "181369  Tamil Nadu            KARUR      2003  Whole Year   Lab-Lab     3.0   \n",
            "181665  Tamil Nadu      KRISHNAGIRI      2003  Whole Year   Lab-Lab   809.0   \n",
            "182136  Tamil Nadu          MADURAI      2002  Whole Year   Lab-Lab    14.0   \n",
            "182191  Tamil Nadu          MADURAI      2003  Whole Year   Lab-Lab     6.0   \n",
            "182581  Tamil Nadu     NAGAPATTINAM      2002  Whole Year   Lab-Lab    16.0   \n",
            "182624  Tamil Nadu     NAGAPATTINAM      2003  Whole Year   Lab-Lab    12.0   \n",
            "183020  Tamil Nadu         NAMAKKAL      2003  Whole Year   Lab-Lab    17.0   \n",
            "183475  Tamil Nadu       PERAMBALUR      2002  Whole Year   Lab-Lab    48.0   \n",
            "183525  Tamil Nadu       PERAMBALUR      2003  Whole Year   Lab-Lab    58.0   \n",
            "183991  Tamil Nadu      PUDUKKOTTAI      2003  Whole Year   Lab-Lab     1.0   \n",
            "184797  Tamil Nadu            SALEM      2002  Whole Year   Lab-Lab    33.0   \n",
            "184861  Tamil Nadu            SALEM      2003  Whole Year   Lab-Lab    45.0   \n",
            "185311  Tamil Nadu        SIVAGANGA      2002  Whole Year   Lab-Lab     1.0   \n",
            "185359  Tamil Nadu        SIVAGANGA      2003  Whole Year   Lab-Lab     2.0   \n",
            "185729  Tamil Nadu        THANJAVUR      2002  Whole Year   Lab-Lab     8.0   \n",
            "185778  Tamil Nadu        THANJAVUR      2003  Whole Year   Lab-Lab     1.0   \n",
            "186130  Tamil Nadu     THE NILGIRIS      2002  Whole Year   Lab-Lab     1.0   \n",
            "186180  Tamil Nadu     THE NILGIRIS      2003  Whole Year   Lab-Lab     1.0   \n",
            "186503  Tamil Nadu            THENI      2002  Whole Year   Lab-Lab    27.0   \n",
            "186564  Tamil Nadu            THENI      2003  Whole Year   Lab-Lab    19.0   \n",
            "187336  Tamil Nadu       THIRUVARUR      2002  Whole Year   Lab-Lab     4.0   \n",
            "187382  Tamil Nadu       THIRUVARUR      2003  Whole Year   Lab-Lab     5.0   \n",
            "187714  Tamil Nadu  TIRUCHIRAPPALLI      2002  Whole Year   Lab-Lab    31.0   \n",
            "187767  Tamil Nadu  TIRUCHIRAPPALLI      2003  Whole Year   Lab-Lab    32.0   \n",
            "188230  Tamil Nadu      TIRUNELVELI      2002  Whole Year   Lab-Lab     5.0   \n",
            "188287  Tamil Nadu      TIRUNELVELI      2003  Whole Year   Lab-Lab    10.0   \n",
            "188886  Tamil Nadu   TIRUVANNAMALAI      2002  Whole Year   Lab-Lab   122.0   \n",
            "188937  Tamil Nadu   TIRUVANNAMALAI      2003  Whole Year   Lab-Lab   171.0   \n",
            "189389  Tamil Nadu        TUTICORIN      2002  Whole Year   Lab-Lab    27.0   \n",
            "189441  Tamil Nadu        TUTICORIN      2003  Whole Year   Lab-Lab    14.0   \n",
            "189856  Tamil Nadu          VELLORE      2002  Whole Year   Lab-Lab    17.0   \n",
            "189917  Tamil Nadu          VELLORE      2003  Whole Year   Lab-Lab    18.0   \n",
            "190436  Tamil Nadu       VILLUPURAM      2003  Whole Year   Lab-Lab    11.0   \n",
            "190874  Tamil Nadu     VIRUDHUNAGAR      2002  Whole Year   Lab-Lab     8.0   \n",
            "190929  Tamil Nadu     VIRUDHUNAGAR      2003  Whole Year   Lab-Lab    10.0   \n",
            "\n",
            "        Production  \n",
            "177971         0.0  \n",
            "178030         0.0  \n",
            "178488         0.0  \n",
            "178534         0.0  \n",
            "178985         0.0  \n",
            "179047         0.0  \n",
            "179538         0.0  \n",
            "179608         0.0  \n",
            "180132         0.0  \n",
            "180195         0.0  \n",
            "180640         0.0  \n",
            "180685         0.0  \n",
            "181320         0.0  \n",
            "181369         0.0  \n",
            "181665         0.0  \n",
            "182136         0.0  \n",
            "182191         0.0  \n",
            "182581         0.0  \n",
            "182624         0.0  \n",
            "183020         0.0  \n",
            "183475         0.0  \n",
            "183525         0.0  \n",
            "183991         0.0  \n",
            "184797         0.0  \n",
            "184861         0.0  \n",
            "185311         0.0  \n",
            "185359         0.0  \n",
            "185729         0.0  \n",
            "185778         0.0  \n",
            "186130         0.0  \n",
            "186180         0.0  \n",
            "186503         0.0  \n",
            "186564         0.0  \n",
            "187336         0.0  \n",
            "187382         0.0  \n",
            "187714         0.0  \n",
            "187767         0.0  \n",
            "188230         0.0  \n",
            "188287         0.0  \n",
            "188886         0.0  \n",
            "188937         0.0  \n",
            "189389         0.0  \n",
            "189441         0.0  \n",
            "189856         0.0  \n",
            "189917         0.0  \n",
            "190436         0.0  \n",
            "190874         0.0  \n",
            "190929         0.0  \n",
            "For Ribed Guard: Correlation coefficient is NaN\n",
            "        State_Name    District_Name Crop_Year       Season         Crop  \\\n",
            "177982  Tamil Nadu       COIMBATORE      2002  Whole Year   Ribed Guard   \n",
            "178042  Tamil Nadu       COIMBATORE      2003  Whole Year   Ribed Guard   \n",
            "178496  Tamil Nadu        CUDDALORE      2002  Whole Year   Ribed Guard   \n",
            "178543  Tamil Nadu        CUDDALORE      2003  Whole Year   Ribed Guard   \n",
            "178999  Tamil Nadu       DHARMAPURI      2002  Whole Year   Ribed Guard   \n",
            "179057  Tamil Nadu       DHARMAPURI      2003  Whole Year   Ribed Guard   \n",
            "179625  Tamil Nadu         DINDIGUL      2003  Whole Year   Ribed Guard   \n",
            "180144  Tamil Nadu            ERODE      2002  Whole Year   Ribed Guard   \n",
            "180208  Tamil Nadu            ERODE      2003  Whole Year   Ribed Guard   \n",
            "180648  Tamil Nadu      KANCHIPURAM      2002  Whole Year   Ribed Guard   \n",
            "180694  Tamil Nadu      KANCHIPURAM      2003  Whole Year   Ribed Guard   \n",
            "181379  Tamil Nadu            KARUR      2003  Whole Year   Ribed Guard   \n",
            "181680  Tamil Nadu      KRISHNAGIRI      2003  Whole Year   Ribed Guard   \n",
            "182147  Tamil Nadu          MADURAI      2002  Whole Year   Ribed Guard   \n",
            "182204  Tamil Nadu          MADURAI      2003  Whole Year   Ribed Guard   \n",
            "182591  Tamil Nadu     NAGAPATTINAM      2002  Whole Year   Ribed Guard   \n",
            "182634  Tamil Nadu     NAGAPATTINAM      2003  Whole Year   Ribed Guard   \n",
            "182977  Tamil Nadu         NAMAKKAL      2002  Whole Year   Ribed Guard   \n",
            "183031  Tamil Nadu         NAMAKKAL      2003  Whole Year   Ribed Guard   \n",
            "184809  Tamil Nadu            SALEM      2002  Whole Year   Ribed Guard   \n",
            "184875  Tamil Nadu            SALEM      2003  Whole Year   Ribed Guard   \n",
            "185740  Tamil Nadu        THANJAVUR      2002  Whole Year   Ribed Guard   \n",
            "186514  Tamil Nadu            THENI      2002  Whole Year   Ribed Guard   \n",
            "186577  Tamil Nadu            THENI      2003  Whole Year   Ribed Guard   \n",
            "186986  Tamil Nadu      THIRUVALLUR      2002  Whole Year   Ribed Guard   \n",
            "187345  Tamil Nadu       THIRUVARUR      2002  Whole Year   Ribed Guard   \n",
            "187392  Tamil Nadu       THIRUVARUR      2003  Whole Year   Ribed Guard   \n",
            "187726  Tamil Nadu  TIRUCHIRAPPALLI      2002  Whole Year   Ribed Guard   \n",
            "187779  Tamil Nadu  TIRUCHIRAPPALLI      2003  Whole Year   Ribed Guard   \n",
            "188947  Tamil Nadu   TIRUVANNAMALAI      2003  Whole Year   Ribed Guard   \n",
            "189399  Tamil Nadu        TUTICORIN      2002  Whole Year   Ribed Guard   \n",
            "189452  Tamil Nadu        TUTICORIN      2003  Whole Year   Ribed Guard   \n",
            "189870  Tamil Nadu          VELLORE      2002  Whole Year   Ribed Guard   \n",
            "189931  Tamil Nadu          VELLORE      2003  Whole Year   Ribed Guard   \n",
            "190394  Tamil Nadu       VILLUPURAM      2002  Whole Year   Ribed Guard   \n",
            "190446  Tamil Nadu       VILLUPURAM      2003  Whole Year   Ribed Guard   \n",
            "190885  Tamil Nadu     VIRUDHUNAGAR      2002  Whole Year   Ribed Guard   \n",
            "190940  Tamil Nadu     VIRUDHUNAGAR      2003  Whole Year   Ribed Guard   \n",
            "\n",
            "         Area  Production  \n",
            "177982   78.0         0.0  \n",
            "178042   80.0         0.0  \n",
            "178496    3.0         0.0  \n",
            "178543    4.0         0.0  \n",
            "178999   11.0         0.0  \n",
            "179057    1.0         0.0  \n",
            "179625    3.0         0.0  \n",
            "180144   13.0         0.0  \n",
            "180208   12.0         0.0  \n",
            "180648   14.0         0.0  \n",
            "180694   11.0         0.0  \n",
            "181379    4.0         0.0  \n",
            "181680   12.0         0.0  \n",
            "182147    4.0         0.0  \n",
            "182204    1.0         0.0  \n",
            "182591    2.0         0.0  \n",
            "182634    3.0         0.0  \n",
            "182977   70.0         0.0  \n",
            "183031   69.0         0.0  \n",
            "184809  111.0         0.0  \n",
            "184875   28.0         0.0  \n",
            "185740    1.0         0.0  \n",
            "186514    6.0         0.0  \n",
            "186577    1.0         0.0  \n",
            "186986   22.0         0.0  \n",
            "187345    2.0         0.0  \n",
            "187392    4.0         0.0  \n",
            "187726    4.0         0.0  \n",
            "187779    5.0         0.0  \n",
            "188947   33.0         0.0  \n",
            "189399    6.0         0.0  \n",
            "189452    6.0         0.0  \n",
            "189870    5.0         0.0  \n",
            "189931   27.0         0.0  \n",
            "190394   10.0         0.0  \n",
            "190446   17.0         0.0  \n",
            "190885   14.0         0.0  \n",
            "190940   17.0         0.0  \n",
            "For Yam: Correlation coefficient is NaN\n",
            "        State_Name    District_Name Crop_Year       Season Crop   Area  \\\n",
            "177989  Tamil Nadu       COIMBATORE      2002  Whole Year   Yam    5.0   \n",
            "178050  Tamil Nadu       COIMBATORE      2003  Whole Year   Yam    5.0   \n",
            "179008  Tamil Nadu       DHARMAPURI      2002  Whole Year   Yam    1.0   \n",
            "180153  Tamil Nadu            ERODE      2002  Whole Year   Yam  375.0   \n",
            "180216  Tamil Nadu            ERODE      2003  Whole Year   Yam  330.0   \n",
            "180656  Tamil Nadu      KANCHIPURAM      2002  Whole Year   Yam    6.0   \n",
            "180702  Tamil Nadu      KANCHIPURAM      2003  Whole Year   Yam    2.0   \n",
            "181011  Tamil Nadu    KANNIYAKUMARI      2002  Whole Year   Yam   12.0   \n",
            "181046  Tamil Nadu    KANNIYAKUMARI      2003  Whole Year   Yam   12.0   \n",
            "181337  Tamil Nadu            KARUR      2002  Whole Year   Yam    2.0   \n",
            "181386  Tamil Nadu            KARUR      2003  Whole Year   Yam    1.0   \n",
            "182155  Tamil Nadu          MADURAI      2002  Whole Year   Yam   17.0   \n",
            "182211  Tamil Nadu          MADURAI      2003  Whole Year   Yam   24.0   \n",
            "183037  Tamil Nadu         NAMAKKAL      2003  Whole Year   Yam    2.0   \n",
            "184817  Tamil Nadu            SALEM      2002  Whole Year   Yam    3.0   \n",
            "184883  Tamil Nadu            SALEM      2003  Whole Year   Yam    7.0   \n",
            "185746  Tamil Nadu        THANJAVUR      2002  Whole Year   Yam   25.0   \n",
            "185794  Tamil Nadu        THANJAVUR      2003  Whole Year   Yam   24.0   \n",
            "186151  Tamil Nadu     THE NILGIRIS      2002  Whole Year   Yam   20.0   \n",
            "186195  Tamil Nadu     THE NILGIRIS      2003  Whole Year   Yam   13.0   \n",
            "186523  Tamil Nadu            THENI      2002  Whole Year   Yam    3.0   \n",
            "186995  Tamil Nadu      THIRUVALLUR      2002  Whole Year   Yam   25.0   \n",
            "187042  Tamil Nadu      THIRUVALLUR      2003  Whole Year   Yam    1.0   \n",
            "187352  Tamil Nadu       THIRUVARUR      2002  Whole Year   Yam    3.0   \n",
            "187787  Tamil Nadu  TIRUCHIRAPPALLI      2003  Whole Year   Yam    4.0   \n",
            "188249  Tamil Nadu      TIRUNELVELI      2002  Whole Year   Yam   12.0   \n",
            "188305  Tamil Nadu      TIRUNELVELI      2003  Whole Year   Yam   32.0   \n",
            "188905  Tamil Nadu   TIRUVANNAMALAI      2002  Whole Year   Yam  137.0   \n",
            "188955  Tamil Nadu   TIRUVANNAMALAI      2003  Whole Year   Yam   65.0   \n",
            "189407  Tamil Nadu        TUTICORIN      2002  Whole Year   Yam  134.0   \n",
            "189459  Tamil Nadu        TUTICORIN      2003  Whole Year   Yam  144.0   \n",
            "189879  Tamil Nadu          VELLORE      2002  Whole Year   Yam   94.0   \n",
            "189939  Tamil Nadu          VELLORE      2003  Whole Year   Yam   33.0   \n",
            "190454  Tamil Nadu       VILLUPURAM      2003  Whole Year   Yam    1.0   \n",
            "190893  Tamil Nadu     VIRUDHUNAGAR      2002  Whole Year   Yam   36.0   \n",
            "190947  Tamil Nadu     VIRUDHUNAGAR      2003  Whole Year   Yam  165.0   \n",
            "\n",
            "        Production  \n",
            "177989         0.0  \n",
            "178050         0.0  \n",
            "179008         0.0  \n",
            "180153         0.0  \n",
            "180216         0.0  \n",
            "180656         0.0  \n",
            "180702         0.0  \n",
            "181011         0.0  \n",
            "181046         0.0  \n",
            "181337         0.0  \n",
            "181386         0.0  \n",
            "182155         0.0  \n",
            "182211         0.0  \n",
            "183037         0.0  \n",
            "184817         0.0  \n",
            "184883         0.0  \n",
            "185746         0.0  \n",
            "185794         0.0  \n",
            "186151         0.0  \n",
            "186195         0.0  \n",
            "186523         0.0  \n",
            "186995         0.0  \n",
            "187042         0.0  \n",
            "187352         0.0  \n",
            "187787         0.0  \n",
            "188249         0.0  \n",
            "188305         0.0  \n",
            "188905         0.0  \n",
            "188955         0.0  \n",
            "189407         0.0  \n",
            "189459         0.0  \n",
            "189879         0.0  \n",
            "189939         0.0  \n",
            "190454         0.0  \n",
            "190893         0.0  \n",
            "190947         0.0  \n",
            "For Pump Kin: Correlation coefficient is NaN\n",
            "        State_Name    District_Name Crop_Year       Season      Crop   Area  \\\n",
            "178040  Tamil Nadu       COIMBATORE      2003  Whole Year   Pump Kin  387.0   \n",
            "178494  Tamil Nadu        CUDDALORE      2002  Whole Year   Pump Kin    4.0   \n",
            "178541  Tamil Nadu        CUDDALORE      2003  Whole Year   Pump Kin    8.0   \n",
            "178997  Tamil Nadu       DHARMAPURI      2002  Whole Year   Pump Kin   26.0   \n",
            "179055  Tamil Nadu       DHARMAPURI      2003  Whole Year   Pump Kin    5.0   \n",
            "179553  Tamil Nadu         DINDIGUL      2002  Whole Year   Pump Kin   11.0   \n",
            "179623  Tamil Nadu         DINDIGUL      2003  Whole Year   Pump Kin   16.0   \n",
            "180143  Tamil Nadu            ERODE      2002  Whole Year   Pump Kin  121.0   \n",
            "180207  Tamil Nadu            ERODE      2003  Whole Year   Pump Kin   40.0   \n",
            "180647  Tamil Nadu      KANCHIPURAM      2002  Whole Year   Pump Kin   80.0   \n",
            "180692  Tamil Nadu      KANCHIPURAM      2003  Whole Year   Pump Kin   21.0   \n",
            "181007  Tamil Nadu    KANNIYAKUMARI      2002  Whole Year   Pump Kin    9.0   \n",
            "181042  Tamil Nadu    KANNIYAKUMARI      2003  Whole Year   Pump Kin    6.0   \n",
            "181329  Tamil Nadu            KARUR      2002  Whole Year   Pump Kin    1.0   \n",
            "181678  Tamil Nadu      KRISHNAGIRI      2003  Whole Year   Pump Kin   34.0   \n",
            "182146  Tamil Nadu          MADURAI      2002  Whole Year   Pump Kin   15.0   \n",
            "182202  Tamil Nadu          MADURAI      2003  Whole Year   Pump Kin    3.0   \n",
            "182589  Tamil Nadu     NAGAPATTINAM      2002  Whole Year   Pump Kin    3.0   \n",
            "182632  Tamil Nadu     NAGAPATTINAM      2003  Whole Year   Pump Kin    7.0   \n",
            "182975  Tamil Nadu         NAMAKKAL      2002  Whole Year   Pump Kin   24.0   \n",
            "183485  Tamil Nadu       PERAMBALUR      2002  Whole Year   Pump Kin  158.0   \n",
            "183534  Tamil Nadu       PERAMBALUR      2003  Whole Year   Pump Kin  112.0   \n",
            "183954  Tamil Nadu      PUDUKKOTTAI      2002  Whole Year   Pump Kin    9.0   \n",
            "183999  Tamil Nadu      PUDUKKOTTAI      2003  Whole Year   Pump Kin    1.0   \n",
            "184360  Tamil Nadu   RAMANATHAPURAM      2002  Whole Year   Pump Kin    2.0   \n",
            "184807  Tamil Nadu            SALEM      2002  Whole Year   Pump Kin   46.0   \n",
            "184873  Tamil Nadu            SALEM      2003  Whole Year   Pump Kin   18.0   \n",
            "185320  Tamil Nadu        SIVAGANGA      2002  Whole Year   Pump Kin    1.0   \n",
            "185738  Tamil Nadu        THANJAVUR      2002  Whole Year   Pump Kin   48.0   \n",
            "185786  Tamil Nadu        THANJAVUR      2003  Whole Year   Pump Kin   69.0   \n",
            "186142  Tamil Nadu     THE NILGIRIS      2002  Whole Year   Pump Kin    4.0   \n",
            "186513  Tamil Nadu            THENI      2002  Whole Year   Pump Kin   28.0   \n",
            "186575  Tamil Nadu            THENI      2003  Whole Year   Pump Kin    5.0   \n",
            "186984  Tamil Nadu      THIRUVALLUR      2002  Whole Year   Pump Kin    7.0   \n",
            "187033  Tamil Nadu      THIRUVALLUR      2003  Whole Year   Pump Kin   51.0   \n",
            "187343  Tamil Nadu       THIRUVARUR      2002  Whole Year   Pump Kin    3.0   \n",
            "187390  Tamil Nadu       THIRUVARUR      2003  Whole Year   Pump Kin    2.0   \n",
            "187724  Tamil Nadu  TIRUCHIRAPPALLI      2002  Whole Year   Pump Kin   30.0   \n",
            "187777  Tamil Nadu  TIRUCHIRAPPALLI      2003  Whole Year   Pump Kin   15.0   \n",
            "188240  Tamil Nadu      TIRUNELVELI      2002  Whole Year   Pump Kin   41.0   \n",
            "188298  Tamil Nadu      TIRUNELVELI      2003  Whole Year   Pump Kin   21.0   \n",
            "188895  Tamil Nadu   TIRUVANNAMALAI      2002  Whole Year   Pump Kin   94.0   \n",
            "188945  Tamil Nadu   TIRUVANNAMALAI      2003  Whole Year   Pump Kin   27.0   \n",
            "189398  Tamil Nadu        TUTICORIN      2002  Whole Year   Pump Kin   11.0   \n",
            "189451  Tamil Nadu        TUTICORIN      2003  Whole Year   Pump Kin   20.0   \n",
            "189868  Tamil Nadu          VELLORE      2002  Whole Year   Pump Kin   32.0   \n",
            "189929  Tamil Nadu          VELLORE      2003  Whole Year   Pump Kin   23.0   \n",
            "190392  Tamil Nadu       VILLUPURAM      2002  Whole Year   Pump Kin   78.0   \n",
            "190444  Tamil Nadu       VILLUPURAM      2003  Whole Year   Pump Kin   72.0   \n",
            "190884  Tamil Nadu     VIRUDHUNAGAR      2002  Whole Year   Pump Kin    4.0   \n",
            "190939  Tamil Nadu     VIRUDHUNAGAR      2003  Whole Year   Pump Kin    2.0   \n",
            "\n",
            "        Production  \n",
            "178040         0.0  \n",
            "178494         0.0  \n",
            "178541         0.0  \n",
            "178997         0.0  \n",
            "179055         0.0  \n",
            "179553         0.0  \n",
            "179623         0.0  \n",
            "180143         0.0  \n",
            "180207         0.0  \n",
            "180647         0.0  \n",
            "180692         0.0  \n",
            "181007         0.0  \n",
            "181042         0.0  \n",
            "181329         0.0  \n",
            "181678         0.0  \n",
            "182146         0.0  \n",
            "182202         0.0  \n",
            "182589         0.0  \n",
            "182632         0.0  \n",
            "182975         0.0  \n",
            "183485         0.0  \n",
            "183534         0.0  \n",
            "183954         0.0  \n",
            "183999         0.0  \n",
            "184360         0.0  \n",
            "184807         0.0  \n",
            "184873         0.0  \n",
            "185320         0.0  \n",
            "185738         0.0  \n",
            "185786         0.0  \n",
            "186142         0.0  \n",
            "186513         0.0  \n",
            "186575         0.0  \n",
            "186984         0.0  \n",
            "187033         0.0  \n",
            "187343         0.0  \n",
            "187390         0.0  \n",
            "187724         0.0  \n",
            "187777         0.0  \n",
            "188240         0.0  \n",
            "188298         0.0  \n",
            "188895         0.0  \n",
            "188945         0.0  \n",
            "189398         0.0  \n",
            "189451         0.0  \n",
            "189868         0.0  \n",
            "189929         0.0  \n",
            "190392         0.0  \n",
            "190444         0.0  \n",
            "190884         0.0  \n",
            "190939         0.0  \n",
            "For Apple: Correlation coefficient is NaN\n",
            "        State_Name District_Name Crop_Year       Season   Crop  Area  \\\n",
            "179515  Tamil Nadu      DINDIGUL      2002  Whole Year   Apple   3.0   \n",
            "179583  Tamil Nadu      DINDIGUL      2003  Whole Year   Apple   4.0   \n",
            "186114  Tamil Nadu  THE NILGIRIS      2002  Whole Year   Apple   1.0   \n",
            "186162  Tamil Nadu  THE NILGIRIS      2003  Whole Year   Apple   1.0   \n",
            "\n",
            "        Production  \n",
            "179515         0.0  \n",
            "179583         0.0  \n",
            "186114         0.0  \n",
            "186162         0.0  \n",
            "For Peach: Correlation coefficient is NaN\n",
            "        State_Name District_Name Crop_Year       Season   Crop  Area  \\\n",
            "179546  Tamil Nadu      DINDIGUL      2002  Whole Year   Peach  17.0   \n",
            "179616  Tamil Nadu      DINDIGUL      2003  Whole Year   Peach  21.0   \n",
            "186136  Tamil Nadu  THE NILGIRIS      2002  Whole Year   Peach   2.0   \n",
            "186186  Tamil Nadu  THE NILGIRIS      2003  Whole Year   Peach   2.0   \n",
            "\n",
            "        Production  \n",
            "179546         0.0  \n",
            "179616         0.0  \n",
            "186136         0.0  \n",
            "186186         0.0  \n",
            "For Pear: Correlation coefficient is NaN\n",
            "        State_Name District_Name Crop_Year       Season  Crop    Area  \\\n",
            "179547  Tamil Nadu      DINDIGUL      2002  Whole Year   Pear  1275.0   \n",
            "179617  Tamil Nadu      DINDIGUL      2003  Whole Year   Pear  1275.0   \n",
            "182143  Tamil Nadu       MADURAI      2002  Whole Year   Pear     1.0   \n",
            "184869  Tamil Nadu         SALEM      2003  Whole Year   Pear    86.0   \n",
            "186137  Tamil Nadu  THE NILGIRIS      2002  Whole Year   Pear    20.0   \n",
            "186187  Tamil Nadu  THE NILGIRIS      2003  Whole Year   Pear    19.0   \n",
            "\n",
            "        Production  \n",
            "179547         0.0  \n",
            "179617         0.0  \n",
            "182143         0.0  \n",
            "184869         0.0  \n",
            "186137         0.0  \n",
            "186187         0.0  \n",
            "For Plums: Correlation coefficient is NaN\n",
            "        State_Name District_Name Crop_Year       Season   Crop   Area  \\\n",
            "179549  Tamil Nadu      DINDIGUL      2002  Whole Year   Plums  374.0   \n",
            "179619  Tamil Nadu      DINDIGUL      2003  Whole Year   Plums  413.0   \n",
            "180203  Tamil Nadu         ERODE      2003  Whole Year   Plums   13.0   \n",
            "186139  Tamil Nadu  THE NILGIRIS      2002  Whole Year   Plums    4.0   \n",
            "186188  Tamil Nadu  THE NILGIRIS      2003  Whole Year   Plums    4.0   \n",
            "186572  Tamil Nadu         THENI      2003  Whole Year   Plums    1.0   \n",
            "\n",
            "        Production  \n",
            "179549         0.0  \n",
            "179619         0.0  \n",
            "180203         0.0  \n",
            "186139         0.0  \n",
            "186188         0.0  \n",
            "186572         0.0  \n",
            "For Litchi: Correlation coefficient is NaN\n",
            "        State_Name   District_Name Crop_Year       Season    Crop  Area  \\\n",
            "181666  Tamil Nadu     KRISHNAGIRI      2003  Whole Year   Litchi   4.0   \n",
            "182192  Tamil Nadu         MADURAI      2003  Whole Year   Litchi  14.0   \n",
            "188288  Tamil Nadu     TIRUNELVELI      2003  Whole Year   Litchi   2.0   \n",
            "188887  Tamil Nadu  TIRUVANNAMALAI      2002  Whole Year   Litchi   3.0   \n",
            "189857  Tamil Nadu         VELLORE      2002  Whole Year   Litchi   1.0   \n",
            "189918  Tamil Nadu         VELLORE      2003  Whole Year   Litchi   1.0   \n",
            "\n",
            "        Production  \n",
            "181666         0.0  \n",
            "182192         0.0  \n",
            "188288         0.0  \n",
            "188887         0.0  \n",
            "189857         0.0  \n",
            "189918         0.0  \n",
            "For Ber: Correlation coefficient is NaN\n",
            "        State_Name District_Name Crop_Year       Season Crop  Area  Production\n",
            "182569  Tamil Nadu  NAGAPATTINAM      2002  Whole Year   Ber   3.0         0.0\n",
            "182612  Tamil Nadu  NAGAPATTINAM      2003  Whole Year   Ber   3.0         0.0\n",
            "184783  Tamil Nadu         SALEM      2002  Whole Year   Ber  70.0         0.0\n",
            "185299  Tamil Nadu     SIVAGANGA      2002  Whole Year   Ber   6.0         0.0\n",
            "185346  Tamil Nadu     SIVAGANGA      2003  Whole Year   Ber   8.0         0.0\n",
            "185716  Tamil Nadu     THANJAVUR      2002  Whole Year   Ber   5.0         0.0\n",
            "187324  Tamil Nadu    THIRUVARUR      2002  Whole Year   Ber   1.0         0.0\n",
            "187369  Tamil Nadu    THIRUVARUR      2003  Whole Year   Ber   2.0         0.0\n",
            "189376  Tamil Nadu     TUTICORIN      2002  Whole Year   Ber   2.0         0.0\n",
            "190860  Tamil Nadu  VIRUDHUNAGAR      2002  Whole Year   Ber  14.0         0.0\n",
            "190915  Tamil Nadu  VIRUDHUNAGAR      2003  Whole Year   Ber   4.0         0.0\n",
            "For Other Dry Fruit: Correlation coefficient is NaN\n",
            "        State_Name District_Name Crop_Year       Season             Crop  \\\n",
            "195884  Telangana     RANGAREDDI      2003  Whole Year   Other Dry Fruit   \n",
            "\n",
            "        Area  Production  \n",
            "195884   7.0         0.0  \n",
            "Total number of rows with NaN correlation coefficients: 621\n"
          ]
        },
        {
          "output_type": "stream",
          "name": "stderr",
          "text": [
            "/usr/local/lib/python3.10/dist-packages/numpy/lib/function_base.py:2846: RuntimeWarning: Degrees of freedom <= 0 for slice\n",
            "  c = cov(x, y, rowvar, dtype=dtype)\n",
            "/usr/local/lib/python3.10/dist-packages/numpy/lib/function_base.py:2705: RuntimeWarning: divide by zero encountered in divide\n",
            "  c *= np.true_divide(1, fact)\n"
          ]
        }
      ]
    },
    {
      "cell_type": "markdown",
      "source": [
        "From the above results we infer that some of the production values are zero so that is the reason we are getting nan in correlation coefficient.\n",
        "\n",
        "So we calculate the number of rows where area and production is zero separately"
      ],
      "metadata": {
        "id": "ehfJPbxG7v9k"
      }
    },
    {
      "cell_type": "code",
      "source": [
        "# Count the number of rows where 'Area' is zero\n",
        "num_zero_area = (crop['Area'] == 0).sum()\n",
        "\n",
        "# Count the number of rows where 'Production' is zero\n",
        "num_zero_production = (crop['Production'] == 0).sum()\n",
        "\n",
        "# Print the number of rows where 'Area' is zero\n",
        "print(\"Number of rows where 'Area' is zero:\", num_zero_area)\n",
        "\n",
        "# Print the number of rows where 'Production' is zero\n",
        "print(\"Number of rows where 'Production' is zero:\", num_zero_production)\n"
      ],
      "metadata": {
        "colab": {
          "base_uri": "https://localhost:8080/"
        },
        "id": "w35FzWJS2Nal",
        "outputId": "3da841ae-ec17-48b9-aea7-96f229be4e3a"
      },
      "execution_count": null,
      "outputs": [
        {
          "output_type": "stream",
          "name": "stdout",
          "text": [
            "Number of rows where 'Area' is zero: 0\n",
            "Number of rows where 'Production' is zero: 3523\n"
          ]
        }
      ]
    },
    {
      "cell_type": "markdown",
      "source": [
        "From the above results we find out that the number of zero rows in area and production column are 0 and 3523 respectively, but we are getting only 621 rows wih correlation coefficient as nan. This may be due to the reason that the other crops has correlation coefficient as zero and while aggregation it just took the mean ignoring the nan value. This also may be the reason why we have such a low overall correlation between Area and Production.\n",
        "\n",
        "In order to proceed further it is best to drop the rows that has production value zero and contine the analysis. We have data of more that 2,00,000 rows so it wont much affect the data"
      ],
      "metadata": {
        "id": "qmy0vwae8zOs"
      }
    },
    {
      "cell_type": "code",
      "source": [
        "crop = crop[crop['Production'] != 0]"
      ],
      "metadata": {
        "id": "3nR1qoGa8yK5"
      },
      "execution_count": null,
      "outputs": []
    },
    {
      "cell_type": "code",
      "source": [
        "(crop['Production'] == 0).sum()"
      ],
      "metadata": {
        "colab": {
          "base_uri": "https://localhost:8080/"
        },
        "id": "Ay97IXRc2PLp",
        "outputId": "2578dd58-c2ee-43ca-d949-47b3b4ab7de5"
      },
      "execution_count": null,
      "outputs": [
        {
          "output_type": "execute_result",
          "data": {
            "text/plain": [
              "0"
            ]
          },
          "metadata": {},
          "execution_count": 17
        }
      ]
    },
    {
      "cell_type": "code",
      "source": [
        "calculate_correlation(crop, 'State_Name')"
      ],
      "metadata": {
        "colab": {
          "base_uri": "https://localhost:8080/"
        },
        "id": "x9wgDlb0_AtA",
        "outputId": "4c44a9c9-eb41-4175-e044-797d525a0eee"
      },
      "execution_count": null,
      "outputs": [
        {
          "output_type": "execute_result",
          "data": {
            "text/plain": [
              "{'Andaman and Nicobar Islands': 0.8586444456614066,\n",
              " 'Andhra Pradesh': 0.026797712758452698,\n",
              " 'Arunachal Pradesh': 0.8540117564715293,\n",
              " 'Assam': 0.0006735087559219393,\n",
              " 'Bihar': 0.3848649251876202,\n",
              " 'Chandigarh': 0.9008307385195817,\n",
              " 'Chhattisgarh': 0.8760785452654187,\n",
              " 'Dadra and Nagar Haveli': 0.2663464956011671,\n",
              " 'Goa': 0.1563406604934847,\n",
              " 'Gujarat': 0.29072034096809796,\n",
              " 'Haryana': 0.6528154326720752,\n",
              " 'Himachal Pradesh': 0.922672735722267,\n",
              " 'Jammu and Kashmir ': 0.920719780477944,\n",
              " 'Jharkhand': 0.9275380440293414,\n",
              " 'Karnataka': 0.2327748515226693,\n",
              " 'Kerala': 0.8358617158211493,\n",
              " 'Madhya Pradesh': 0.769420585433825,\n",
              " 'Maharashtra': 0.16756280046952,\n",
              " 'Manipur': 0.9612179324878122,\n",
              " 'Meghalaya': 0.6840708846099509,\n",
              " 'Mizoram': 0.9220618076747491,\n",
              " 'Nagaland': 0.7757680922498817,\n",
              " 'Odisha': 0.798715403423304,\n",
              " 'Puducherry': 0.027064819564852797,\n",
              " 'Punjab': 0.9044872328795844,\n",
              " 'Rajasthan': 0.6278867684997463,\n",
              " 'Sikkim': 0.6206117229824172,\n",
              " 'Tamil Nadu': 0.05888264092588941,\n",
              " 'Telangana ': 0.15197573290944835,\n",
              " 'Tripura': 0.9871185995201744,\n",
              " 'Uttar Pradesh': 0.39004431463875655,\n",
              " 'Uttarakhand': 0.4377883307833211,\n",
              " 'West Bengal': 0.0899175288418081}"
            ]
          },
          "metadata": {},
          "execution_count": 18
        }
      ]
    },
    {
      "cell_type": "code",
      "source": [
        "calculate_correlation(crop, 'District_Name')"
      ],
      "metadata": {
        "colab": {
          "base_uri": "https://localhost:8080/"
        },
        "id": "uWQe-T5BAII1",
        "outputId": "4a80f2b0-bb05-4617-c960-3da6c388e3b6"
      },
      "execution_count": null,
      "outputs": [
        {
          "output_type": "stream",
          "name": "stderr",
          "text": [
            "/usr/local/lib/python3.10/dist-packages/numpy/lib/function_base.py:2889: RuntimeWarning: Degrees of freedom <= 0 for slice\n",
            "  c = cov(x, y, rowvar, dtype=dtype)\n",
            "/usr/local/lib/python3.10/dist-packages/numpy/lib/function_base.py:2748: RuntimeWarning: divide by zero encountered in divide\n",
            "  c *= np.true_divide(1, fact)\n"
          ]
        },
        {
          "output_type": "execute_result",
          "data": {
            "text/plain": [
              "{'NICOBARS': 0.9866679162184794,\n",
              " 'NORTH AND MIDDLE ANDAMAN': 0.46147935258051853,\n",
              " 'SOUTH ANDAMANS': 0.5126922621082396,\n",
              " 'ANANTAPUR': 0.06261310268261545,\n",
              " 'CHITTOOR': 0.00748128690006822,\n",
              " 'EAST GODAVARI': 0.09961375035487252,\n",
              " 'GUNTUR': 0.29862636048177565,\n",
              " 'KADAPA': 0.11115645707173642,\n",
              " 'KRISHNA': -0.005836653354322569,\n",
              " 'KURNOOL': 0.5794159857882745,\n",
              " 'PRAKASAM': 0.16415589359517643,\n",
              " 'SPSR NELLORE': 0.06266777731236295,\n",
              " 'SRIKAKULAM': 0.016467725537781516,\n",
              " 'VISAKHAPATANAM': 0.010983770364967525,\n",
              " 'VIZIANAGARAM': -0.025800349443743122,\n",
              " 'WEST GODAVARI': 0.008487781243654602,\n",
              " 'ANJAW': 0.9049829472251649,\n",
              " 'CHANGLANG': 0.9109071203001776,\n",
              " 'DIBANG VALLEY': 0.7046998195761884,\n",
              " 'EAST KAMENG': 0.9572224095676042,\n",
              " 'EAST SIANG': 0.8832868010270497,\n",
              " 'KURUNG KUMEY': 0.9376076347145088,\n",
              " 'LOHIT': 0.8512959016808274,\n",
              " 'LONGDING': 0.8647345853261992,\n",
              " 'LOWER DIBANG VALLEY': 0.654210868521311,\n",
              " 'LOWER SUBANSIRI': 0.8828726673946754,\n",
              " 'NAMSAI': nan,\n",
              " 'PAPUM PARE': 0.9253153670951463,\n",
              " 'TAWANG': 0.5981165906610079,\n",
              " 'TIRAP': 0.852153096735336,\n",
              " 'UPPER SIANG': 0.9183456652296212,\n",
              " 'UPPER SUBANSIRI': 0.8698999256258848,\n",
              " 'WEST KAMENG': 0.843925631680866,\n",
              " 'WEST SIANG': 0.9790185514651407,\n",
              " 'BAKSA': -0.005895350367647145,\n",
              " 'BARPETA': -0.031521373863647194,\n",
              " 'BONGAIGAON': -0.02997526641658836,\n",
              " 'CACHAR': 0.024421559974747795,\n",
              " 'CHIRANG': -0.01308886616571446,\n",
              " 'DARRANG': -0.016472122093731452,\n",
              " 'DHEMAJI': 0.13513398721642358,\n",
              " 'DHUBRI': -0.015900945744043025,\n",
              " 'DIBRUGARH': 0.2621064740911998,\n",
              " 'DIMA HASAO': 0.08395504628772013,\n",
              " 'GOALPARA': -0.02215260067495942,\n",
              " 'GOLAGHAT': -0.008092993542726332,\n",
              " 'HAILAKANDI': 0.09417896890677198,\n",
              " 'JORHAT': 0.014015727641997907,\n",
              " 'KAMRUP': -0.025291860207909488,\n",
              " 'KAMRUP METRO': 0.005686101948202768,\n",
              " 'KARBI ANGLONG': 0.0616314939133563,\n",
              " 'KARIMGANJ': 0.0173240915884724,\n",
              " 'KOKRAJHAR': -0.0028868727140744193,\n",
              " 'LAKHIMPUR': 0.042632032238939285,\n",
              " 'MARIGAON': -0.01979128547368906,\n",
              " 'NAGAON': -0.02312773544542053,\n",
              " 'NALBARI': -0.012574999972654809,\n",
              " 'SIVASAGAR': 0.03149024129732348,\n",
              " 'SONITPUR': -0.01978195444837906,\n",
              " 'TINSUKIA': 0.24254154837979255,\n",
              " 'UDALGURI': -0.0024258973881434646,\n",
              " 'ARARIA': 0.6353359650438263,\n",
              " 'ARWAL': 0.9198988160125241,\n",
              " 'AURANGABAD': 0.44822439983504075,\n",
              " 'BANKA': 0.8393088719623639,\n",
              " 'BEGUSARAI': 0.4849014435685278,\n",
              " 'BHAGALPUR': 0.42307975601427006,\n",
              " 'BHOJPUR': 0.958437085193112,\n",
              " 'BUXAR': 0.967317976429926,\n",
              " 'DARBHANGA': 0.8407410303670028,\n",
              " 'GAYA': 0.9264156491128385,\n",
              " 'GOPALGANJ': 0.34684806945133506,\n",
              " 'JAMUI': 0.7399713650667207,\n",
              " 'JEHANABAD': 0.9365852036931019,\n",
              " 'KAIMUR (BHABUA)': 0.9663984584147995,\n",
              " 'KATIHAR': 0.6004767238226896,\n",
              " 'KHAGARIA': 0.8238485368170861,\n",
              " 'KISHANGANJ': 0.6338695094103344,\n",
              " 'LAKHISARAI': 0.9208609792848852,\n",
              " 'MADHEPURA': 0.6770624642269166,\n",
              " 'MADHUBANI': 0.862113021327659,\n",
              " 'MUNGER': 0.9373329375890221,\n",
              " 'MUZAFFARPUR': 0.722113400267471,\n",
              " 'NALANDA': 0.899724112962405,\n",
              " 'NAWADA': 0.9491596040119752,\n",
              " 'PASHCHIM CHAMPARAN': 0.5250848075143836,\n",
              " 'PATNA': 0.9277572868391559,\n",
              " 'PURBI CHAMPARAN': 0.41426802246558697,\n",
              " 'PURNIA': 0.6129910053612733,\n",
              " 'ROHTAS': 0.9657778796871717,\n",
              " 'SAHARSA': 0.8391226895639479,\n",
              " 'SAMASTIPUR': 0.6611527453724525,\n",
              " 'SARAN': 0.9347563663845235,\n",
              " 'SHEIKHPURA': 0.9246558576792971,\n",
              " 'SHEOHAR': 0.28092458053092056,\n",
              " 'SITAMARHI': 0.2859153438890445,\n",
              " 'SIWAN': 0.7489221718972706,\n",
              " 'SUPAUL': 0.6766129106367594,\n",
              " 'VAISHALI': 0.8351423107838216,\n",
              " 'CHANDIGARH': 0.9008307385195817,\n",
              " 'BALOD': 0.9782290371800455,\n",
              " 'BALODA BAZAR': 0.9864484176044537,\n",
              " 'BALRAMPUR': 0.38457738843916917,\n",
              " 'BASTAR': 0.9588223200132033,\n",
              " 'BEMETARA': 0.9708774943675017,\n",
              " 'BIJAPUR': 0.13553196566103132,\n",
              " 'BILASPUR': 0.9527095681986181,\n",
              " 'DANTEWADA': 0.9113091300683864,\n",
              " 'DHAMTARI': 0.956302633214707,\n",
              " 'DURG': 0.9259534680892265,\n",
              " 'GARIYABAND': 0.9894783614240527,\n",
              " 'JANJGIR-CHAMPA': 0.9390528493480813,\n",
              " 'JASHPUR': 0.9601856524642025,\n",
              " 'KABIRDHAM': 0.9346428331698439,\n",
              " 'KANKER': 0.9393960117468566,\n",
              " 'KONDAGAON': 0.975560259311019,\n",
              " 'KORBA': 0.9680256364130714,\n",
              " 'KOREA': 0.9356197218196999,\n",
              " 'MAHASAMUND': 0.9503994644290703,\n",
              " 'MUNGELI': 0.9288856749578278,\n",
              " 'NARAYANPUR': 0.9769010133457823,\n",
              " 'RAIGARH': 0.9710097352797658,\n",
              " 'RAIPUR': 0.9598927102917393,\n",
              " 'RAJNANDGAON': 0.9523070676606711,\n",
              " 'SUKMA': 0.9637063785738422,\n",
              " 'SURAJPUR': 0.9814304212365784,\n",
              " 'SURGUJA': 0.9569058762299716,\n",
              " 'DADRA AND NAGAR HAVELI': 0.2663464956011671,\n",
              " 'NORTH GOA': 0.08190032252728896,\n",
              " 'SOUTH GOA': 0.29078919626966276,\n",
              " 'AHMADABAD': 0.9259722130238917,\n",
              " 'AMRELI': 0.719589693091686,\n",
              " 'ANAND': 0.31005665301888924,\n",
              " 'BANAS KANTHA': 0.4220334603493241,\n",
              " 'BHARUCH': 0.18677916106095713,\n",
              " 'BHAVNAGAR': 0.6682362637927487,\n",
              " 'DANG': 0.7806705617888919,\n",
              " 'DOHAD': 0.8826076855786645,\n",
              " 'GANDHINAGAR': 0.5805071407824792,\n",
              " 'JAMNAGAR': 0.7489899488709852,\n",
              " 'JUNAGADH': 0.6350790926528415,\n",
              " 'KACHCHH': 0.6457643691356052,\n",
              " 'KHEDA': 0.7386778146875169,\n",
              " 'MAHESANA': 0.8105930429532262,\n",
              " 'NARMADA': 0.19271987412901434,\n",
              " 'NAVSARI': 0.48276117064866536,\n",
              " 'PANCH MAHALS': 0.8970347666160075,\n",
              " 'PATAN': 0.8380783571197842,\n",
              " 'PORBANDAR': 0.8877156222015725,\n",
              " 'RAJKOT': 0.7010818111962186,\n",
              " 'SABAR KANTHA': 0.8364996456783905,\n",
              " 'SURAT': 0.8046704576139181,\n",
              " 'SURENDRANAGAR': 0.8963624489605501,\n",
              " 'TAPI': 0.32162239785686764,\n",
              " 'VADODARA': 0.67332138587959,\n",
              " 'VALSAD': 0.32669213270369146,\n",
              " 'AMBALA': 0.42293851708818536,\n",
              " 'BHIWANI': 0.7519284585511012,\n",
              " 'FARIDABAD': 0.8147303111219654,\n",
              " 'FATEHABAD': 0.9657586433642344,\n",
              " 'GURGAON': 0.9278299415165345,\n",
              " 'HISAR': 0.9175796373752413,\n",
              " 'JHAJJAR': 0.8626251242243714,\n",
              " 'JIND': 0.8904928049529858,\n",
              " 'KAITHAL': 0.9316911738107697,\n",
              " 'KARNAL': 0.7599964699852373,\n",
              " 'KURUKSHETRA': 0.5082596290195754,\n",
              " 'MAHENDRAGARH': 0.8408846823874493,\n",
              " 'MEWAT': 0.9339621706278224,\n",
              " 'PALWAL': 0.9380537735924794,\n",
              " 'PANCHKULA': 0.6387119826449296,\n",
              " 'PANIPAT': 0.6571444525786534,\n",
              " 'REWARI': 0.8426397093779432,\n",
              " 'ROHTAK': 0.45424770044355683,\n",
              " 'SIRSA': 0.9420246665176132,\n",
              " 'SONIPAT': 0.6557828765475527,\n",
              " 'YAMUNANAGAR': 0.41661189606652144,\n",
              " 'CHAMBA': 0.9311507557574644,\n",
              " 'HAMIRPUR': 0.7319191874131343,\n",
              " 'KANGRA': 0.964687263600621,\n",
              " 'KINNAUR': 0.5752698107819817,\n",
              " 'KULLU': 0.9400380241084699,\n",
              " 'LAHUL AND SPITI': 0.702664356897395,\n",
              " 'MANDI': 0.9028744523867115,\n",
              " 'SHIMLA': 0.7282467492814864,\n",
              " 'SIRMAUR': 0.8659583214575346,\n",
              " 'SOLAN': 0.9630661748015841,\n",
              " 'UNA': 0.9747384461893236,\n",
              " 'ANANTNAG': 0.8426672903775837,\n",
              " 'BADGAM': 0.8476595504374977,\n",
              " 'BANDIPORA': 0.8584434789635517,\n",
              " 'BARAMULLA': 0.8280695026361269,\n",
              " 'DODA': 0.9411918058253317,\n",
              " 'GANDERBAL': 0.8770651105000908,\n",
              " 'JAMMU': 0.9526821375618292,\n",
              " 'KARGIL': 0.951651784342759,\n",
              " 'KATHUA': 0.9523322751955694,\n",
              " 'KISHTWAR': 0.9014473434100602,\n",
              " 'KULGAM': 0.8876605001775361,\n",
              " 'KUPWARA': 0.8434155168654133,\n",
              " 'LEH LADAKH': 0.9481571179475203,\n",
              " 'POONCH': 0.9427168301987876,\n",
              " 'PULWAMA': 0.7956246901630963,\n",
              " 'RAJAURI': 0.9223015501734557,\n",
              " 'RAMBAN': 0.9556205588780023,\n",
              " 'REASI': 0.9398694825510768,\n",
              " 'SAMBA': 0.9469141736502183,\n",
              " 'SHOPIAN': 0.9211317114557447,\n",
              " 'SRINAGAR': 0.8886886870102723,\n",
              " 'UDHAMPUR': 0.9642812547773159,\n",
              " 'BOKARO': 0.8896106529479956,\n",
              " 'CHATRA': 0.7943048667898743,\n",
              " 'DEOGHAR': 0.9091682524760508,\n",
              " 'DHANBAD': 0.966391979327111,\n",
              " 'DUMKA': 0.9800152058349948,\n",
              " 'EAST SINGHBUM': 0.9794098612224833,\n",
              " 'GARHWA': 0.7968987619262581,\n",
              " 'GIRIDIH': 0.8624476097834064,\n",
              " 'GODDA': 0.9832081187895265,\n",
              " 'GUMLA': 0.9527053067686998,\n",
              " 'HAZARIBAGH': 0.7543392532852379,\n",
              " 'JAMTARA': 0.8749428061427179,\n",
              " 'KHUNTI': 0.603413027654414,\n",
              " 'KODERMA': 0.8583188645883097,\n",
              " 'LATEHAR': 0.5891910232834728,\n",
              " 'LOHARDAGA': 0.5654079511987602,\n",
              " 'PAKUR': 0.9991071445901584,\n",
              " 'PALAMU': 0.716310175214922,\n",
              " 'RAMGARH': 0.8877523711241896,\n",
              " 'RANCHI': 0.9297524990400577,\n",
              " 'SAHEBGANJ': 0.9704452193301694,\n",
              " 'SARAIKELA KHARSAWAN': 0.9308283050315634,\n",
              " 'SIMDEGA': 0.8671697127227471,\n",
              " 'WEST SINGHBHUM': 0.9457069165830625,\n",
              " 'BAGALKOT': 0.34723990283269984,\n",
              " 'BANGALORE RURAL': 0.7037641583780432,\n",
              " 'BELGAUM': 0.5296829201748494,\n",
              " 'BELLARY': 0.4960992664861162,\n",
              " 'BENGALURU URBAN': 0.9017919989572503,\n",
              " 'BIDAR': 0.1886305516207072,\n",
              " 'CHAMARAJANAGAR': 0.22630696087978236,\n",
              " 'CHIKBALLAPUR': 0.8696299010847779,\n",
              " 'CHIKMAGALUR': 0.6553249632936319,\n",
              " 'CHITRADURGA': 0.37190927743495533,\n",
              " 'DAKSHIN KANNAD': 0.595458758986037,\n",
              " 'DAVANGERE': 0.45845461788024605,\n",
              " 'DHARWAD': 0.3920470180031174,\n",
              " 'GADAG': 0.44775890530068985,\n",
              " 'GULBARGA': 0.2921930945514697,\n",
              " 'HASSAN': 0.44886136931307885,\n",
              " 'HAVERI': 0.567996312271813,\n",
              " 'KODAGU': 0.8409269439869004,\n",
              " 'KOLAR': 0.6008265407059751,\n",
              " 'KOPPAL': 0.526238281094865,\n",
              " 'MANDYA': 0.2936998767673726,\n",
              " 'MYSORE': 0.266049155692568,\n",
              " 'RAICHUR': 0.7204842463624346,\n",
              " 'RAMANAGARA': 0.7552010232247388,\n",
              " 'SHIMOGA': 0.42104200149075666,\n",
              " 'TUMKUR': 0.44987093332055333,\n",
              " 'UDUPI': 0.5993040225790861,\n",
              " 'UTTAR KANNAD': 0.558447590794506,\n",
              " 'YADGIR': 0.7398518534398845,\n",
              " 'ALAPPUZHA': 0.8535958707908191,\n",
              " 'ERNAKULAM': 0.8701752339169765,\n",
              " 'IDUKKI': 0.1913212940967767,\n",
              " 'KANNUR': 0.8736404262338978,\n",
              " 'KASARAGOD': 0.9000357379947428,\n",
              " 'KOLLAM': 0.8630168688748485,\n",
              " 'KOTTAYAM': 0.6104697752055929,\n",
              " 'KOZHIKODE': 0.9556141513301514,\n",
              " 'MALAPPURAM': 0.923592335619775,\n",
              " 'PALAKKAD': 0.5849166968469977,\n",
              " 'PATHANAMTHITTA': 0.6684446767496472,\n",
              " 'THIRUVANANTHAPURAM': 0.8981588716555592,\n",
              " 'THRISSUR': 0.9470720913054569,\n",
              " 'WAYANAD': 0.12248456759889823,\n",
              " 'AGAR MALWA': 0.8141699617333207,\n",
              " 'ALIRAJPUR': 0.7864371334145296,\n",
              " 'ANUPPUR': 0.9143362223235562,\n",
              " 'ASHOKNAGAR': 0.889760925300196,\n",
              " 'BALAGHAT': 0.9673934675119308,\n",
              " 'BARWANI': 0.6375131286257913,\n",
              " 'BETUL': 0.7109961808302753,\n",
              " 'BHIND': 0.8892946878256252,\n",
              " 'BHOPAL': 0.9020177401411572,\n",
              " 'BURHANPUR': 0.2217703727940444,\n",
              " 'CHHATARPUR': 0.879179248048683,\n",
              " 'CHHINDWARA': 0.5926537352327907,\n",
              " 'DAMOH': 0.8791316428972017,\n",
              " 'DATIA': 0.8258506317345661,\n",
              " 'DEWAS': 0.9161834611874519,\n",
              " 'DHAR': 0.9140924031173174,\n",
              " 'DINDORI': 0.8240898974199332,\n",
              " 'GUNA': 0.876651823133053,\n",
              " 'GWALIOR': 0.8877616907521679,\n",
              " 'HARDA': 0.8482452290959933,\n",
              " 'HOSHANGABAD': 0.8311865751988214,\n",
              " 'INDORE': 0.8087447497476834,\n",
              " 'JABALPUR': 0.8462116069000136,\n",
              " 'JHABUA': 0.8263253918244898,\n",
              " 'KATNI': 0.8328838995907684,\n",
              " 'KHANDWA': 0.5120055901608435,\n",
              " 'KHARGONE': 0.8251162960514706,\n",
              " 'MANDLA': 0.854241804237909,\n",
              " 'MANDSAUR': 0.8575872176968921,\n",
              " 'MORENA': 0.8789387642003741,\n",
              " 'NARSINGHPUR': 0.2989939637461854,\n",
              " 'NEEMUCH': 0.8300404702088172,\n",
              " 'PANNA': 0.8989197623019071,\n",
              " 'RAISEN': 0.8855744611536261,\n",
              " 'RAJGARH': 0.9009062847505381,\n",
              " 'RATLAM': 0.8557818141758298,\n",
              " 'REWA': 0.8991986947505746,\n",
              " 'SAGAR': 0.9112792794653931,\n",
              " 'SATNA': 0.8267052346774787,\n",
              " 'SEHORE': 0.9155296225382421,\n",
              " 'SEONI': 0.851425520723584,\n",
              " 'SHAHDOL': 0.8709104545411236,\n",
              " 'SHAJAPUR': 0.9056165582921671,\n",
              " 'SHEOPUR': 0.7718691916362388,\n",
              " 'SHIVPURI': 0.8755854417590146,\n",
              " 'SIDHI': 0.8667370813309905,\n",
              " 'SINGRAULI': 0.7362341736881179,\n",
              " 'TIKAMGARH': 0.8495565823300433,\n",
              " 'UJJAIN': 0.8931689118995366,\n",
              " 'UMARIA': 0.5918987329882102,\n",
              " 'VIDISHA': 0.9523857920133875,\n",
              " 'AHMEDNAGAR': 0.12783047459330166,\n",
              " 'AKOLA': 0.8451045755237656,\n",
              " 'AMRAVATI': 0.7973632164550195,\n",
              " 'BEED': 0.12145632980571157,\n",
              " 'BHANDARA': 0.8244990063767808,\n",
              " 'BULDHANA': 0.8582487063031564,\n",
              " 'CHANDRAPUR': 0.9112417411651863,\n",
              " 'DHULE': 0.39163953149716646,\n",
              " 'GADCHIROLI': 0.9629028099949347,\n",
              " 'GONDIA': 0.9381054714493006,\n",
              " 'HINGOLI': 0.1988120278456832,\n",
              " 'JALGAON': 0.5542347153345818,\n",
              " 'JALNA': 0.2790320259917957,\n",
              " 'KOLHAPUR': 0.6329289835130415,\n",
              " 'LATUR': 0.1774467451652449,\n",
              " 'MUMBAI': nan,\n",
              " 'NAGPUR': 0.8997323741979384,\n",
              " 'NANDED': 0.26118936434803874,\n",
              " 'NANDURBAR': 0.13241615695759165,\n",
              " 'NASHIK': 0.1499990059708002,\n",
              " 'OSMANABAD': 0.11646419742025113,\n",
              " 'PALGHAR': 0.9956438626418256,\n",
              " 'PARBHANI': 0.21356135404994642,\n",
              " 'PUNE': 0.1816501946448865,\n",
              " 'RAIGAD': 0.9925356568968766,\n",
              " 'RATNAGIRI': 0.9820211040109639,\n",
              " 'SANGLI': 0.19611448603668924,\n",
              " 'SATARA': 0.22735206729888882,\n",
              " 'SINDHUDURG': 0.9862639359089916,\n",
              " 'SOLAPUR': 0.15879406218336642,\n",
              " 'THANE': 0.9743163612850705,\n",
              " 'WARDHA': 0.7496484891604693,\n",
              " 'WASHIM': 0.8096079889950839,\n",
              " 'YAVATMAL': 0.6937710310414021,\n",
              " 'BISHNUPUR': 0.9911256625235748,\n",
              " 'CHANDEL': 0.7753320177975943,\n",
              " 'CHURACHANDPUR': 0.8762930727439706,\n",
              " 'IMPHAL EAST': 0.9935589561923722,\n",
              " 'IMPHAL WEST': 0.9965391771946308,\n",
              " 'SENAPATI': 0.9800313771397685,\n",
              " 'TAMENGLONG': 0.6984161138153977,\n",
              " 'THOUBAL': 0.988056536568852,\n",
              " 'UKHRUL': 0.9506393546313001,\n",
              " 'EAST GARO HILLS': 0.7575695830443044,\n",
              " 'EAST JAINTIA HILLS': 0.9755496460198974,\n",
              " 'EAST KHASI HILLS': 0.8685176369350113,\n",
              " 'NORTH GARO HILLS': 0.7222148939719938,\n",
              " 'RI BHOI': 0.8525901801434085,\n",
              " 'SOUTH GARO HILLS': 0.8516382597874546,\n",
              " 'SOUTH WEST GARO HILLS': 0.7506071197385359,\n",
              " 'SOUTH WEST KHASI HILLS': 0.7354137469550848,\n",
              " 'WEST GARO HILLS': 0.7776912712739706,\n",
              " 'WEST JAINTIA HILLS': 0.8991251311102755,\n",
              " 'WEST KHASI HILLS': 0.6784955855091359,\n",
              " 'AIZAWL': 0.9319624627223351,\n",
              " 'CHAMPHAI': 0.8658559923295696,\n",
              " 'KOLASIB': 0.9412100951408922,\n",
              " 'LAWNGTLAI': 0.8097178836035632,\n",
              " 'LUNGLEI': 0.9618156711422965,\n",
              " 'MAMIT': 0.9194559126697068,\n",
              " 'SAIHA': 0.8606225901168582,\n",
              " 'SERCHHIP': 0.7662454878155838,\n",
              " 'DIMAPUR': 0.6681281701644587,\n",
              " 'KIPHIRE': 0.9308528503016246,\n",
              " 'KOHIMA': 0.9112582146331872,\n",
              " 'LONGLENG': 0.891094321013578,\n",
              " 'MOKOKCHUNG': 0.886676314526556,\n",
              " 'MON': 0.8588490091088116,\n",
              " 'PEREN': 0.8192990526103995,\n",
              " 'PHEK': 0.9365646198362437,\n",
              " 'TUENSANG': 0.9291940553309573,\n",
              " 'WOKHA': 0.7943720457857684,\n",
              " 'ZUNHEBOTO': 0.8742784244074441,\n",
              " 'ANUGUL': 0.7947720073920145,\n",
              " 'BALANGIR': 0.5943519717957566,\n",
              " 'BALESHWAR': 0.9322414472234544,\n",
              " 'BARGARH': 0.8185620562400058,\n",
              " 'BHADRAK': 0.8656472495845946,\n",
              " 'BOUDH': 0.7692525600920643,\n",
              " 'CUTTACK': 0.667356711219315,\n",
              " 'DEOGARH': 0.7116513037062514,\n",
              " 'DHENKANAL': 0.7905299580000236,\n",
              " 'GAJAPATI': 0.8615755273879118,\n",
              " 'GANJAM': 0.87818712645696,\n",
              " 'JAGATSINGHAPUR': 0.7785180306385486,\n",
              " 'JAJAPUR': 0.8617419630262926,\n",
              " 'JHARSUGUDA': 0.7875212377760162,\n",
              " 'KALAHANDI': 0.7663669103596739,\n",
              " 'KANDHAMAL': 0.8863374800557877,\n",
              " 'KENDRAPARA': 0.8550515748357318,\n",
              " 'KENDUJHAR': 0.8788880185575445,\n",
              " 'KHORDHA': 0.8592526834300562,\n",
              " 'KORAPUT': 0.5492297578321897,\n",
              " 'MALKANGIRI': 0.8380600186518157,\n",
              " 'MAYURBHANJ': 0.8981785438696209,\n",
              " 'NABARANGPUR': 0.7273015694117356,\n",
              " 'NAYAGARH': 0.6523857102728612,\n",
              " 'NUAPADA': 0.7603610324316137,\n",
              " 'PURI': 0.8816948883175165,\n",
              " 'RAYAGADA': 0.8372394440661954,\n",
              " 'SAMBALPUR': 0.7866316598821688,\n",
              " 'SONEPUR': 0.6875019049339632,\n",
              " 'SUNDARGARH': 0.7256498567061882,\n",
              " 'KARAIKAL': -0.06590797514106475,\n",
              " 'MAHE': 0.08447487178510539,\n",
              " 'PONDICHERRY': 0.036129733336463354,\n",
              " 'YANAM': 0.34006878753525216,\n",
              " 'AMRITSAR': 0.9274785515327455,\n",
              " 'BARNALA': 0.9956100263190221,\n",
              " 'BATHINDA': 0.9724102827634302,\n",
              " 'FARIDKOT': 0.9606943881175275,\n",
              " 'FATEHGARH SAHIB': 0.8854708246856794,\n",
              " 'FAZILKA': 0.9713078896770581,\n",
              " 'FIROZEPUR': 0.9717084183518901,\n",
              " 'GURDASPUR': 0.5863570805681764,\n",
              " 'HOSHIARPUR': 0.47028136673446874,\n",
              " 'JALANDHAR': 0.7692354225707132,\n",
              " 'KAPURTHALA': 0.9084329238960187,\n",
              " 'LUDHIANA': 0.9729893507605419,\n",
              " 'MANSA': 0.9778444449296243,\n",
              " 'MOGA': 0.989011996896389,\n",
              " 'MUKTSAR': 0.9516390123947293,\n",
              " 'NAWANSHAHR': 0.6178741109900708,\n",
              " 'PATHANKOT': 0.24126655071960715,\n",
              " 'PATIALA': 0.980937659491659,\n",
              " 'RUPNAGAR': 0.6416585582902932,\n",
              " 'S.A.S NAGAR': 0.9712458837125757,\n",
              " 'SANGRUR': 0.9880957502375824,\n",
              " 'TARN TARAN': 0.9752867480544654,\n",
              " 'AJMER': 0.6684562039071955,\n",
              " 'ALWAR': 0.8692216918737001,\n",
              " 'BANSWARA': 0.9098628227940146,\n",
              " 'BARAN': 0.8865609338701864,\n",
              " 'BARMER': 0.7164325525010509,\n",
              " 'BHARATPUR': 0.8569216651562018,\n",
              " 'BHILWARA': 0.8644149407422483,\n",
              " 'BIKANER': 0.7380595127664993,\n",
              " 'BUNDI': 0.7772899680880857,\n",
              " 'CHITTORGARH': 0.8808059847474988,\n",
              " 'CHURU': 0.6981278123947094,\n",
              " 'DAUSA': 0.8811335063966779,\n",
              " 'DHOLPUR': 0.8917427924828079,\n",
              " 'DUNGARPUR': 0.8592010761679395,\n",
              " 'GANGANAGAR': 0.7811543374574687,\n",
              " 'HANUMANGARH': 0.6942728272272676,\n",
              " 'JAIPUR': 0.8419983648419953,\n",
              " 'JAISALMER': 0.5578994434624245,\n",
              " 'JALORE': 0.8006949475482107,\n",
              " 'JHALAWAR': 0.9094093799767767,\n",
              " 'JHUNJHUNU': 0.8020360135809391,\n",
              " 'JODHPUR': 0.6793373921918268,\n",
              " 'KARAULI': 0.8878679613902632,\n",
              " 'KOTA': 0.8755108528305698,\n",
              " 'NAGAUR': 0.8008821206599626,\n",
              " 'PALI': 0.6640779565694931,\n",
              " 'PRATAPGARH': 0.9372420521026606,\n",
              " 'RAJSAMAND': 0.8132071360492983,\n",
              " 'SAWAI MADHOPUR': 0.8815306729318381,\n",
              " 'SIKAR': 0.8014938314051998,\n",
              " 'SIROHI': 0.822733086245646,\n",
              " 'TONK': 0.8455814855196566,\n",
              " 'UDAIPUR': 0.9374434558199759,\n",
              " 'EAST DISTRICT': 0.9161468843130508,\n",
              " 'NORTH DISTRICT': 0.8952632941395469,\n",
              " 'SOUTH DISTRICT': 0.5236831027270382,\n",
              " 'WEST DISTRICT': 0.9594593535442142,\n",
              " 'ARIYALUR': 0.05044725212306734,\n",
              " 'COIMBATORE': 0.23422386208595156,\n",
              " 'CUDDALORE': 0.05990627333895303,\n",
              " 'DHARMAPURI': 0.003922984725694395,\n",
              " 'DINDIGUL': 0.0902817026119954,\n",
              " 'ERODE': 0.04952182785301608,\n",
              " 'KANCHIPURAM': 0.02688827005792083,\n",
              " 'KANNIYAKUMARI': 0.2237730919008183,\n",
              " 'KARUR': 0.02667221403985498,\n",
              " 'KRISHNAGIRI': 0.09200856126824984,\n",
              " 'MADURAI': 0.033077724409182316,\n",
              " 'NAGAPATTINAM': -0.008611158763920315,\n",
              " 'NAMAKKAL': 0.02390938136306967,\n",
              " 'PERAMBALUR': 0.04818819262938504,\n",
              " 'PUDUKKOTTAI': 0.012158843691704885,\n",
              " 'RAMANATHAPURAM': 0.009190962765447981,\n",
              " 'SALEM': 0.028775072428569724,\n",
              " 'SIVAGANGA': 0.01304166512932735,\n",
              " 'THANJAVUR': 0.044105927362569956,\n",
              " 'THE NILGIRIS': 0.42408654322001244,\n",
              " 'THENI': 0.1663001497829605,\n",
              " 'THIRUVALLUR': 0.058509589386491145,\n",
              " 'THIRUVARUR': -0.014455667793581178,\n",
              " 'TIRUCHIRAPPALLI': 0.006117525509607964,\n",
              " 'TIRUNELVELI': 0.043143433531400543,\n",
              " 'TIRUPPUR': 0.6626671831268489,\n",
              " 'TIRUVANNAMALAI': 0.09724282256160591,\n",
              " 'TUTICORIN': 0.003565618075669585,\n",
              " 'VELLORE': 0.0669339500610717,\n",
              " 'VILLUPURAM': 0.14596677135094516,\n",
              " 'VIRUDHUNAGAR': 0.03923351466365587,\n",
              " 'ADILABAD': 0.9252823501200172,\n",
              " 'HYDERABAD': 0.9988798674204792,\n",
              " 'KARIMNAGAR': 0.9410937391645283,\n",
              " 'KHAMMAM': 0.006433186047751331,\n",
              " 'MAHBUBNAGAR': 0.711173879224199,\n",
              " 'MEDAK': 0.2446587272781864,\n",
              " 'NALGONDA': 0.8776923606041854,\n",
              " 'NIZAMABAD': 0.3797286218450434,\n",
              " 'RANGAREDDI': 0.4534015433011417,\n",
              " 'WARANGAL': 0.9592210189618134,\n",
              " 'DHALAI': 0.9738121672331143,\n",
              " 'GOMATI': 0.9990102968508108,\n",
              " 'KHOWAI': 0.998963747321686,\n",
              " 'NORTH TRIPURA': 0.9870096386484793,\n",
              " 'SEPAHIJALA': 0.9995858205672697,\n",
              " 'SOUTH TRIPURA': 0.9832981453879817,\n",
              " 'UNAKOTI': 0.9931102365218809,\n",
              " 'WEST TRIPURA': 0.9937513675122333,\n",
              " 'AGRA': 0.5225523888133077,\n",
              " 'ALIGARH': 0.7370215778934582,\n",
              " 'ALLAHABAD': 0.9255937797397146,\n",
              " 'AMBEDKAR NAGAR': 0.6253546144821381,\n",
              " 'AMETHI': 0.9459860572744494,\n",
              " 'AMROHA': 0.6223384088914339,\n",
              " 'AURAIYA': 0.9112321610707902,\n",
              " 'AZAMGARH': 0.5927868691415858,\n",
              " 'BAGHPAT': 0.7902631535637832,\n",
              " 'BAHRAICH': 0.3952647264326551,\n",
              " 'BALLIA': 0.7401768055413691,\n",
              " 'BANDA': 0.9159902765598918,\n",
              " 'BARABANKI': 0.617282244149014,\n",
              " 'BAREILLY': 0.36601880620474975,\n",
              " 'BASTI': 0.3290366623162267,\n",
              " 'BIJNOR': 0.8551718245679405,\n",
              " 'BUDAUN': 0.4953679505028416,\n",
              " 'BULANDSHAHR': 0.39134715568259115,\n",
              " 'CHANDAULI': 0.9708232829290195,\n",
              " 'CHITRAKOOT': 0.8555806816345768,\n",
              " 'DEORIA': 0.5917809817913345,\n",
              " 'ETAH': 0.8055128296935776,\n",
              " 'ETAWAH': 0.7653786074252596,\n",
              " 'FAIZABAD': 0.3758672432531023,\n",
              " 'FARRUKHABAD': 0.4977873140190924,\n",
              " 'FATEHPUR': 0.6900772183758619,\n",
              " 'FIROZABAD': 0.5300932208365562,\n",
              " 'GAUTAM BUDDHA NAGAR': 0.7368870367538745,\n",
              " 'GHAZIABAD': 0.624272854163627,\n",
              " 'GHAZIPUR': 0.7751596525992983,\n",
              " 'GONDA': 0.34943830027611716,\n",
              " 'GORAKHPUR': 0.899960490633151,\n",
              " 'HAPUR': 0.6412464899336202,\n",
              " 'HARDOI': 0.5280432593756491,\n",
              " 'HATHRAS': 0.5329380838577731,\n",
              " 'JALAUN': 0.8620054357617836,\n",
              " 'JAUNPUR': 0.6914129741732318,\n",
              " 'JHANSI': 0.856894302286304,\n",
              " 'KANNAUJ': 0.5854355601118794,\n",
              " 'KANPUR DEHAT': 0.8945458779375277,\n",
              " 'KANPUR NAGAR': 0.8233261644531956,\n",
              " 'KASGANJ': 0.6222220433067764,\n",
              " 'KAUSHAMBI': 0.8152728421930789,\n",
              " 'KHERI': 0.6324241686559084,\n",
              " 'KUSHI NAGAR': 0.46389346661623115,\n",
              " 'LALITPUR': 0.8772598360193024,\n",
              " 'LUCKNOW': 0.9256629002647151,\n",
              " 'MAHARAJGANJ': 0.48636480115194725,\n",
              " 'MAHOBA': 0.6641117683285337,\n",
              " 'MAINPURI': 0.8574104428800436,\n",
              " 'MATHURA': 0.7900403296191323,\n",
              " 'MAU': 0.6113415481783955,\n",
              " 'MEERUT': 0.8395526040165653,\n",
              " 'MIRZAPUR': 0.9171303909435636,\n",
              " 'MORADABAD': 0.3559956915425846,\n",
              " 'MUZAFFARNAGAR': 0.8610635478308684,\n",
              " 'PILIBHIT': 0.37218429152153243,\n",
              " 'RAE BARELI': 0.9098979540133104,\n",
              " 'RAMPUR': 0.422601247073755,\n",
              " 'SAHARANPUR': 0.6909587815196434,\n",
              " 'SAMBHAL': 0.3299232774217484,\n",
              " 'SANT KABEER NAGAR': 0.7625481023894783,\n",
              " 'SANT RAVIDAS NAGAR': 0.8632583907123959,\n",
              " 'SHAHJAHANPUR': 0.4239860553764482,\n",
              " 'SHAMLI': 0.7867647377881279,\n",
              " 'SHRAVASTI': 0.6009591871169832,\n",
              " 'SIDDHARTH NAGAR': 0.895309020317447,\n",
              " 'SITAPUR': 0.4390535113547014,\n",
              " 'SONBHADRA': 0.9233792197851166,\n",
              " 'SULTANPUR': 0.7169076893988497,\n",
              " 'UNNAO': 0.9443759143044821,\n",
              " 'VARANASI': 0.6549806107949093,\n",
              " 'ALMORA': 0.9699689627380487,\n",
              " 'BAGESHWAR': 0.9727003558774066,\n",
              " 'CHAMOLI': 0.281457851232285,\n",
              " 'CHAMPAWAT': 0.9123456862550536,\n",
              " 'DEHRADUN': 0.6610574165786577,\n",
              " 'HARIDWAR': 0.8029673065630984,\n",
              " 'NAINITAL': 0.3287342965204796,\n",
              " 'PAURI GARHWAL': 0.9736815810111877,\n",
              " 'PITHORAGARH': 0.978721210939944,\n",
              " 'RUDRA PRAYAG': 0.9885147810566609,\n",
              " 'TEHRI GARHWAL': 0.9541802575157682,\n",
              " 'UDAM SINGH NAGAR': 0.3847996191670155,\n",
              " 'UTTAR KASHI': 0.6462705986416785,\n",
              " '24 PARAGANAS NORTH': 0.03254069834581845,\n",
              " '24 PARAGANAS SOUTH': 0.02443123194275786,\n",
              " 'BANKURA': 0.494540208143914,\n",
              " 'BARDHAMAN': 0.13518973851089844,\n",
              " 'BIRBHUM': 0.17052423178048148,\n",
              " 'COOCHBEHAR': 0.11964030303012546,\n",
              " 'DARJEELING': 0.05426147521820745,\n",
              " 'DINAJPUR DAKSHIN': 0.4577404224145961,\n",
              " 'DINAJPUR UTTAR': 0.5604147801310674,\n",
              " 'HOOGHLY': 0.1585296728446843,\n",
              " 'HOWRAH': 0.0010118783974757137,\n",
              " 'JALPAIGURI': 0.07887302527650686,\n",
              " 'MALDAH': 0.3753025987598906,\n",
              " 'MEDINIPUR EAST': 0.05316995263330775,\n",
              " 'MEDINIPUR WEST': 0.17251133227586918,\n",
              " 'MURSHIDABAD': 0.07067179191643692,\n",
              " 'NADIA': 0.378294111505083,\n",
              " 'PURULIA': 0.8047320387660523}"
            ]
          },
          "metadata": {},
          "execution_count": 26
        }
      ]
    },
    {
      "cell_type": "code",
      "source": [
        "calculate_correlation(crop, 'Crop_Year')"
      ],
      "metadata": {
        "colab": {
          "base_uri": "https://localhost:8080/"
        },
        "id": "SMBOOE1eAIQu",
        "outputId": "120a65d7-40cf-482e-8b9d-d60bdc35a293"
      },
      "execution_count": null,
      "outputs": [
        {
          "output_type": "execute_result",
          "data": {
            "text/plain": [
              "{'2000': 0.05759306900468999,\n",
              " '2001': 0.05549646943152841,\n",
              " '2002': 0.060078711398763154,\n",
              " '2003': 0.056747308913680974,\n",
              " '2004': 0.05504011998346085,\n",
              " '2005': 0.057589154877815185,\n",
              " '2006': 0.053366268073735214,\n",
              " '2010': 0.048890880969054924,\n",
              " '1997': 0.17505295978448515,\n",
              " '1998': 0.05429823816980717,\n",
              " '1999': 0.06019000037727312,\n",
              " '2007': 0.05529686323475582,\n",
              " '2008': 0.04905308315020927,\n",
              " '2009': 0.049846608441044694,\n",
              " '2011': 0.05687437358854194,\n",
              " '2012': 0.052796814663316156,\n",
              " '2013': 0.06048058560101603,\n",
              " '2014': 0.06096378453447654,\n",
              " '2015': 0.903021786140191}"
            ]
          },
          "metadata": {},
          "execution_count": 27
        }
      ]
    },
    {
      "cell_type": "code",
      "source": [
        "calculate_correlation(crop, 'Season')"
      ],
      "metadata": {
        "colab": {
          "base_uri": "https://localhost:8080/"
        },
        "id": "1VRDJOWjAITd",
        "outputId": "57252576-faa2-4ee6-fc5a-1aa8134ac75a"
      },
      "execution_count": null,
      "outputs": [
        {
          "output_type": "execute_result",
          "data": {
            "text/plain": [
              "{'Kharif     ': 0.278978328719908,\n",
              " 'Whole Year ': 0.12155537423390905,\n",
              " 'Autumn     ': 0.8723613986223315,\n",
              " 'Rabi       ': 0.6832924173572991,\n",
              " 'Summer     ': 0.7405505031895169,\n",
              " 'Winter     ': 0.8970083290479142}"
            ]
          },
          "metadata": {},
          "execution_count": 28
        }
      ]
    },
    {
      "cell_type": "markdown",
      "source": [
        "Seeing this we can see most of the moat of the data are positively correlated and we can use these all features in our analysis.\n",
        "\n",
        "There are some features with less correlation coefficient and even negative. This may be due to the fact of variability within the data. We can also perform anova analysis to see the infuence of categorical variable on numeric prediction"
      ],
      "metadata": {
        "id": "0F2-s-9dNSh2"
      }
    },
    {
      "cell_type": "code",
      "source": [
        "import statsmodels.api as sm\n",
        "from statsmodels.formula.api import ols\n",
        "\n",
        "# Assuming 'crop' is your DataFrame containing both categorical and numeric variables\n",
        "# 'Crop' is the categorical variable\n",
        "# 'Production' is the numeric variable\n",
        "\n",
        "# Perform ANOVA\n",
        "model = ols(f\"Production ~ C(Crop)\", data=crop).fit()\n",
        "anova_table = sm.stats.anova_lm(model, typ=2)\n",
        "\n",
        "# Print ANOVA results\n",
        "print(anova_table)"
      ],
      "metadata": {
        "colab": {
          "base_uri": "https://localhost:8080/"
        },
        "id": "ZX4h8a2rAIbG",
        "outputId": "97337603-38ef-495b-ebe6-ed92db75bb71"
      },
      "execution_count": null,
      "outputs": [
        {
          "output_type": "stream",
          "name": "stdout",
          "text": [
            "                sum_sq        df           F  PR(>F)\n",
            "C(Crop)   8.554221e+18     104.0  316.561436     0.0\n",
            "Residual  6.202997e+19  238733.0         NaN     NaN\n"
          ]
        }
      ]
    },
    {
      "cell_type": "code",
      "source": [
        "# Perform ANOVA\n",
        "model = ols(f\"Production ~ C(State_Name)\", data=crop).fit()\n",
        "anova_table = sm.stats.anova_lm(model, typ=2)\n",
        "\n",
        "# Print ANOVA results\n",
        "print(anova_table)"
      ],
      "metadata": {
        "colab": {
          "base_uri": "https://localhost:8080/"
        },
        "id": "8kiqcWIxOkU3",
        "outputId": "cc96e812-afa0-4d4a-8cb9-b4f6be046ca0"
      },
      "execution_count": null,
      "outputs": [
        {
          "output_type": "stream",
          "name": "stdout",
          "text": [
            "                     sum_sq        df           F  PR(>F)\n",
            "C(State_Name)  2.473230e+18      32.0  270.982256     0.0\n",
            "Residual       6.811096e+19  238805.0         NaN     NaN\n"
          ]
        }
      ]
    },
    {
      "cell_type": "code",
      "source": [
        "# Perform ANOVA\n",
        "model = ols(f\"Production ~ C(District_Name)\", data=crop).fit()\n",
        "anova_table = sm.stats.anova_lm(model, typ=2)\n",
        "\n",
        "# Print ANOVA results\n",
        "print(anova_table)"
      ],
      "metadata": {
        "colab": {
          "base_uri": "https://localhost:8080/"
        },
        "id": "AC5hKdyCPIuH",
        "outputId": "e82fa7e2-b7ea-4e21-817a-42670bea0533"
      },
      "execution_count": null,
      "outputs": [
        {
          "output_type": "stream",
          "name": "stdout",
          "text": [
            "                        sum_sq        df          F  PR(>F)\n",
            "C(District_Name)  3.764162e+18     645.0  20.803151     0.0\n",
            "Residual          6.682003e+19  238192.0        NaN     NaN\n"
          ]
        }
      ]
    },
    {
      "cell_type": "code",
      "source": [
        "# Perform ANOVA\n",
        "model = ols(f\"Production ~ C(Crop_Year)\", data=crop).fit()\n",
        "anova_table = sm.stats.anova_lm(model, typ=2)\n",
        "\n",
        "# Print ANOVA results\n",
        "print(anova_table)"
      ],
      "metadata": {
        "colab": {
          "base_uri": "https://localhost:8080/"
        },
        "id": "Xq3B7VctPIxT",
        "outputId": "1c190e93-c56d-40a1-cf54-172a1e4d2f74"
      },
      "execution_count": null,
      "outputs": [
        {
          "output_type": "stream",
          "name": "stdout",
          "text": [
            "                    sum_sq        df         F   PR(>F)\n",
            "C(Crop_Year)  8.243784e+15      18.0  1.549766  0.06367\n",
            "Residual      7.057595e+19  238819.0       NaN      NaN\n"
          ]
        }
      ]
    },
    {
      "cell_type": "code",
      "source": [
        "# Perform ANOVA\n",
        "model = ols(f\"Production ~ C(Season)\", data=crop).fit()\n",
        "anova_table = sm.stats.anova_lm(model, typ=2)\n",
        "\n",
        "# Print ANOVA results\n",
        "print(anova_table)"
      ],
      "metadata": {
        "colab": {
          "base_uri": "https://localhost:8080/"
        },
        "id": "TJ1ryUlRPIz9",
        "outputId": "7dc06f58-9355-4137-c311-8f686afde876"
      },
      "execution_count": null,
      "outputs": [
        {
          "output_type": "stream",
          "name": "stdout",
          "text": [
            "                 sum_sq        df           F         PR(>F)\n",
            "C(Season)  2.553078e+17       5.0  173.401495  8.009777e-185\n",
            "Residual   7.032889e+19  238832.0         NaN            NaN\n"
          ]
        }
      ]
    },
    {
      "cell_type": "markdown",
      "source": [
        "So from the above results we can see that all the categorical variables significantly influence the production variables, so we would be using all in our machine learning model. Before using in machine learning model we would check the outliers of the data"
      ],
      "metadata": {
        "id": "uDPBWqiWQzHG"
      }
    },
    {
      "cell_type": "code",
      "source": [
        "np.max(crop['Production'])"
      ],
      "metadata": {
        "colab": {
          "base_uri": "https://localhost:8080/"
        },
        "id": "_shpOaEWbTV5",
        "outputId": "f1849611-e3c8-459e-f162-756cba33d64d"
      },
      "execution_count": null,
      "outputs": [
        {
          "output_type": "execute_result",
          "data": {
            "text/plain": [
              "1250800000.0"
            ]
          },
          "metadata": {},
          "execution_count": 39
        }
      ]
    },
    {
      "cell_type": "code",
      "source": [
        "np.min(crop['Production'])"
      ],
      "metadata": {
        "colab": {
          "base_uri": "https://localhost:8080/"
        },
        "id": "cMBBgQHAbTY_",
        "outputId": "e3f616f1-127b-45a4-b3d7-b28367abe53a"
      },
      "execution_count": null,
      "outputs": [
        {
          "output_type": "execute_result",
          "data": {
            "text/plain": [
              "0.01"
            ]
          },
          "metadata": {},
          "execution_count": 40
        }
      ]
    },
    {
      "cell_type": "code",
      "source": [
        "np.mean(crop['Production'])"
      ],
      "metadata": {
        "colab": {
          "base_uri": "https://localhost:8080/"
        },
        "id": "CH5eF62ybTb2",
        "outputId": "5a4bbbf9-d3a0-42bf-9398-37ce9258214f"
      },
      "execution_count": null,
      "outputs": [
        {
          "output_type": "execute_result",
          "data": {
            "text/plain": [
              "591095.7082515763"
            ]
          },
          "metadata": {},
          "execution_count": 41
        }
      ]
    },
    {
      "cell_type": "code",
      "source": [
        "Q1 = crop['Production'].quantile(0.25)\n",
        "Q3 = crop['Production'].quantile(0.75)\n",
        "IQR = Q3 - Q1\n",
        "\n",
        "# Define outlier bounds\n",
        "lower_bound = Q1 - 1.5 * IQR\n",
        "upper_bound = Q3 + 1.5 * IQR\n",
        "\n",
        "# Identify outliers\n",
        "outliers = crop[(crop['Production'] < lower_bound) | (crop['Production'] > upper_bound)]\n",
        "\n",
        "print(\"Outliers:\")\n",
        "print(\"Number of rows of Outliers is \", len(outliers))"
      ],
      "metadata": {
        "colab": {
          "base_uri": "https://localhost:8080/"
        },
        "id": "aGOPzPfgdCWV",
        "outputId": "34e6a275-105b-4e1f-e409-ce6d40598322"
      },
      "execution_count": null,
      "outputs": [
        {
          "output_type": "stream",
          "name": "stdout",
          "text": [
            "Outliers:\n",
            "Number of rows of Outliers is  41632\n"
          ]
        }
      ]
    },
    {
      "cell_type": "code",
      "source": [
        "Q1 = crop['Area'].quantile(0.25)\n",
        "Q3 = crop['Area'].quantile(0.75)\n",
        "IQR = Q3 - Q1\n",
        "\n",
        "# Define outlier bounds\n",
        "lower_bound = Q1 - 1.5 * IQR\n",
        "upper_bound = Q3 + 1.5 * IQR\n",
        "\n",
        "# Identify outliers\n",
        "outliers = crop[(crop['Area'] < lower_bound) | (crop['Area'] > upper_bound)]\n",
        "\n",
        "print(\"Outliers:\")\n",
        "print(\"Number of rows of Outliers is \", len(outliers))"
      ],
      "metadata": {
        "colab": {
          "base_uri": "https://localhost:8080/"
        },
        "id": "1Hq8dBa5dzx3",
        "outputId": "c296bd8d-827b-4c7f-9d0f-520b9f66388a"
      },
      "execution_count": null,
      "outputs": [
        {
          "output_type": "stream",
          "name": "stdout",
          "text": [
            "Outliers:\n",
            "Number of rows of Outliers is  39233\n"
          ]
        }
      ]
    },
    {
      "cell_type": "markdown",
      "source": [
        "We have used the above to identify the number of outliers of each variables. While building the model we are going to use a comparative study of model prediction using the data with outliers and the data with no outliers"
      ],
      "metadata": {
        "id": "BG0u11lcgEw9"
      }
    },
    {
      "cell_type": "code",
      "source": [
        "# Calculate quartiles and IQR for both variables\n",
        "Q1_production = crop['Production'].quantile(0.25)\n",
        "Q3_production = crop['Production'].quantile(0.75)\n",
        "IQR_production = Q3_production - Q1_production\n",
        "\n",
        "Q1_area = crop['Area'].quantile(0.25)\n",
        "Q3_area = crop['Area'].quantile(0.75)\n",
        "IQR_area = Q3_area - Q1_area\n",
        "\n",
        "# Define outlier bounds for both variables\n",
        "lower_bound_production = Q1_production - 1.5 * IQR_production\n",
        "upper_bound_production = Q3_production + 1.5 * IQR_production\n",
        "\n",
        "lower_bound_area = Q1_area - 1.5 * IQR_area\n",
        "upper_bound_area = Q3_area + 1.5 * IQR_area\n",
        "\n",
        "# Identify outliers for both variables\n",
        "outliers = crop[\n",
        "    (crop['Production'] < lower_bound_production) | (crop['Production'] > upper_bound_production) |\n",
        "    (crop['Area'] < lower_bound_area) | (crop['Area'] > upper_bound_area)\n",
        "]\n",
        "\n",
        "#print(\"Outliers:\")\n",
        "print(\"Number of rows of outliers:\", len(outliers))\n",
        "\n",
        "# Remove outliers from both variables\n",
        "crop_no_outliers = crop[\n",
        "    (crop['Production'] >= lower_bound_production) & (crop['Production'] <= upper_bound_production) &\n",
        "    (crop['Area'] >= lower_bound_area) & (crop['Area'] <= upper_bound_area)\n",
        "]\n",
        "\n",
        "#print(\"Dataset without outliers:\")\n",
        "#print(crop_no_outliers)\n",
        "\n",
        "print(\"Number of rows after removing outliers:\", len(crop_no_outliers))\n"
      ],
      "metadata": {
        "colab": {
          "base_uri": "https://localhost:8080/"
        },
        "id": "TURFQPRFgdHF",
        "outputId": "498e0e29-c215-4cc7-ff59-568d50902df6"
      },
      "execution_count": null,
      "outputs": [
        {
          "output_type": "stream",
          "name": "stdout",
          "text": [
            "Number of rows of outliers: 50784\n",
            "Number of rows after removing outliers: 188054\n"
          ]
        }
      ]
    },
    {
      "cell_type": "code",
      "source": [
        "crop_no_outliers.info()"
      ],
      "metadata": {
        "colab": {
          "base_uri": "https://localhost:8080/"
        },
        "id": "vMeyb-2t1Qlr",
        "outputId": "fd8b36cd-e213-4077-d560-41c6dc9909d0"
      },
      "execution_count": null,
      "outputs": [
        {
          "output_type": "stream",
          "name": "stdout",
          "text": [
            "<class 'pandas.core.frame.DataFrame'>\n",
            "Int64Index: 188054 entries, 0 to 246090\n",
            "Data columns (total 7 columns):\n",
            " #   Column         Non-Null Count   Dtype  \n",
            "---  ------         --------------   -----  \n",
            " 0   State_Name     188054 non-null  object \n",
            " 1   District_Name  188054 non-null  object \n",
            " 2   Crop_Year      188054 non-null  object \n",
            " 3   Season         188054 non-null  object \n",
            " 4   Crop           188054 non-null  object \n",
            " 5   Area           188054 non-null  float64\n",
            " 6   Production     188054 non-null  float64\n",
            "dtypes: float64(2), object(5)\n",
            "memory usage: 11.5+ MB\n"
          ]
        }
      ]
    },
    {
      "cell_type": "code",
      "source": [
        "crop.info()"
      ],
      "metadata": {
        "colab": {
          "base_uri": "https://localhost:8080/"
        },
        "id": "uoM-rFOM1QpS",
        "outputId": "8c7e1989-d36c-4684-91fc-8f0172d12c4d"
      },
      "execution_count": null,
      "outputs": [
        {
          "output_type": "stream",
          "name": "stdout",
          "text": [
            "<class 'pandas.core.frame.DataFrame'>\n",
            "Int64Index: 238838 entries, 0 to 246090\n",
            "Data columns (total 7 columns):\n",
            " #   Column         Non-Null Count   Dtype  \n",
            "---  ------         --------------   -----  \n",
            " 0   State_Name     238838 non-null  object \n",
            " 1   District_Name  238838 non-null  object \n",
            " 2   Crop_Year      238838 non-null  object \n",
            " 3   Season         238838 non-null  object \n",
            " 4   Crop           238838 non-null  object \n",
            " 5   Area           238838 non-null  float64\n",
            " 6   Production     238838 non-null  float64\n",
            "dtypes: float64(2), object(5)\n",
            "memory usage: 14.6+ MB\n"
          ]
        }
      ]
    },
    {
      "cell_type": "markdown",
      "source": [
        "## Machine Learning model"
      ],
      "metadata": {
        "id": "EnMYl4iZRCIv"
      }
    },
    {
      "cell_type": "markdown",
      "source": [
        "### Data with outliers"
      ],
      "metadata": {
        "id": "AsmYXPmqhCJl"
      }
    },
    {
      "cell_type": "code",
      "source": [
        "X = crop.drop(['Production'], axis = 'columns')\n",
        "y = crop['Production']"
      ],
      "metadata": {
        "id": "xhn5XTZZRBWA"
      },
      "execution_count": null,
      "outputs": []
    },
    {
      "cell_type": "markdown",
      "source": [
        "**Note: The below pip install code must be run once and then the runtime has to be reset in order for the libraries to install properly and then while excecuting the code the pip install need not to be run again, this installs cuml and cudf libraries for high performance GPU processing**"
      ],
      "metadata": {
        "id": "6lHudCIbg3S0"
      }
    },
    {
      "cell_type": "code",
      "source": [
        "! pip install \\\n",
        "    --extra-index-url=https://pypi.nvidia.com \\\n",
        "    cudf-cu12==24.2.* dask-cudf-cu12==24.2.* cuml-cu12==24.2.* \\\n",
        "    cugraph-cu12==24.2.* cuspatial-cu12==24.2.* cuproj-cu12==24.2.* \\\n",
        "    cuxfilter-cu12==24.2.* cucim-cu12==24.2.* pylibraft-cu12==24.2.* \\\n",
        "    raft-dask-cu12==24.2.*"
      ],
      "metadata": {
        "colab": {
          "base_uri": "https://localhost:8080/",
          "height": 1000
        },
        "id": "vnAnKbNe31Pm",
        "outputId": "073bae05-c28b-408e-b80a-9263ccfe39d0"
      },
      "execution_count": null,
      "outputs": [
        {
          "output_type": "stream",
          "name": "stdout",
          "text": [
            "Looking in indexes: https://pypi.org/simple, https://pypi.nvidia.com\n",
            "Collecting cudf-cu12==24.2.*\n",
            "  Downloading https://pypi.nvidia.com/cudf-cu12/cudf_cu12-24.2.2-cp310-cp310-manylinux_2_28_x86_64.whl (464.7 MB)\n",
            "\u001b[2K     \u001b[90m━━━━━━━━━━━━━━━━━━━━━━━━━━━━━━━━━━━━━━━━\u001b[0m \u001b[32m464.7/464.7 MB\u001b[0m \u001b[31m3.5 MB/s\u001b[0m eta \u001b[36m0:00:00\u001b[0m\n",
            "\u001b[?25hCollecting dask-cudf-cu12==24.2.*\n",
            "  Downloading https://pypi.nvidia.com/dask-cudf-cu12/dask_cudf_cu12-24.2.2-py3-none-any.whl (45 kB)\n",
            "\u001b[2K     \u001b[90m━━━━━━━━━━━━━━━━━━━━━━━━━━━━━━━━━━━━━━━━\u001b[0m \u001b[32m45.1/45.1 kB\u001b[0m \u001b[31m5.6 MB/s\u001b[0m eta \u001b[36m0:00:00\u001b[0m\n",
            "\u001b[?25hCollecting cuml-cu12==24.2.*\n",
            "  Downloading https://pypi.nvidia.com/cuml-cu12/cuml_cu12-24.2.0-cp310-cp310-manylinux_2_17_x86_64.manylinux2014_x86_64.whl (1074.6 MB)\n",
            "\u001b[2K     \u001b[90m━━━━━━━━━━━━━━━━━━━━━━━━━━━━━━━━━━━━━━━━\u001b[0m \u001b[32m1.1/1.1 GB\u001b[0m \u001b[31m612.6 kB/s\u001b[0m eta \u001b[36m0:00:00\u001b[0m\n",
            "\u001b[?25hCollecting cugraph-cu12==24.2.*\n",
            "  Downloading https://pypi.nvidia.com/cugraph-cu12/cugraph_cu12-24.2.0-cp310-cp310-manylinux_2_17_x86_64.manylinux2014_x86_64.whl (1311.2 MB)\n",
            "\u001b[2K     \u001b[90m━━━━━━━━━━━━━━━━━━━━━━━━━━━━━━━━━━━━━━━━\u001b[0m \u001b[32m1.3/1.3 GB\u001b[0m \u001b[31m1.1 MB/s\u001b[0m eta \u001b[36m0:00:00\u001b[0m\n",
            "\u001b[?25hCollecting cuspatial-cu12==24.2.*\n",
            "  Downloading https://pypi.nvidia.com/cuspatial-cu12/cuspatial_cu12-24.2.0-cp310-cp310-manylinux_2_17_x86_64.manylinux2014_x86_64.whl (133.1 MB)\n",
            "\u001b[2K     \u001b[90m━━━━━━━━━━━━━━━━━━━━━━━━━━━━━━━━━━━━━━━━\u001b[0m \u001b[32m133.1/133.1 MB\u001b[0m \u001b[31m8.0 MB/s\u001b[0m eta \u001b[36m0:00:00\u001b[0m\n",
            "\u001b[?25hCollecting cuproj-cu12==24.2.*\n",
            "  Downloading https://pypi.nvidia.com/cuproj-cu12/cuproj_cu12-24.2.0-cp310-cp310-manylinux_2_17_x86_64.manylinux2014_x86_64.whl (917 kB)\n",
            "\u001b[2K     \u001b[90m━━━━━━━━━━━━━━━━━━━━━━━━━━━━━━━━━━━━━━━━\u001b[0m \u001b[32m917.6/917.6 kB\u001b[0m \u001b[31m65.3 MB/s\u001b[0m eta \u001b[36m0:00:00\u001b[0m\n",
            "\u001b[?25hCollecting cuxfilter-cu12==24.2.*\n",
            "  Downloading https://pypi.nvidia.com/cuxfilter-cu12/cuxfilter_cu12-24.2.0-py3-none-any.whl (83 kB)\n",
            "\u001b[2K     \u001b[90m━━━━━━━━━━━━━━━━━━━━━━━━━━━━━━━━━━━━━━━━\u001b[0m \u001b[32m83.2/83.2 kB\u001b[0m \u001b[31m8.5 MB/s\u001b[0m eta \u001b[36m0:00:00\u001b[0m\n",
            "\u001b[?25hCollecting cucim-cu12==24.2.*\n",
            "  Downloading https://pypi.nvidia.com/cucim-cu12/cucim_cu12-24.2.0-cp310-cp310-manylinux_2_17_x86_64.manylinux2014_x86_64.whl (5.7 MB)\n",
            "\u001b[2K     \u001b[90m━━━━━━━━━━━━━━━━━━━━━━━━━━━━━━━━━━━━━━━━\u001b[0m \u001b[32m5.7/5.7 MB\u001b[0m \u001b[31m98.9 MB/s\u001b[0m eta \u001b[36m0:00:00\u001b[0m\n",
            "\u001b[?25hCollecting pylibraft-cu12==24.2.*\n",
            "  Downloading https://pypi.nvidia.com/pylibraft-cu12/pylibraft_cu12-24.2.0-cp310-cp310-manylinux_2_17_x86_64.manylinux2014_x86_64.whl (647.0 MB)\n",
            "\u001b[2K     \u001b[90m━━━━━━━━━━━━━━━━━━━━━━━━━━━━━━━━━━━━━━━━\u001b[0m \u001b[32m647.0/647.0 MB\u001b[0m \u001b[31m2.3 MB/s\u001b[0m eta \u001b[36m0:00:00\u001b[0m\n",
            "\u001b[?25hCollecting raft-dask-cu12==24.2.*\n",
            "  Downloading https://pypi.nvidia.com/raft-dask-cu12/raft_dask_cu12-24.2.0-cp310-cp310-manylinux_2_17_x86_64.manylinux2014_x86_64.whl (162.9 MB)\n",
            "\u001b[2K     \u001b[90m━━━━━━━━━━━━━━━━━━━━━━━━━━━━━━━━━━━━━━━━\u001b[0m \u001b[32m162.9/162.9 MB\u001b[0m \u001b[31m7.2 MB/s\u001b[0m eta \u001b[36m0:00:00\u001b[0m\n",
            "\u001b[?25hRequirement already satisfied: cachetools in /usr/local/lib/python3.10/dist-packages (from cudf-cu12==24.2.*) (5.3.3)\n",
            "Collecting cuda-python<13.0a0,>=12.0 (from cudf-cu12==24.2.*)\n",
            "  Downloading cuda_python-12.4.0-cp310-cp310-manylinux_2_17_x86_64.manylinux2014_x86_64.whl (24.5 MB)\n",
            "\u001b[2K     \u001b[90m━━━━━━━━━━━━━━━━━━━━━━━━━━━━━━━━━━━━━━━━\u001b[0m \u001b[32m24.5/24.5 MB\u001b[0m \u001b[31m48.4 MB/s\u001b[0m eta \u001b[36m0:00:00\u001b[0m\n",
            "\u001b[?25hRequirement already satisfied: cupy-cuda12x>=12.0.0 in /usr/local/lib/python3.10/dist-packages (from cudf-cu12==24.2.*) (12.2.0)\n",
            "Requirement already satisfied: fsspec>=0.6.0 in /usr/local/lib/python3.10/dist-packages (from cudf-cu12==24.2.*) (2023.6.0)\n",
            "Requirement already satisfied: numba>=0.57 in /usr/local/lib/python3.10/dist-packages (from cudf-cu12==24.2.*) (0.58.1)\n",
            "Collecting numpy<1.25,>=1.21 (from cudf-cu12==24.2.*)\n",
            "  Downloading numpy-1.24.4-cp310-cp310-manylinux_2_17_x86_64.manylinux2014_x86_64.whl (17.3 MB)\n",
            "\u001b[2K     \u001b[90m━━━━━━━━━━━━━━━━━━━━━━━━━━━━━━━━━━━━━━━━\u001b[0m \u001b[32m17.3/17.3 MB\u001b[0m \u001b[31m45.8 MB/s\u001b[0m eta \u001b[36m0:00:00\u001b[0m\n",
            "\u001b[?25hCollecting nvtx>=0.2.1 (from cudf-cu12==24.2.*)\n",
            "  Downloading nvtx-0.2.10-cp310-cp310-manylinux_2_17_x86_64.manylinux2014_x86_64.whl (582 kB)\n",
            "\u001b[2K     \u001b[90m━━━━━━━━━━━━━━━━━━━━━━━━━━━━━━━━━━━━━━━━\u001b[0m \u001b[32m582.6/582.6 kB\u001b[0m \u001b[31m58.5 MB/s\u001b[0m eta \u001b[36m0:00:00\u001b[0m\n",
            "\u001b[?25hRequirement already satisfied: packaging in /usr/local/lib/python3.10/dist-packages (from cudf-cu12==24.2.*) (24.0)\n",
            "Collecting pandas<1.6.0dev0,>=1.3 (from cudf-cu12==24.2.*)\n",
            "  Downloading pandas-1.5.3-cp310-cp310-manylinux_2_17_x86_64.manylinux2014_x86_64.whl (12.1 MB)\n",
            "\u001b[2K     \u001b[90m━━━━━━━━━━━━━━━━━━━━━━━━━━━━━━━━━━━━━━━━\u001b[0m \u001b[32m12.1/12.1 MB\u001b[0m \u001b[31m49.9 MB/s\u001b[0m eta \u001b[36m0:00:00\u001b[0m\n",
            "\u001b[?25hCollecting protobuf<5,>=4.21 (from cudf-cu12==24.2.*)\n",
            "  Downloading protobuf-4.25.3-cp37-abi3-manylinux2014_x86_64.whl (294 kB)\n",
            "\u001b[2K     \u001b[90m━━━━━━━━━━━━━━━━━━━━━━━━━━━━━━━━━━━━━━━━\u001b[0m \u001b[32m294.6/294.6 kB\u001b[0m \u001b[31m1.8 MB/s\u001b[0m eta \u001b[36m0:00:00\u001b[0m\n",
            "\u001b[?25hCollecting pynvjitlink-cu12 (from cudf-cu12==24.2.*)\n",
            "  Downloading https://pypi.nvidia.com/pynvjitlink-cu12/pynvjitlink_cu12-0.1.14-cp310-cp310-manylinux_2_17_x86_64.whl (24.0 MB)\n",
            "\u001b[2K     \u001b[90m━━━━━━━━━━━━━━━━━━━━━━━━━━━━━━━━━━━━━━━━\u001b[0m \u001b[32m24.0/24.0 MB\u001b[0m \u001b[31m54.8 MB/s\u001b[0m eta \u001b[36m0:00:00\u001b[0m\n",
            "\u001b[?25hRequirement already satisfied: pyarrow<15.0.0a0,>=14.0.1 in /usr/local/lib/python3.10/dist-packages (from cudf-cu12==24.2.*) (14.0.2)\n",
            "Requirement already satisfied: rich in /usr/local/lib/python3.10/dist-packages (from cudf-cu12==24.2.*) (13.7.1)\n",
            "Collecting rmm-cu12==24.2.* (from cudf-cu12==24.2.*)\n",
            "  Downloading https://pypi.nvidia.com/rmm-cu12/rmm_cu12-24.2.0-cp310-cp310-manylinux_2_17_x86_64.manylinux2014_x86_64.whl (1.7 MB)\n",
            "\u001b[2K     \u001b[90m━━━━━━━━━━━━━━━━━━━━━━━━━━━━━━━━━━━━━━━━\u001b[0m \u001b[32m1.7/1.7 MB\u001b[0m \u001b[31m88.9 MB/s\u001b[0m eta \u001b[36m0:00:00\u001b[0m\n",
            "\u001b[?25hRequirement already satisfied: typing_extensions>=4.0.0 in /usr/local/lib/python3.10/dist-packages (from cudf-cu12==24.2.*) (4.11.0)\n",
            "Collecting rapids-dask-dependency==24.2.* (from dask-cudf-cu12==24.2.*)\n",
            "  Downloading https://pypi.nvidia.com/rapids-dask-dependency/rapids_dask_dependency-24.2.0-py3-none-any.whl (6.4 kB)\n",
            "Collecting dask-cuda==24.2.* (from cuml-cu12==24.2.*)\n",
            "  Downloading dask_cuda-24.2.0-py3-none-any.whl (126 kB)\n",
            "\u001b[2K     \u001b[90m━━━━━━━━━━━━━━━━━━━━━━━━━━━━━━━━━━━━━━━━\u001b[0m \u001b[32m126.5/126.5 kB\u001b[0m \u001b[31m17.5 MB/s\u001b[0m eta \u001b[36m0:00:00\u001b[0m\n",
            "\u001b[?25hRequirement already satisfied: joblib>=0.11 in /usr/local/lib/python3.10/dist-packages (from cuml-cu12==24.2.*) (1.4.0)\n",
            "Requirement already satisfied: scipy>=1.8.0 in /usr/local/lib/python3.10/dist-packages (from cuml-cu12==24.2.*) (1.11.4)\n",
            "Collecting treelite==4.0.0 (from cuml-cu12==24.2.*)\n",
            "  Downloading treelite-4.0.0-py3-none-manylinux2014_x86_64.whl (758 kB)\n",
            "\u001b[2K     \u001b[90m━━━━━━━━━━━━━━━━━━━━━━━━━━━━━━━━━━━━━━━━\u001b[0m \u001b[32m758.7/758.7 kB\u001b[0m \u001b[31m58.6 MB/s\u001b[0m eta \u001b[36m0:00:00\u001b[0m\n",
            "\u001b[?25hCollecting pylibcugraph-cu12==24.2.* (from cugraph-cu12==24.2.*)\n",
            "  Downloading https://pypi.nvidia.com/pylibcugraph-cu12/pylibcugraph_cu12-24.2.0-cp310-cp310-manylinux_2_17_x86_64.manylinux2014_x86_64.whl (1312.2 MB)\n",
            "\u001b[2K     \u001b[90m━━━━━━━━━━━━━━━━━━━━━━━━━━━━━━━━━━━━━━━━\u001b[0m \u001b[32m1.3/1.3 GB\u001b[0m \u001b[31m1.1 MB/s\u001b[0m eta \u001b[36m0:00:00\u001b[0m\n",
            "\u001b[?25hCollecting ucx-py-cu12==0.36.* (from cugraph-cu12==24.2.*)\n",
            "  Downloading https://pypi.nvidia.com/ucx-py-cu12/ucx_py_cu12-0.36.0-cp310-cp310-manylinux_2_17_x86_64.manylinux2014_x86_64.whl (7.7 MB)\n",
            "\u001b[2K     \u001b[90m━━━━━━━━━━━━━━━━━━━━━━━━━━━━━━━━━━━━━━━━\u001b[0m \u001b[32m7.7/7.7 MB\u001b[0m \u001b[31m93.2 MB/s\u001b[0m eta \u001b[36m0:00:00\u001b[0m\n",
            "\u001b[?25hRequirement already satisfied: geopandas>=0.11.0 in /usr/local/lib/python3.10/dist-packages (from cuspatial-cu12==24.2.*) (0.13.2)\n",
            "Requirement already satisfied: bokeh>=3.1 in /usr/local/lib/python3.10/dist-packages (from cuxfilter-cu12==24.2.*) (3.3.4)\n",
            "Collecting datashader>=0.15 (from cuxfilter-cu12==24.2.*)\n",
            "  Downloading datashader-0.16.0-py2.py3-none-any.whl (18.3 MB)\n",
            "\u001b[2K     \u001b[90m━━━━━━━━━━━━━━━━━━━━━━━━━━━━━━━━━━━━━━━━\u001b[0m \u001b[32m18.3/18.3 MB\u001b[0m \u001b[31m54.8 MB/s\u001b[0m eta \u001b[36m0:00:00\u001b[0m\n",
            "\u001b[?25hRequirement already satisfied: holoviews>=1.16.0 in /usr/local/lib/python3.10/dist-packages (from cuxfilter-cu12==24.2.*) (1.17.1)\n",
            "Collecting jupyter-server-proxy (from cuxfilter-cu12==24.2.*)\n",
            "  Downloading jupyter_server_proxy-4.1.2-py3-none-any.whl (34 kB)\n",
            "Requirement already satisfied: panel>=1.0 in /usr/local/lib/python3.10/dist-packages (from cuxfilter-cu12==24.2.*) (1.3.8)\n",
            "Requirement already satisfied: lazy-loader>=0.1 in /usr/local/lib/python3.10/dist-packages (from cucim-cu12==24.2.*) (0.4)\n",
            "Requirement already satisfied: scikit-image<0.23.0a0,>=0.19.0 in /usr/local/lib/python3.10/dist-packages (from cucim-cu12==24.2.*) (0.19.3)\n",
            "Requirement already satisfied: click>=8.1 in /usr/local/lib/python3.10/dist-packages (from dask-cuda==24.2.*->cuml-cu12==24.2.*) (8.1.7)\n",
            "Collecting pynvml<11.5,>=11.0.0 (from dask-cuda==24.2.*->cuml-cu12==24.2.*)\n",
            "  Downloading pynvml-11.4.1-py3-none-any.whl (46 kB)\n",
            "\u001b[2K     \u001b[90m━━━━━━━━━━━━━━━━━━━━━━━━━━━━━━━━━━━━━━━━\u001b[0m \u001b[32m47.0/47.0 kB\u001b[0m \u001b[31m7.4 MB/s\u001b[0m eta \u001b[36m0:00:00\u001b[0m\n",
            "\u001b[?25hRequirement already satisfied: zict>=2.0.0 in /usr/local/lib/python3.10/dist-packages (from dask-cuda==24.2.*->cuml-cu12==24.2.*) (3.0.0)\n",
            "Collecting dask==2024.1.1 (from rapids-dask-dependency==24.2.*->dask-cudf-cu12==24.2.*)\n",
            "  Downloading dask-2024.1.1-py3-none-any.whl (1.2 MB)\n",
            "\u001b[2K     \u001b[90m━━━━━━━━━━━━━━━━━━━━━━━━━━━━━━━━━━━━━━━━\u001b[0m \u001b[32m1.2/1.2 MB\u001b[0m \u001b[31m74.1 MB/s\u001b[0m eta \u001b[36m0:00:00\u001b[0m\n",
            "\u001b[?25hCollecting distributed==2024.1.1 (from rapids-dask-dependency==24.2.*->dask-cudf-cu12==24.2.*)\n",
            "  Downloading distributed-2024.1.1-py3-none-any.whl (1.0 MB)\n",
            "\u001b[2K     \u001b[90m━━━━━━━━━━━━━━━━━━━━━━━━━━━━━━━━━━━━━━━━\u001b[0m \u001b[32m1.0/1.0 MB\u001b[0m \u001b[31m70.1 MB/s\u001b[0m eta \u001b[36m0:00:00\u001b[0m\n",
            "\u001b[?25hRequirement already satisfied: cloudpickle>=1.5.0 in /usr/local/lib/python3.10/dist-packages (from dask==2024.1.1->rapids-dask-dependency==24.2.*->dask-cudf-cu12==24.2.*) (2.2.1)\n",
            "Requirement already satisfied: partd>=1.2.0 in /usr/local/lib/python3.10/dist-packages (from dask==2024.1.1->rapids-dask-dependency==24.2.*->dask-cudf-cu12==24.2.*) (1.4.1)\n",
            "Requirement already satisfied: pyyaml>=5.3.1 in /usr/local/lib/python3.10/dist-packages (from dask==2024.1.1->rapids-dask-dependency==24.2.*->dask-cudf-cu12==24.2.*) (6.0.1)\n",
            "Requirement already satisfied: toolz>=0.10.0 in /usr/local/lib/python3.10/dist-packages (from dask==2024.1.1->rapids-dask-dependency==24.2.*->dask-cudf-cu12==24.2.*) (0.12.1)\n",
            "Requirement already satisfied: importlib-metadata>=4.13.0 in /usr/local/lib/python3.10/dist-packages (from dask==2024.1.1->rapids-dask-dependency==24.2.*->dask-cudf-cu12==24.2.*) (7.1.0)\n",
            "Requirement already satisfied: jinja2>=2.10.3 in /usr/local/lib/python3.10/dist-packages (from distributed==2024.1.1->rapids-dask-dependency==24.2.*->dask-cudf-cu12==24.2.*) (3.1.3)\n",
            "Requirement already satisfied: locket>=1.0.0 in /usr/local/lib/python3.10/dist-packages (from distributed==2024.1.1->rapids-dask-dependency==24.2.*->dask-cudf-cu12==24.2.*) (1.0.0)\n",
            "Requirement already satisfied: msgpack>=1.0.0 in /usr/local/lib/python3.10/dist-packages (from distributed==2024.1.1->rapids-dask-dependency==24.2.*->dask-cudf-cu12==24.2.*) (1.0.8)\n",
            "Requirement already satisfied: psutil>=5.7.2 in /usr/local/lib/python3.10/dist-packages (from distributed==2024.1.1->rapids-dask-dependency==24.2.*->dask-cudf-cu12==24.2.*) (5.9.5)\n",
            "Requirement already satisfied: sortedcontainers>=2.0.5 in /usr/local/lib/python3.10/dist-packages (from distributed==2024.1.1->rapids-dask-dependency==24.2.*->dask-cudf-cu12==24.2.*) (2.4.0)\n",
            "Requirement already satisfied: tblib>=1.6.0 in /usr/local/lib/python3.10/dist-packages (from distributed==2024.1.1->rapids-dask-dependency==24.2.*->dask-cudf-cu12==24.2.*) (3.0.0)\n",
            "Requirement already satisfied: tornado>=6.0.4 in /usr/local/lib/python3.10/dist-packages (from distributed==2024.1.1->rapids-dask-dependency==24.2.*->dask-cudf-cu12==24.2.*) (6.3.3)\n",
            "Requirement already satisfied: urllib3>=1.24.3 in /usr/local/lib/python3.10/dist-packages (from distributed==2024.1.1->rapids-dask-dependency==24.2.*->dask-cudf-cu12==24.2.*) (2.0.7)\n",
            "Requirement already satisfied: contourpy>=1 in /usr/local/lib/python3.10/dist-packages (from bokeh>=3.1->cuxfilter-cu12==24.2.*) (1.2.1)\n",
            "Requirement already satisfied: pillow>=7.1.0 in /usr/local/lib/python3.10/dist-packages (from bokeh>=3.1->cuxfilter-cu12==24.2.*) (9.4.0)\n",
            "Requirement already satisfied: xyzservices>=2021.09.1 in /usr/local/lib/python3.10/dist-packages (from bokeh>=3.1->cuxfilter-cu12==24.2.*) (2024.4.0)\n",
            "Requirement already satisfied: fastrlock>=0.5 in /usr/local/lib/python3.10/dist-packages (from cupy-cuda12x>=12.0.0->cudf-cu12==24.2.*) (0.8.2)\n",
            "Requirement already satisfied: colorcet in /usr/local/lib/python3.10/dist-packages (from datashader>=0.15->cuxfilter-cu12==24.2.*) (3.1.0)\n",
            "Requirement already satisfied: multipledispatch in /usr/local/lib/python3.10/dist-packages (from datashader>=0.15->cuxfilter-cu12==24.2.*) (1.0.0)\n",
            "Requirement already satisfied: param in /usr/local/lib/python3.10/dist-packages (from datashader>=0.15->cuxfilter-cu12==24.2.*) (2.1.0)\n",
            "Collecting pyct (from datashader>=0.15->cuxfilter-cu12==24.2.*)\n",
            "  Downloading pyct-0.5.0-py2.py3-none-any.whl (15 kB)\n",
            "Requirement already satisfied: requests in /usr/local/lib/python3.10/dist-packages (from datashader>=0.15->cuxfilter-cu12==24.2.*) (2.31.0)\n",
            "Requirement already satisfied: xarray in /usr/local/lib/python3.10/dist-packages (from datashader>=0.15->cuxfilter-cu12==24.2.*) (2023.7.0)\n",
            "Requirement already satisfied: aiohttp!=4.0.0a0,!=4.0.0a1 in /usr/local/lib/python3.10/dist-packages (from fsspec>=0.6.0->cudf-cu12==24.2.*) (3.9.3)\n",
            "Requirement already satisfied: fiona>=1.8.19 in /usr/local/lib/python3.10/dist-packages (from geopandas>=0.11.0->cuspatial-cu12==24.2.*) (1.9.6)\n",
            "Requirement already satisfied: pyproj>=3.0.1 in /usr/local/lib/python3.10/dist-packages (from geopandas>=0.11.0->cuspatial-cu12==24.2.*) (3.6.1)\n",
            "Requirement already satisfied: shapely>=1.7.1 in /usr/local/lib/python3.10/dist-packages (from geopandas>=0.11.0->cuspatial-cu12==24.2.*) (2.0.3)\n",
            "Requirement already satisfied: pyviz-comms>=0.7.4 in /usr/local/lib/python3.10/dist-packages (from holoviews>=1.16.0->cuxfilter-cu12==24.2.*) (3.0.2)\n",
            "Requirement already satisfied: llvmlite<0.42,>=0.41.0dev0 in /usr/local/lib/python3.10/dist-packages (from numba>=0.57->cudf-cu12==24.2.*) (0.41.1)\n",
            "Requirement already satisfied: python-dateutil>=2.8.1 in /usr/local/lib/python3.10/dist-packages (from pandas<1.6.0dev0,>=1.3->cudf-cu12==24.2.*) (2.8.2)\n",
            "Requirement already satisfied: pytz>=2020.1 in /usr/local/lib/python3.10/dist-packages (from pandas<1.6.0dev0,>=1.3->cudf-cu12==24.2.*) (2023.4)\n",
            "Requirement already satisfied: markdown in /usr/local/lib/python3.10/dist-packages (from panel>=1.0->cuxfilter-cu12==24.2.*) (3.6)\n",
            "Requirement already satisfied: markdown-it-py in /usr/local/lib/python3.10/dist-packages (from panel>=1.0->cuxfilter-cu12==24.2.*) (3.0.0)\n",
            "Requirement already satisfied: linkify-it-py in /usr/local/lib/python3.10/dist-packages (from panel>=1.0->cuxfilter-cu12==24.2.*) (2.0.3)\n",
            "Requirement already satisfied: mdit-py-plugins in /usr/local/lib/python3.10/dist-packages (from panel>=1.0->cuxfilter-cu12==24.2.*) (0.4.0)\n",
            "Requirement already satisfied: tqdm>=4.48.0 in /usr/local/lib/python3.10/dist-packages (from panel>=1.0->cuxfilter-cu12==24.2.*) (4.66.2)\n",
            "Requirement already satisfied: bleach in /usr/local/lib/python3.10/dist-packages (from panel>=1.0->cuxfilter-cu12==24.2.*) (6.1.0)\n",
            "Requirement already satisfied: networkx>=2.2 in /usr/local/lib/python3.10/dist-packages (from scikit-image<0.23.0a0,>=0.19.0->cucim-cu12==24.2.*) (3.3)\n",
            "Requirement already satisfied: imageio>=2.4.1 in /usr/local/lib/python3.10/dist-packages (from scikit-image<0.23.0a0,>=0.19.0->cucim-cu12==24.2.*) (2.31.6)\n",
            "Requirement already satisfied: tifffile>=2019.7.26 in /usr/local/lib/python3.10/dist-packages (from scikit-image<0.23.0a0,>=0.19.0->cucim-cu12==24.2.*) (2024.2.12)\n",
            "Requirement already satisfied: PyWavelets>=1.1.1 in /usr/local/lib/python3.10/dist-packages (from scikit-image<0.23.0a0,>=0.19.0->cucim-cu12==24.2.*) (1.6.0)\n",
            "Requirement already satisfied: jupyter-server>=1.0 in /usr/local/lib/python3.10/dist-packages (from jupyter-server-proxy->cuxfilter-cu12==24.2.*) (1.24.0)\n",
            "Collecting simpervisor>=1.0 (from jupyter-server-proxy->cuxfilter-cu12==24.2.*)\n",
            "  Downloading simpervisor-1.0.0-py3-none-any.whl (8.3 kB)\n",
            "Requirement already satisfied: traitlets>=4.2.1 in /usr/local/lib/python3.10/dist-packages (from jupyter-server-proxy->cuxfilter-cu12==24.2.*) (5.7.1)\n",
            "Requirement already satisfied: pygments<3.0.0,>=2.13.0 in /usr/local/lib/python3.10/dist-packages (from rich->cudf-cu12==24.2.*) (2.16.1)\n",
            "Requirement already satisfied: aiosignal>=1.1.2 in /usr/local/lib/python3.10/dist-packages (from aiohttp!=4.0.0a0,!=4.0.0a1->fsspec>=0.6.0->cudf-cu12==24.2.*) (1.3.1)\n",
            "Requirement already satisfied: attrs>=17.3.0 in /usr/local/lib/python3.10/dist-packages (from aiohttp!=4.0.0a0,!=4.0.0a1->fsspec>=0.6.0->cudf-cu12==24.2.*) (23.2.0)\n",
            "Requirement already satisfied: frozenlist>=1.1.1 in /usr/local/lib/python3.10/dist-packages (from aiohttp!=4.0.0a0,!=4.0.0a1->fsspec>=0.6.0->cudf-cu12==24.2.*) (1.4.1)\n",
            "Requirement already satisfied: multidict<7.0,>=4.5 in /usr/local/lib/python3.10/dist-packages (from aiohttp!=4.0.0a0,!=4.0.0a1->fsspec>=0.6.0->cudf-cu12==24.2.*) (6.0.5)\n",
            "Requirement already satisfied: yarl<2.0,>=1.0 in /usr/local/lib/python3.10/dist-packages (from aiohttp!=4.0.0a0,!=4.0.0a1->fsspec>=0.6.0->cudf-cu12==24.2.*) (1.9.4)\n",
            "Requirement already satisfied: async-timeout<5.0,>=4.0 in /usr/local/lib/python3.10/dist-packages (from aiohttp!=4.0.0a0,!=4.0.0a1->fsspec>=0.6.0->cudf-cu12==24.2.*) (4.0.3)\n",
            "Requirement already satisfied: certifi in /usr/local/lib/python3.10/dist-packages (from fiona>=1.8.19->geopandas>=0.11.0->cuspatial-cu12==24.2.*) (2024.2.2)\n",
            "Requirement already satisfied: click-plugins>=1.0 in /usr/local/lib/python3.10/dist-packages (from fiona>=1.8.19->geopandas>=0.11.0->cuspatial-cu12==24.2.*) (1.1.1)\n",
            "Requirement already satisfied: cligj>=0.5 in /usr/local/lib/python3.10/dist-packages (from fiona>=1.8.19->geopandas>=0.11.0->cuspatial-cu12==24.2.*) (0.7.2)\n",
            "Requirement already satisfied: six in /usr/local/lib/python3.10/dist-packages (from fiona>=1.8.19->geopandas>=0.11.0->cuspatial-cu12==24.2.*) (1.16.0)\n",
            "Requirement already satisfied: MarkupSafe>=2.0 in /usr/local/lib/python3.10/dist-packages (from jinja2>=2.10.3->distributed==2024.1.1->rapids-dask-dependency==24.2.*->dask-cudf-cu12==24.2.*) (2.1.5)\n",
            "Requirement already satisfied: anyio<4,>=3.1.0 in /usr/local/lib/python3.10/dist-packages (from jupyter-server>=1.0->jupyter-server-proxy->cuxfilter-cu12==24.2.*) (3.7.1)\n",
            "Requirement already satisfied: argon2-cffi in /usr/local/lib/python3.10/dist-packages (from jupyter-server>=1.0->jupyter-server-proxy->cuxfilter-cu12==24.2.*) (23.1.0)\n",
            "Requirement already satisfied: jupyter-client>=6.1.12 in /usr/local/lib/python3.10/dist-packages (from jupyter-server>=1.0->jupyter-server-proxy->cuxfilter-cu12==24.2.*) (6.1.12)\n",
            "Requirement already satisfied: jupyter-core!=5.0.*,>=4.12 in /usr/local/lib/python3.10/dist-packages (from jupyter-server>=1.0->jupyter-server-proxy->cuxfilter-cu12==24.2.*) (5.7.2)\n",
            "Requirement already satisfied: nbconvert>=6.4.4 in /usr/local/lib/python3.10/dist-packages (from jupyter-server>=1.0->jupyter-server-proxy->cuxfilter-cu12==24.2.*) (6.5.4)\n",
            "Requirement already satisfied: nbformat>=5.2.0 in /usr/local/lib/python3.10/dist-packages (from jupyter-server>=1.0->jupyter-server-proxy->cuxfilter-cu12==24.2.*) (5.10.4)\n",
            "Requirement already satisfied: prometheus-client in /usr/local/lib/python3.10/dist-packages (from jupyter-server>=1.0->jupyter-server-proxy->cuxfilter-cu12==24.2.*) (0.20.0)\n",
            "Requirement already satisfied: pyzmq>=17 in /usr/local/lib/python3.10/dist-packages (from jupyter-server>=1.0->jupyter-server-proxy->cuxfilter-cu12==24.2.*) (23.2.1)\n",
            "Requirement already satisfied: Send2Trash in /usr/local/lib/python3.10/dist-packages (from jupyter-server>=1.0->jupyter-server-proxy->cuxfilter-cu12==24.2.*) (1.8.3)\n",
            "Requirement already satisfied: terminado>=0.8.3 in /usr/local/lib/python3.10/dist-packages (from jupyter-server>=1.0->jupyter-server-proxy->cuxfilter-cu12==24.2.*) (0.18.1)\n",
            "Requirement already satisfied: websocket-client in /usr/local/lib/python3.10/dist-packages (from jupyter-server>=1.0->jupyter-server-proxy->cuxfilter-cu12==24.2.*) (1.7.0)\n",
            "Requirement already satisfied: mdurl~=0.1 in /usr/local/lib/python3.10/dist-packages (from markdown-it-py->panel>=1.0->cuxfilter-cu12==24.2.*) (0.1.2)\n",
            "Requirement already satisfied: webencodings in /usr/local/lib/python3.10/dist-packages (from bleach->panel>=1.0->cuxfilter-cu12==24.2.*) (0.5.1)\n",
            "Requirement already satisfied: uc-micro-py in /usr/local/lib/python3.10/dist-packages (from linkify-it-py->panel>=1.0->cuxfilter-cu12==24.2.*) (1.0.3)\n",
            "Requirement already satisfied: charset-normalizer<4,>=2 in /usr/local/lib/python3.10/dist-packages (from requests->datashader>=0.15->cuxfilter-cu12==24.2.*) (3.3.2)\n",
            "Requirement already satisfied: idna<4,>=2.5 in /usr/local/lib/python3.10/dist-packages (from requests->datashader>=0.15->cuxfilter-cu12==24.2.*) (3.6)\n",
            "Requirement already satisfied: sniffio>=1.1 in /usr/local/lib/python3.10/dist-packages (from anyio<4,>=3.1.0->jupyter-server>=1.0->jupyter-server-proxy->cuxfilter-cu12==24.2.*) (1.3.1)\n",
            "Requirement already satisfied: exceptiongroup in /usr/local/lib/python3.10/dist-packages (from anyio<4,>=3.1.0->jupyter-server>=1.0->jupyter-server-proxy->cuxfilter-cu12==24.2.*) (1.2.0)\n",
            "Requirement already satisfied: zipp>=0.5 in /usr/local/lib/python3.10/dist-packages (from importlib-metadata>=4.13.0->dask==2024.1.1->rapids-dask-dependency==24.2.*->dask-cudf-cu12==24.2.*) (3.18.1)\n",
            "Requirement already satisfied: platformdirs>=2.5 in /usr/local/lib/python3.10/dist-packages (from jupyter-core!=5.0.*,>=4.12->jupyter-server>=1.0->jupyter-server-proxy->cuxfilter-cu12==24.2.*) (4.2.0)\n",
            "Requirement already satisfied: lxml in /usr/local/lib/python3.10/dist-packages (from nbconvert>=6.4.4->jupyter-server>=1.0->jupyter-server-proxy->cuxfilter-cu12==24.2.*) (4.9.4)\n",
            "Requirement already satisfied: beautifulsoup4 in /usr/local/lib/python3.10/dist-packages (from nbconvert>=6.4.4->jupyter-server>=1.0->jupyter-server-proxy->cuxfilter-cu12==24.2.*) (4.12.3)\n",
            "Requirement already satisfied: defusedxml in /usr/local/lib/python3.10/dist-packages (from nbconvert>=6.4.4->jupyter-server>=1.0->jupyter-server-proxy->cuxfilter-cu12==24.2.*) (0.7.1)\n",
            "Requirement already satisfied: entrypoints>=0.2.2 in /usr/local/lib/python3.10/dist-packages (from nbconvert>=6.4.4->jupyter-server>=1.0->jupyter-server-proxy->cuxfilter-cu12==24.2.*) (0.4)\n",
            "Requirement already satisfied: jupyterlab-pygments in /usr/local/lib/python3.10/dist-packages (from nbconvert>=6.4.4->jupyter-server>=1.0->jupyter-server-proxy->cuxfilter-cu12==24.2.*) (0.3.0)\n",
            "Requirement already satisfied: mistune<2,>=0.8.1 in /usr/local/lib/python3.10/dist-packages (from nbconvert>=6.4.4->jupyter-server>=1.0->jupyter-server-proxy->cuxfilter-cu12==24.2.*) (0.8.4)\n",
            "Requirement already satisfied: nbclient>=0.5.0 in /usr/local/lib/python3.10/dist-packages (from nbconvert>=6.4.4->jupyter-server>=1.0->jupyter-server-proxy->cuxfilter-cu12==24.2.*) (0.10.0)\n",
            "Requirement already satisfied: pandocfilters>=1.4.1 in /usr/local/lib/python3.10/dist-packages (from nbconvert>=6.4.4->jupyter-server>=1.0->jupyter-server-proxy->cuxfilter-cu12==24.2.*) (1.5.1)\n",
            "Requirement already satisfied: tinycss2 in /usr/local/lib/python3.10/dist-packages (from nbconvert>=6.4.4->jupyter-server>=1.0->jupyter-server-proxy->cuxfilter-cu12==24.2.*) (1.2.1)\n",
            "Requirement already satisfied: fastjsonschema>=2.15 in /usr/local/lib/python3.10/dist-packages (from nbformat>=5.2.0->jupyter-server>=1.0->jupyter-server-proxy->cuxfilter-cu12==24.2.*) (2.19.1)\n",
            "Requirement already satisfied: jsonschema>=2.6 in /usr/local/lib/python3.10/dist-packages (from nbformat>=5.2.0->jupyter-server>=1.0->jupyter-server-proxy->cuxfilter-cu12==24.2.*) (4.19.2)\n",
            "Requirement already satisfied: ptyprocess in /usr/local/lib/python3.10/dist-packages (from terminado>=0.8.3->jupyter-server>=1.0->jupyter-server-proxy->cuxfilter-cu12==24.2.*) (0.7.0)\n",
            "Requirement already satisfied: argon2-cffi-bindings in /usr/local/lib/python3.10/dist-packages (from argon2-cffi->jupyter-server>=1.0->jupyter-server-proxy->cuxfilter-cu12==24.2.*) (21.2.0)\n",
            "Requirement already satisfied: jsonschema-specifications>=2023.03.6 in /usr/local/lib/python3.10/dist-packages (from jsonschema>=2.6->nbformat>=5.2.0->jupyter-server>=1.0->jupyter-server-proxy->cuxfilter-cu12==24.2.*) (2023.12.1)\n",
            "Requirement already satisfied: referencing>=0.28.4 in /usr/local/lib/python3.10/dist-packages (from jsonschema>=2.6->nbformat>=5.2.0->jupyter-server>=1.0->jupyter-server-proxy->cuxfilter-cu12==24.2.*) (0.34.0)\n",
            "Requirement already satisfied: rpds-py>=0.7.1 in /usr/local/lib/python3.10/dist-packages (from jsonschema>=2.6->nbformat>=5.2.0->jupyter-server>=1.0->jupyter-server-proxy->cuxfilter-cu12==24.2.*) (0.18.0)\n",
            "Requirement already satisfied: cffi>=1.0.1 in /usr/local/lib/python3.10/dist-packages (from argon2-cffi-bindings->argon2-cffi->jupyter-server>=1.0->jupyter-server-proxy->cuxfilter-cu12==24.2.*) (1.16.0)\n",
            "Requirement already satisfied: soupsieve>1.2 in /usr/local/lib/python3.10/dist-packages (from beautifulsoup4->nbconvert>=6.4.4->jupyter-server>=1.0->jupyter-server-proxy->cuxfilter-cu12==24.2.*) (2.5)\n",
            "Requirement already satisfied: pycparser in /usr/local/lib/python3.10/dist-packages (from cffi>=1.0.1->argon2-cffi-bindings->argon2-cffi->jupyter-server>=1.0->jupyter-server-proxy->cuxfilter-cu12==24.2.*) (2.22)\n",
            "Installing collected packages: nvtx, cuda-python, simpervisor, pynvml, pynvjitlink-cu12, pyct, protobuf, numpy, ucx-py-cu12, pandas, dask, treelite, rmm-cu12, distributed, rapids-dask-dependency, pylibraft-cu12, datashader, cuproj-cu12, cudf-cu12, cucim-cu12, pylibcugraph-cu12, dask-cudf-cu12, dask-cuda, cuspatial-cu12, raft-dask-cu12, cuml-cu12, cugraph-cu12, jupyter-server-proxy, cuxfilter-cu12\n",
            "  Attempting uninstall: protobuf\n",
            "    Found existing installation: protobuf 3.20.3\n",
            "    Uninstalling protobuf-3.20.3:\n",
            "      Successfully uninstalled protobuf-3.20.3\n",
            "  Attempting uninstall: numpy\n",
            "    Found existing installation: numpy 1.25.2\n",
            "    Uninstalling numpy-1.25.2:\n",
            "      Successfully uninstalled numpy-1.25.2\n",
            "  Attempting uninstall: pandas\n",
            "    Found existing installation: pandas 2.0.3\n",
            "    Uninstalling pandas-2.0.3:\n",
            "      Successfully uninstalled pandas-2.0.3\n",
            "  Attempting uninstall: dask\n",
            "    Found existing installation: dask 2023.8.1\n",
            "    Uninstalling dask-2023.8.1:\n",
            "      Successfully uninstalled dask-2023.8.1\n",
            "  Attempting uninstall: distributed\n",
            "    Found existing installation: distributed 2023.8.1\n",
            "    Uninstalling distributed-2023.8.1:\n",
            "      Successfully uninstalled distributed-2023.8.1\n",
            "\u001b[31mERROR: pip's dependency resolver does not currently take into account all the packages that are installed. This behaviour is the source of the following dependency conflicts.\n",
            "google-colab 1.0.0 requires pandas==2.0.3, but you have pandas 1.5.3 which is incompatible.\n",
            "pandas-stubs 2.0.3.230814 requires numpy>=1.25.0; python_version >= \"3.9\", but you have numpy 1.24.4 which is incompatible.\n",
            "tensorflow-metadata 1.14.0 requires protobuf<4.21,>=3.20.3, but you have protobuf 4.25.3 which is incompatible.\u001b[0m\u001b[31m\n",
            "\u001b[0mSuccessfully installed cucim-cu12-24.2.0 cuda-python-12.4.0 cudf-cu12-24.2.2 cugraph-cu12-24.2.0 cuml-cu12-24.2.0 cuproj-cu12-24.2.0 cuspatial-cu12-24.2.0 cuxfilter-cu12-24.2.0 dask-2024.1.1 dask-cuda-24.2.0 dask-cudf-cu12-24.2.2 datashader-0.16.0 distributed-2024.1.1 jupyter-server-proxy-4.1.2 numpy-1.24.4 nvtx-0.2.10 pandas-1.5.3 protobuf-4.25.3 pyct-0.5.0 pylibcugraph-cu12-24.2.0 pylibraft-cu12-24.2.0 pynvjitlink-cu12-0.1.14 pynvml-11.4.1 raft-dask-cu12-24.2.0 rapids-dask-dependency-24.2.0 rmm-cu12-24.2.0 simpervisor-1.0.0 treelite-4.0.0 ucx-py-cu12-0.36.0\n"
          ]
        },
        {
          "output_type": "display_data",
          "data": {
            "application/vnd.colab-display-data+json": {
              "pip_warning": {
                "packages": [
                  "numpy",
                  "pandas"
                ]
              },
              "id": "f1e102d9788d4ec98fc5977cec661ab0"
            }
          },
          "metadata": {}
        }
      ]
    },
    {
      "cell_type": "code",
      "metadata": {
        "id": "67T0090Jk2KL",
        "outputId": "4d4ff485-b596-4f15-e018-dbbcbddd72dd",
        "colab": {
          "base_uri": "https://localhost:8080/"
        }
      },
      "source": [
        "!nvidia-smi ## To show the GPU available"
      ],
      "execution_count": null,
      "outputs": [
        {
          "output_type": "stream",
          "name": "stdout",
          "text": [
            "Fri Apr 12 19:29:20 2024       \n",
            "+---------------------------------------------------------------------------------------+\n",
            "| NVIDIA-SMI 535.104.05             Driver Version: 535.104.05   CUDA Version: 12.2     |\n",
            "|-----------------------------------------+----------------------+----------------------+\n",
            "| GPU  Name                 Persistence-M | Bus-Id        Disp.A | Volatile Uncorr. ECC |\n",
            "| Fan  Temp   Perf          Pwr:Usage/Cap |         Memory-Usage | GPU-Util  Compute M. |\n",
            "|                                         |                      |               MIG M. |\n",
            "|=========================================+======================+======================|\n",
            "|   0  Tesla T4                       Off | 00000000:00:04.0 Off |                    0 |\n",
            "| N/A   34C    P8              12W /  70W |      0MiB / 15360MiB |      0%      Default |\n",
            "|                                         |                      |                  N/A |\n",
            "+-----------------------------------------+----------------------+----------------------+\n",
            "                                                                                         \n",
            "+---------------------------------------------------------------------------------------+\n",
            "| Processes:                                                                            |\n",
            "|  GPU   GI   CI        PID   Type   Process name                            GPU Memory |\n",
            "|        ID   ID                                                             Usage      |\n",
            "|=======================================================================================|\n",
            "|  No running processes found                                                           |\n",
            "+---------------------------------------------------------------------------------------+\n"
          ]
        }
      ]
    },
    {
      "cell_type": "code",
      "source": [
        "import cuml"
      ],
      "metadata": {
        "id": "p7FKtaDd31Sh"
      },
      "execution_count": null,
      "outputs": []
    },
    {
      "cell_type": "code",
      "source": [
        "one_hot_encoded_vars = []\n",
        "for column in cat_cols:  # Add all categorical variables here\n",
        "    one_hot_encoded_var = pd.get_dummies(X[column], prefix=column)\n",
        "    one_hot_encoded_vars.append(one_hot_encoded_var)\n",
        "\n",
        "# Concatenate the one-hot encoded columns with the original DataFrame\n",
        "X = pd.concat([X] + one_hot_encoded_vars, axis=1)\n",
        "\n",
        "# Drop the original categorical variables (optional)\n",
        "X.drop(cat_cols, axis=1, inplace=True)  # Add all categorical variables here\n",
        "\n",
        "# Print the resulting DataFrame\n",
        "print(X)\n"
      ],
      "metadata": {
        "colab": {
          "base_uri": "https://localhost:8080/"
        },
        "id": "bJMJuVqUR5mS",
        "outputId": "64f82fc3-6775-44ed-a45a-7022fc86087a"
      },
      "execution_count": null,
      "outputs": [
        {
          "output_type": "stream",
          "name": "stdout",
          "text": [
            "            Area  State_Name_Andaman and Nicobar Islands  \\\n",
            "0         1254.0                                       1   \n",
            "1            2.0                                       1   \n",
            "2          102.0                                       1   \n",
            "3          176.0                                       1   \n",
            "4          720.0                                       1   \n",
            "...          ...                                     ...   \n",
            "246086     306.0                                       0   \n",
            "246087     627.0                                       0   \n",
            "246088     324.0                                       0   \n",
            "246089  279151.0                                       0   \n",
            "246090     175.0                                       0   \n",
            "\n",
            "        State_Name_Andhra Pradesh  State_Name_Arunachal Pradesh  \\\n",
            "0                               0                             0   \n",
            "1                               0                             0   \n",
            "2                               0                             0   \n",
            "3                               0                             0   \n",
            "4                               0                             0   \n",
            "...                           ...                           ...   \n",
            "246086                          0                             0   \n",
            "246087                          0                             0   \n",
            "246088                          0                             0   \n",
            "246089                          0                             0   \n",
            "246090                          0                             0   \n",
            "\n",
            "        State_Name_Assam  State_Name_Bihar  State_Name_Chandigarh  \\\n",
            "0                      0                 0                      0   \n",
            "1                      0                 0                      0   \n",
            "2                      0                 0                      0   \n",
            "3                      0                 0                      0   \n",
            "4                      0                 0                      0   \n",
            "...                  ...               ...                    ...   \n",
            "246086                 0                 0                      0   \n",
            "246087                 0                 0                      0   \n",
            "246088                 0                 0                      0   \n",
            "246089                 0                 0                      0   \n",
            "246090                 0                 0                      0   \n",
            "\n",
            "        State_Name_Chhattisgarh  State_Name_Dadra and Nagar Haveli  \\\n",
            "0                             0                                  0   \n",
            "1                             0                                  0   \n",
            "2                             0                                  0   \n",
            "3                             0                                  0   \n",
            "4                             0                                  0   \n",
            "...                         ...                                ...   \n",
            "246086                        0                                  0   \n",
            "246087                        0                                  0   \n",
            "246088                        0                                  0   \n",
            "246089                        0                                  0   \n",
            "246090                        0                                  0   \n",
            "\n",
            "        State_Name_Goa  ...  Crop_Tobacco  Crop_Tomato  Crop_Total foodgrain  \\\n",
            "0                    0  ...             0            0                     0   \n",
            "1                    0  ...             0            0                     0   \n",
            "2                    0  ...             0            0                     0   \n",
            "3                    0  ...             0            0                     0   \n",
            "4                    0  ...             0            0                     0   \n",
            "...                ...  ...           ...          ...                   ...   \n",
            "246086               0  ...             0            0                     0   \n",
            "246087               0  ...             0            0                     0   \n",
            "246088               0  ...             0            0                     0   \n",
            "246089               0  ...             0            0                     0   \n",
            "246090               0  ...             0            0                     0   \n",
            "\n",
            "        Crop_Turmeric  Crop_Turnip  Crop_Urad  Crop_Varagu  Crop_Wheat  \\\n",
            "0                   0            0          0            0           0   \n",
            "1                   0            0          0            0           0   \n",
            "2                   0            0          0            0           0   \n",
            "3                   0            0          0            0           0   \n",
            "4                   0            0          0            0           0   \n",
            "...               ...          ...        ...          ...         ...   \n",
            "246086              0            0          0            0           0   \n",
            "246087              0            0          0            0           0   \n",
            "246088              0            0          0            0           0   \n",
            "246089              0            0          0            0           0   \n",
            "246090              0            0          0            0           0   \n",
            "\n",
            "        Crop_other misc. pulses  Crop_other oilseeds  \n",
            "0                             0                    0  \n",
            "1                             0                    0  \n",
            "2                             0                    0  \n",
            "3                             0                    0  \n",
            "4                             0                    0  \n",
            "...                         ...                  ...  \n",
            "246086                        0                    0  \n",
            "246087                        0                    0  \n",
            "246088                        0                    0  \n",
            "246089                        0                    0  \n",
            "246090                        0                    0  \n",
            "\n",
            "[238838 rows x 810 columns]\n"
          ]
        }
      ]
    },
    {
      "cell_type": "code",
      "source": [
        "from sklearn.model_selection import train_test_split\n",
        "X_train, X_test, y_train, y_test = train_test_split(X, y, test_size=0.2, random_state=42)"
      ],
      "metadata": {
        "id": "Ja_p0j48QyYY"
      },
      "execution_count": null,
      "outputs": []
    },
    {
      "cell_type": "code",
      "source": [
        "import cudf"
      ],
      "metadata": {
        "id": "BjxWLAg6ybbu"
      },
      "execution_count": null,
      "outputs": []
    },
    {
      "cell_type": "code",
      "source": [
        "X_train_cu = cudf.DataFrame.from_pandas(X_train)\n",
        "X_test_cu = cudf.DataFrame.from_pandas(X_test)\n",
        "y_train_cu = cudf.Series.from_pandas(y_train)\n",
        "y_test_cu = cudf.Series.from_pandas(y_test)"
      ],
      "metadata": {
        "id": "JtCTUs158CYh"
      },
      "execution_count": null,
      "outputs": []
    },
    {
      "cell_type": "code",
      "source": [
        "from cuml.metrics.regression import mean_absolute_error, mean_squared_error, r2_score\n",
        "from cuml.linear_model import LinearRegression\n",
        "from sklearn.preprocessing import StandardScaler\n",
        "\n",
        "\n",
        "# Train the linear regression model\n",
        "model = LinearRegression()\n",
        "model.fit(X_train_cu, y_train_cu)\n",
        "\n",
        "# Predict on the testing set\n",
        "y_pred = model.predict(X_test_cu)\n",
        "\n",
        "# Calculate evaluation metrics\n",
        "mae = mean_absolute_error(y_test_cu, y_pred)\n",
        "rmse = mean_squared_error(y_test_cu, y_pred, squared=False)\n",
        "r2 = r2_score(y_test_cu, y_pred)\n",
        "\n",
        "# Print the evaluation metrics\n",
        "print(\"MAE:\", mae)\n",
        "print(\"RMSE:\", rmse)\n",
        "print(\"R2:\", r2)\n"
      ],
      "metadata": {
        "colab": {
          "base_uri": "https://localhost:8080/"
        },
        "id": "v0DstImt8eH4",
        "outputId": "bcb24538-4fa3-4ca2-fa1d-03f2c35a48c3"
      },
      "execution_count": null,
      "outputs": [
        {
          "output_type": "stream",
          "name": "stderr",
          "text": [
            "/usr/local/lib/python3.10/dist-packages/cuml/internals/api_decorators.py:382: UserWarning: Starting from version 23.08, the new 'copy_X' parameter defaults to 'True', ensuring a copy of X is created after passing it to fit(), preventing any changes to the input, but with increased memory usage. This represents a change in behavior from previous versions. With `copy_X=False` a copy might still be created if necessary. Explicitly set 'copy_X' to either True or False to suppress this warning.\n",
            "  return init_func(self, *args, **filtered_kwargs)\n"
          ]
        },
        {
          "output_type": "stream",
          "name": "stdout",
          "text": [
            "MAE: 2462638.387073647\n",
            "RMSE: 17469573.02865728\n",
            "R2: 0.1924140504799341\n"
          ]
        }
      ]
    },
    {
      "cell_type": "code",
      "source": [
        "import cuml\n",
        "from cuml.metrics.regression import mean_absolute_error, mean_squared_error, r2_score\n",
        "from xgboost import XGBRegressor\n",
        "from cuml.ensemble import RandomForestRegressor\n",
        "from cuml import ForestInference\n",
        "\n",
        "\n",
        "# Random Forest\n",
        "print(\"\\nRandom Forest:\")\n",
        "rf_model = RandomForestRegressor()\n",
        "rf_model.fit(X_train_cu, y_train_cu)\n",
        "y_pred_rf = rf_model.predict(X_test_cu)\n",
        "mae_rf = mean_absolute_error(y_test_cu, y_pred_rf)\n",
        "rmse_rf = mean_squared_error(y_test_cu, y_pred_rf, squared=False)\n",
        "r2_rf = r2_score(y_test_cu, y_pred_rf)\n",
        "print(\"MAE:\", mae_rf)\n",
        "print(\"RMSE:\", rmse_rf)\n",
        "print(\"R2:\", r2_rf)\n",
        "\n",
        "# XGBoost\n",
        "print(\"\\nXGBoost:\")\n",
        "xgb_model = XGBRegressor(device ='cuda')\n",
        "xgb_model.fit(X_train_cu, y_train_cu)\n",
        "y_pred_xgb = xgb_model.predict(X_test_cu)\n",
        "mae_xgb = mean_absolute_error(y_test_cu, y_pred_xgb)\n",
        "rmse_xgb = mean_squared_error(y_test_cu, y_pred_xgb, squared=False)\n",
        "r2_xgb = r2_score(y_test_cu, y_pred_xgb)\n",
        "print(\"MAE:\", mae_xgb)\n",
        "print(\"RMSE:\", rmse_xgb)\n",
        "print(\"R2:\", r2_xgb)\n"
      ],
      "metadata": {
        "colab": {
          "base_uri": "https://localhost:8080/"
        },
        "id": "kI3hjZoP85kx",
        "outputId": "4dd157d3-01a7-4f55-f6c8-575e464b1998"
      },
      "execution_count": null,
      "outputs": [
        {
          "output_type": "stream",
          "name": "stdout",
          "text": [
            "\n",
            "Random Forest:\n"
          ]
        },
        {
          "output_type": "stream",
          "name": "stderr",
          "text": [
            "/usr/local/lib/python3.10/dist-packages/cuml/internals/api_decorators.py:188: UserWarning: To use pickling first train using float32 data to fit the estimator\n",
            "  ret = func(*args, **kwargs)\n"
          ]
        },
        {
          "output_type": "stream",
          "name": "stdout",
          "text": [
            "MAE: 130558.83389439002\n",
            "RMSE: 3735806.9001649953\n",
            "R2: 0.9630688345451629\n",
            "\n",
            "XGBoost:\n",
            "MAE: 156856.97262869496\n",
            "RMSE: 4521809.198226377\n",
            "R2: 0.9458935999621992\n"
          ]
        }
      ]
    },
    {
      "cell_type": "code",
      "source": [
        "# Plotting Actual vs predicted for random forest model\n",
        "y_test_pd = y_test_cu.to_pandas()\n",
        "y_pred_pd = y_pred_rf.to_pandas()\n",
        "plt.scatter(y_test_pd, y_pred_pd, label='Actual vs. Predicted')\n",
        "plt.plot([min(y_test_pd), max(y_test_pd)], [min(y_test_pd), max(y_test_pd)], '--', color='red')\n",
        "plt.xlabel('Actual')\n",
        "plt.ylabel('Predicted')\n",
        "plt.title('Actual vs. Predicted')\n",
        "plt.legend()\n",
        "plt.show()"
      ],
      "metadata": {
        "id": "dlqAeAIm85ni",
        "colab": {
          "base_uri": "https://localhost:8080/",
          "height": 472
        },
        "outputId": "11daf6ce-0138-4b8d-ea64-594497d75821"
      },
      "execution_count": null,
      "outputs": [
        {
          "output_type": "display_data",
          "data": {
            "text/plain": [
              "<Figure size 640x480 with 1 Axes>"
            ],
            "image/png": "[encoded data removed]"
          },
          "metadata": {}
        }
      ]
    },
    {
      "cell_type": "markdown",
      "source": [
        "### Data without outliers"
      ],
      "metadata": {
        "id": "FokrITN20Kv0"
      }
    },
    {
      "cell_type": "code",
      "source": [
        "X = crop_no_outliers.drop(['Production'], axis = 'columns')\n",
        "y = crop_no_outliers['Production']"
      ],
      "metadata": {
        "id": "2pk4IECW85p2"
      },
      "execution_count": null,
      "outputs": []
    },
    {
      "cell_type": "code",
      "source": [
        "one_hot_encoded_vars = []\n",
        "for column in cat_cols:  # Add all categorical variables here\n",
        "    one_hot_encoded_var = pd.get_dummies(X[column], prefix=column)\n",
        "    one_hot_encoded_vars.append(one_hot_encoded_var)\n",
        "\n",
        "# Concatenate the one-hot encoded columns with the original DataFrame\n",
        "X = pd.concat([X] + one_hot_encoded_vars, axis=1)\n",
        "\n",
        "# Drop the original categorical variables (optional)\n",
        "X.drop(cat_cols, axis=1, inplace=True)  # Add all categorical variables here\n",
        "\n",
        "# Print the resulting DataFrame\n",
        "print(X)"
      ],
      "metadata": {
        "colab": {
          "base_uri": "https://localhost:8080/"
        },
        "id": "CQYE6HUG16O8",
        "outputId": "580bd77e-4407-46be-d5ed-bf411cf5b965"
      },
      "execution_count": null,
      "outputs": [
        {
          "output_type": "stream",
          "name": "stdout",
          "text": [
            "          Area  State_Name_Andaman and Nicobar Islands  \\\n",
            "0       1254.0                                       1   \n",
            "1          2.0                                       1   \n",
            "2        102.0                                       1   \n",
            "3        176.0                                       1   \n",
            "4        720.0                                       1   \n",
            "...        ...                                     ...   \n",
            "246085   325.0                                       0   \n",
            "246086   306.0                                       0   \n",
            "246087   627.0                                       0   \n",
            "246088   324.0                                       0   \n",
            "246090   175.0                                       0   \n",
            "\n",
            "        State_Name_Andhra Pradesh  State_Name_Arunachal Pradesh  \\\n",
            "0                               0                             0   \n",
            "1                               0                             0   \n",
            "2                               0                             0   \n",
            "3                               0                             0   \n",
            "4                               0                             0   \n",
            "...                           ...                           ...   \n",
            "246085                          0                             0   \n",
            "246086                          0                             0   \n",
            "246087                          0                             0   \n",
            "246088                          0                             0   \n",
            "246090                          0                             0   \n",
            "\n",
            "        State_Name_Assam  State_Name_Bihar  State_Name_Chandigarh  \\\n",
            "0                      0                 0                      0   \n",
            "1                      0                 0                      0   \n",
            "2                      0                 0                      0   \n",
            "3                      0                 0                      0   \n",
            "4                      0                 0                      0   \n",
            "...                  ...               ...                    ...   \n",
            "246085                 0                 0                      0   \n",
            "246086                 0                 0                      0   \n",
            "246087                 0                 0                      0   \n",
            "246088                 0                 0                      0   \n",
            "246090                 0                 0                      0   \n",
            "\n",
            "        State_Name_Chhattisgarh  State_Name_Dadra and Nagar Haveli  \\\n",
            "0                             0                                  0   \n",
            "1                             0                                  0   \n",
            "2                             0                                  0   \n",
            "3                             0                                  0   \n",
            "4                             0                                  0   \n",
            "...                         ...                                ...   \n",
            "246085                        0                                  0   \n",
            "246086                        0                                  0   \n",
            "246087                        0                                  0   \n",
            "246088                        0                                  0   \n",
            "246090                        0                                  0   \n",
            "\n",
            "        State_Name_Goa  ...  Crop_Tobacco  Crop_Tomato  Crop_Total foodgrain  \\\n",
            "0                    0  ...             0            0                     0   \n",
            "1                    0  ...             0            0                     0   \n",
            "2                    0  ...             0            0                     0   \n",
            "3                    0  ...             0            0                     0   \n",
            "4                    0  ...             0            0                     0   \n",
            "...                ...  ...           ...          ...                   ...   \n",
            "246085               0  ...             0            0                     0   \n",
            "246086               0  ...             0            0                     0   \n",
            "246087               0  ...             0            0                     0   \n",
            "246088               0  ...             0            0                     0   \n",
            "246090               0  ...             0            0                     0   \n",
            "\n",
            "        Crop_Turmeric  Crop_Turnip  Crop_Urad  Crop_Varagu  Crop_Wheat  \\\n",
            "0                   0            0          0            0           0   \n",
            "1                   0            0          0            0           0   \n",
            "2                   0            0          0            0           0   \n",
            "3                   0            0          0            0           0   \n",
            "4                   0            0          0            0           0   \n",
            "...               ...          ...        ...          ...         ...   \n",
            "246085              0            0          0            0           0   \n",
            "246086              0            0          0            0           0   \n",
            "246087              0            0          0            0           0   \n",
            "246088              0            0          0            0           0   \n",
            "246090              0            0          0            0           0   \n",
            "\n",
            "        Crop_other misc. pulses  Crop_other oilseeds  \n",
            "0                             0                    0  \n",
            "1                             0                    0  \n",
            "2                             0                    0  \n",
            "3                             0                    0  \n",
            "4                             0                    0  \n",
            "...                         ...                  ...  \n",
            "246085                        0                    0  \n",
            "246086                        0                    0  \n",
            "246087                        0                    0  \n",
            "246088                        0                    0  \n",
            "246090                        0                    0  \n",
            "\n",
            "[188054 rows x 810 columns]\n"
          ]
        }
      ]
    },
    {
      "cell_type": "code",
      "source": [
        "X_train, X_test, y_train, y_test = train_test_split(X, y, test_size=0.2, random_state=42)"
      ],
      "metadata": {
        "id": "JUpqVPoY85sW"
      },
      "execution_count": null,
      "outputs": []
    },
    {
      "cell_type": "code",
      "source": [
        "X_train_cu = cudf.DataFrame.from_pandas(X_train)\n",
        "X_test_cu = cudf.DataFrame.from_pandas(X_test)\n",
        "y_train_cu = cudf.Series.from_pandas(y_train)\n",
        "y_test_cu = cudf.Series.from_pandas(y_test)"
      ],
      "metadata": {
        "id": "Bym2egtw85um"
      },
      "execution_count": null,
      "outputs": []
    },
    {
      "cell_type": "code",
      "source": [
        "# Train the linear regression model\n",
        "model = LinearRegression()\n",
        "model.fit(X_train_cu, y_train_cu)\n",
        "\n",
        "# Predict on the testing set\n",
        "y_pred = model.predict(X_test_cu)\n",
        "\n",
        "# Calculate evaluation metrics\n",
        "mae = mean_absolute_error(y_test_cu, y_pred)\n",
        "rmse = mean_squared_error(y_test_cu, y_pred, squared=False)\n",
        "r2 = r2_score(y_test_cu, y_pred)\n",
        "\n",
        "# Print the evaluation metrics\n",
        "print(\"MAE:\", mae)\n",
        "print(\"RMSE:\", rmse)\n",
        "print(\"R2:\", r2)"
      ],
      "metadata": {
        "colab": {
          "base_uri": "https://localhost:8080/"
        },
        "id": "jNOm_y-s0h6E",
        "outputId": "be077061-09f7-4825-9aa5-d045926cb264"
      },
      "execution_count": null,
      "outputs": [
        {
          "output_type": "stream",
          "name": "stderr",
          "text": [
            "/usr/local/lib/python3.10/dist-packages/cuml/internals/api_decorators.py:382: UserWarning: Starting from version 23.08, the new 'copy_X' parameter defaults to 'True', ensuring a copy of X is created after passing it to fit(), preventing any changes to the input, but with increased memory usage. This represents a change in behavior from previous versions. With `copy_X=False` a copy might still be created if necessary. Explicitly set 'copy_X' to either True or False to suppress this warning.\n",
            "  return init_func(self, *args, **filtered_kwargs)\n"
          ]
        },
        {
          "output_type": "stream",
          "name": "stdout",
          "text": [
            "MAE: 1178.0066999220955\n",
            "RMSE: 1999.993713893787\n",
            "R2: 0.5614125756144543\n"
          ]
        }
      ]
    },
    {
      "cell_type": "code",
      "source": [
        "# Random Forest\n",
        "print(\"\\nRandom Forest:\")\n",
        "rf_model = RandomForestRegressor()\n",
        "rf_model.fit(X_train_cu, y_train_cu)\n",
        "y_pred_rf = rf_model.predict(X_test_cu)\n",
        "mae_rf = mean_absolute_error(y_test_cu, y_pred_rf)\n",
        "rmse_rf = mean_squared_error(y_test_cu, y_pred_rf, squared=False)\n",
        "r2_rf = r2_score(y_test_cu, y_pred_rf)\n",
        "print(\"MAE:\", mae_rf)\n",
        "print(\"RMSE:\", rmse_rf)\n",
        "print(\"R2:\", r2_rf)\n",
        "\n",
        "# XGBoost\n",
        "print(\"\\nXGBoost:\")\n",
        "xgb_model = XGBRegressor(device ='cuda')\n",
        "xgb_model.fit(X_train_cu, y_train_cu)\n",
        "y_pred_xgb = xgb_model.predict(X_test_cu)\n",
        "mae_xgb = mean_absolute_error(y_test_cu, y_pred_xgb)\n",
        "rmse_xgb = mean_squared_error(y_test_cu, y_pred_xgb, squared=False)\n",
        "r2_xgb = r2_score(y_test_cu, y_pred_xgb)\n",
        "print(\"MAE:\", mae_xgb)\n",
        "print(\"RMSE:\", rmse_xgb)\n",
        "print(\"R2:\", r2_xgb)"
      ],
      "metadata": {
        "colab": {
          "base_uri": "https://localhost:8080/"
        },
        "id": "nf_4huTa0h82",
        "outputId": "12f9faa8-8cf3-4366-bce3-1e432d01d11f"
      },
      "execution_count": null,
      "outputs": [
        {
          "output_type": "stream",
          "name": "stdout",
          "text": [
            "\n",
            "Random Forest:\n"
          ]
        },
        {
          "output_type": "stream",
          "name": "stderr",
          "text": [
            "/usr/local/lib/python3.10/dist-packages/cuml/internals/api_decorators.py:188: UserWarning: To use pickling first train using float32 data to fit the estimator\n",
            "  ret = func(*args, **kwargs)\n"
          ]
        },
        {
          "output_type": "stream",
          "name": "stdout",
          "text": [
            "MAE: 619.5322040191489\n",
            "RMSE: 1312.6474627071107\n",
            "R2: 0.8110725248937587\n",
            "\n",
            "XGBoost:\n",
            "MAE: 548.1062719382529\n",
            "RMSE: 1175.8832729226544\n",
            "R2: 0.848390177691921\n"
          ]
        }
      ]
    },
    {
      "cell_type": "code",
      "source": [
        "# Plotting Actual vs predicted for xgboost model\n",
        "y_test_pd = y_test_cu.to_pandas()\n",
        "plt.scatter(y_test_pd, y_pred_xgb, label='Actual vs. Predicted')\n",
        "plt.plot([min(y_test_pd), max(y_test_pd)], [min(y_test_pd), max(y_test_pd)], '--', color='red')\n",
        "plt.xlabel('Actual')\n",
        "plt.ylabel('Predicted')\n",
        "plt.title('Actual vs. Predicted')\n",
        "plt.legend()\n",
        "plt.show()"
      ],
      "metadata": {
        "colab": {
          "base_uri": "https://localhost:8080/",
          "height": 472
        },
        "id": "PhVDF5zI0h_c",
        "outputId": "20efdd90-d08f-4251-9142-df9319a7ac9f"
      },
      "execution_count": null,
      "outputs": [
        {
          "output_type": "display_data",
          "data": {
            "text/plain": [
              "<Figure size 640x480 with 1 Axes>"
            ],
            "image/png": "[encoded data removed]"
          },
          "metadata": {}
        }
      ]
    }
  ]
}